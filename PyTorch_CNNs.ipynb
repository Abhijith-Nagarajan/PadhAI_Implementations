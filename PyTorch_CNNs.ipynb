{
  "nbformat": 4,
  "nbformat_minor": 0,
  "metadata": {
    "colab": {
      "provenance": [],
      "authorship_tag": "ABX9TyPMbmn/5PQXMmI1FrDYeFXG",
      "include_colab_link": true
    },
    "kernelspec": {
      "name": "python3",
      "display_name": "Python 3"
    },
    "language_info": {
      "name": "python"
    }
  },
  "cells": [
    {
      "cell_type": "markdown",
      "metadata": {
        "id": "view-in-github",
        "colab_type": "text"
      },
      "source": [
        "<a href=\"https://colab.research.google.com/github/Abhijith-Nagarajan/PadhAI_Implementations/blob/main/PyTorch_CNNs.ipynb\" target=\"_parent\"><img src=\"https://colab.research.google.com/assets/colab-badge.svg\" alt=\"Open In Colab\"/></a>"
      ]
    },
    {
      "cell_type": "code",
      "source": [
        "import torch\n",
        "import matplotlib.pyplot as plt\n",
        "import numpy as np"
      ],
      "metadata": {
        "id": "ieYO66mkYfq_"
      },
      "execution_count": 1,
      "outputs": []
    },
    {
      "cell_type": "code",
      "source": [
        "import torchvision\n",
        "import torch.nn as nn\n",
        "import torch.optim as optim\n",
        "import torchvision.transforms as transforms"
      ],
      "metadata": {
        "id": "e535EB6saf5W"
      },
      "execution_count": 2,
      "outputs": []
    },
    {
      "cell_type": "code",
      "source": [
        "train_df = torchvision.datasets.CIFAR10(root='./data',\n",
        "                                        train = True,\n",
        "                                        download = True,\n",
        "                                        transform = transforms.ToTensor())"
      ],
      "metadata": {
        "colab": {
          "base_uri": "https://localhost:8080/"
        },
        "id": "iGpDf1ovbFxt",
        "outputId": "33b037c2-837c-40d6-be09-cb8508d4c428"
      },
      "execution_count": 4,
      "outputs": [
        {
          "output_type": "stream",
          "name": "stdout",
          "text": [
            "Downloading https://www.cs.toronto.edu/~kriz/cifar-10-python.tar.gz to ./data/cifar-10-python.tar.gz\n"
          ]
        },
        {
          "output_type": "stream",
          "name": "stderr",
          "text": [
            "100%|██████████| 170498071/170498071 [00:04<00:00, 41166654.91it/s]\n"
          ]
        },
        {
          "output_type": "stream",
          "name": "stdout",
          "text": [
            "Extracting ./data/cifar-10-python.tar.gz to ./data\n"
          ]
        }
      ]
    },
    {
      "cell_type": "code",
      "source": [
        "train_loader = torch.utils.data.DataLoader(train_df,batch_size = 8,shuffle = True)"
      ],
      "metadata": {
        "id": "hhw4FFmybmPH"
      },
      "execution_count": 5,
      "outputs": []
    },
    {
      "cell_type": "markdown",
      "source": [
        "### Visualizing images"
      ],
      "metadata": {
        "id": "E6o4x369L9nR"
      }
    },
    {
      "cell_type": "code",
      "source": [
        "data_iter = iter(train_loader)"
      ],
      "metadata": {
        "id": "Kv9ReqCTfHIq"
      },
      "execution_count": null,
      "outputs": []
    },
    {
      "cell_type": "code",
      "source": [
        "images, labels = next(data_iter)"
      ],
      "metadata": {
        "id": "YBb6YIr2fv5w"
      },
      "execution_count": null,
      "outputs": []
    },
    {
      "cell_type": "code",
      "source": [
        "labels"
      ],
      "metadata": {
        "id": "ej7TaKopS5Jk",
        "outputId": "87d95016-aee3-405b-94a7-fcb9d46fe956",
        "colab": {
          "base_uri": "https://localhost:8080/"
        }
      },
      "execution_count": null,
      "outputs": [
        {
          "output_type": "execute_result",
          "data": {
            "text/plain": [
              "tensor([8, 8, 9, 2, 8, 3, 6, 2])"
            ]
          },
          "metadata": {},
          "execution_count": 29
        }
      ]
    },
    {
      "cell_type": "code",
      "source": [
        "img = images[0]"
      ],
      "metadata": {
        "id": "RYFvcOrTgFLL"
      },
      "execution_count": null,
      "outputs": []
    },
    {
      "cell_type": "code",
      "source": [
        "np_img = img.numpy()"
      ],
      "metadata": {
        "id": "Skr7D-gFgHHI"
      },
      "execution_count": null,
      "outputs": []
    },
    {
      "cell_type": "code",
      "source": [
        "np_img.shape"
      ],
      "metadata": {
        "colab": {
          "base_uri": "https://localhost:8080/"
        },
        "id": "l1w3LMkXg33Z",
        "outputId": "ae2b84cb-c891-4e05-8a09-1655d391c317"
      },
      "execution_count": null,
      "outputs": [
        {
          "output_type": "execute_result",
          "data": {
            "text/plain": [
              "(3, 32, 32)"
            ]
          },
          "metadata": {},
          "execution_count": 32
        }
      ]
    },
    {
      "cell_type": "code",
      "source": [
        "transposed_np_img = np.transpose(np_img,(1,2,0))"
      ],
      "metadata": {
        "id": "OawxHIf2gqxb"
      },
      "execution_count": null,
      "outputs": []
    },
    {
      "cell_type": "code",
      "source": [
        "transposed_np_img.shape"
      ],
      "metadata": {
        "colab": {
          "base_uri": "https://localhost:8080/"
        },
        "id": "a5OCZ2ozg9ou",
        "outputId": "7b45297f-a3fd-47b5-f134-8dcc63ea0d5d"
      },
      "execution_count": null,
      "outputs": [
        {
          "output_type": "execute_result",
          "data": {
            "text/plain": [
              "(32, 32, 3)"
            ]
          },
          "metadata": {},
          "execution_count": 34
        }
      ]
    },
    {
      "cell_type": "code",
      "source": [
        "plt.figure(figsize=(1,1))\n",
        "plt.imshow(transposed_np_img)\n",
        "plt.show()"
      ],
      "metadata": {
        "colab": {
          "base_uri": "https://localhost:8080/",
          "height": 142
        },
        "id": "fNyXwLj4g_gl",
        "outputId": "3f9a904f-6978-4582-b587-8e20acfe24ee"
      },
      "execution_count": null,
      "outputs": [
        {
          "output_type": "display_data",
          "data": {
            "text/plain": [
              "<Figure size 100x100 with 1 Axes>"
            ],
            "image/png": "[encoded data removed]"
          },
          "metadata": {}
        }
      ]
    },
    {
      "cell_type": "markdown",
      "source": [
        "# Building the LeNet model"
      ],
      "metadata": {
        "id": "KghM1z-qctoQ"
      }
    },
    {
      "cell_type": "code",
      "execution_count": 6,
      "metadata": {
        "id": "Pj57X8KMZZp_"
      },
      "outputs": [],
      "source": [
        "class LeNet(nn.Module):\n",
        "    def __init__(self):\n",
        "        super(LeNet,self).__init__()\n",
        "        # Module 1 - CNN block\n",
        "        self.cnn_module = nn.Sequential(\n",
        "                            nn.Conv2d(3,6,5),            # (32,32,3) --> (28,28,6) [6 filters used with 5x5 filter size]\n",
        "                            nn.ReLU(),                   # Originally used Tanh\n",
        "                            nn.AvgPool2d(2,stride=2),     # (28,28,6) --> (14,14,6)\n",
        "                            nn.Conv2d(6,16,5),            # (14,14,6) --> (10,10,16)\n",
        "                            nn.ReLU(),                   # Originally used Tanh\n",
        "                            nn.AvgPool2d(2,stride=2)      # (10,10,16) --> (5,5,16)\n",
        "        )\n",
        "        # Module 2 - FCN block\n",
        "        self.ffn_module = nn.Sequential(\n",
        "                            nn.Linear(400,120),           # 5*5*16 = 400 -> Flatten image\n",
        "                            nn.ReLU(),\n",
        "                            nn.Linear(120,84),\n",
        "                            nn.ReLU(),\n",
        "                            nn.Linear(84,10)\n",
        "        )\n",
        "\n",
        "    def forward(self,image):\n",
        "        x = self.cnn_module(image)\n",
        "        x = x.view(x.size(0),-1) # To flatten the image for FCN\n",
        "        x = self.ffn_module(x)\n",
        "        return x\n"
      ]
    },
    {
      "cell_type": "markdown",
      "source": [
        "### Testing with one image"
      ],
      "metadata": {
        "id": "HQ8O0u0HDI1u"
      }
    },
    {
      "cell_type": "code",
      "source": [
        "model = LeNet()"
      ],
      "metadata": {
        "id": "9-ZAcMAsZbVa"
      },
      "execution_count": 7,
      "outputs": []
    },
    {
      "cell_type": "code",
      "source": [
        "output = model(images)"
      ],
      "metadata": {
        "id": "b27umAjqSYGD"
      },
      "execution_count": null,
      "outputs": []
    },
    {
      "cell_type": "code",
      "source": [
        "print(output)"
      ],
      "metadata": {
        "colab": {
          "base_uri": "https://localhost:8080/"
        },
        "id": "PlORzgHOSdbA",
        "outputId": "875d7cd3-3849-45f6-be75-9504d0e94a7a"
      },
      "execution_count": null,
      "outputs": [
        {
          "output_type": "stream",
          "name": "stdout",
          "text": [
            "tensor([[ 0.0414, -0.0220, -0.0658,  ..., -0.0767, -0.1426,  0.1052],\n",
            "        [ 0.0442, -0.0035, -0.0585,  ..., -0.0773, -0.1488,  0.0993],\n",
            "        [ 0.0297, -0.0136, -0.0463,  ..., -0.0803, -0.1513,  0.0893],\n",
            "        ...,\n",
            "        [ 0.0526, -0.0240, -0.0634,  ..., -0.0774, -0.1452,  0.1041],\n",
            "        [ 0.0480, -0.0325, -0.0747,  ..., -0.0935, -0.1171,  0.1044],\n",
            "        [ 0.0282, -0.0058, -0.0508,  ..., -0.0832, -0.1512,  0.0905]],\n",
            "       grad_fn=<AddmmBackward0>)\n"
          ]
        }
      ]
    },
    {
      "cell_type": "code",
      "source": [
        "output.shape"
      ],
      "metadata": {
        "colab": {
          "base_uri": "https://localhost:8080/"
        },
        "id": "RAmZca1hSfaJ",
        "outputId": "6d0848ad-85fa-4799-d8a4-445e39b4d8e1"
      },
      "execution_count": null,
      "outputs": [
        {
          "output_type": "execute_result",
          "data": {
            "text/plain": [
              "torch.Size([128, 10])"
            ]
          },
          "metadata": {},
          "execution_count": 12
        }
      ]
    },
    {
      "cell_type": "code",
      "source": [
        "max_vals, pred_class = torch.max(output.data,1)"
      ],
      "metadata": {
        "id": "4iFxcEJ3SkQz"
      },
      "execution_count": null,
      "outputs": []
    },
    {
      "cell_type": "code",
      "source": [
        "print(pred_class)"
      ],
      "metadata": {
        "colab": {
          "base_uri": "https://localhost:8080/"
        },
        "id": "MD8pOXbxSyid",
        "outputId": "c3c131b8-f0f4-4270-edde-a68d19264b58"
      },
      "execution_count": null,
      "outputs": [
        {
          "output_type": "stream",
          "name": "stdout",
          "text": [
            "tensor([4, 4, 4, 4, 4, 4, 4, 4, 4, 4, 4, 4, 4, 4, 4, 4, 4, 4, 4, 4, 4, 4, 4, 4,\n",
            "        4, 4, 4, 4, 4, 4, 4, 4, 4, 4, 4, 4, 4, 4, 4, 4, 4, 4, 4, 4, 4, 4, 4, 4,\n",
            "        4, 4, 4, 4, 4, 4, 4, 4, 4, 4, 4, 4, 4, 4, 4, 4, 4, 4, 4, 4, 4, 4, 4, 4,\n",
            "        4, 4, 4, 4, 4, 4, 4, 4, 4, 4, 4, 4, 4, 4, 4, 4, 4, 4, 4, 4, 4, 4, 4, 4,\n",
            "        4, 4, 4, 4, 4, 4, 4, 4, 4, 4, 4, 4, 4, 4, 4, 4, 4, 4, 4, 4, 4, 4, 4, 4,\n",
            "        4, 4, 4, 4, 4, 4, 4, 4])\n"
          ]
        }
      ]
    },
    {
      "cell_type": "markdown",
      "source": [
        "### Building model with training loop"
      ],
      "metadata": {
        "id": "jts92eqmDOGN"
      }
    },
    {
      "cell_type": "code",
      "source": [
        "model = LeNet()"
      ],
      "metadata": {
        "id": "7dxnRrn7DS-s"
      },
      "execution_count": null,
      "outputs": []
    },
    {
      "cell_type": "code",
      "source": [
        "loss_fn = nn.CrossEntropyLoss()\n",
        "opt = optim.Adam(model.parameters(),lr=0.0001,weight_decay = 0.001)"
      ],
      "metadata": {
        "id": "rOCA9lLm8mjS"
      },
      "execution_count": 8,
      "outputs": []
    },
    {
      "cell_type": "code",
      "source": [
        "loss_per_image = []\n",
        "epochs = 5"
      ],
      "metadata": {
        "id": "lZamVRhE8dIu"
      },
      "execution_count": 9,
      "outputs": []
    },
    {
      "cell_type": "code",
      "source": [
        "def evaluate():\n",
        "    '''\n",
        "    '''"
      ],
      "metadata": {
        "id": "yrAl68kDS1HD"
      },
      "execution_count": null,
      "outputs": []
    },
    {
      "cell_type": "code",
      "source": [
        "total, correct = 0,0\n",
        "for epoch in range(epochs):\n",
        "    #batch = 1\n",
        "    for i, data in enumerate(train_loader,0):\n",
        "        images, labels = data\n",
        "        opt.zero_grad()\n",
        "\n",
        "        labels = labels.to(torch.float)\n",
        "        #print(f\"Actual Labels:\\n\",labels)\n",
        "\n",
        "        predictions = model(images)\n",
        "        #print(f\"\\nPredictions object:\\n\",predictions)\n",
        "\n",
        "        _, pred_class = torch.max(predictions.data,1)\n",
        "        pred_class = pred_class.to(torch.float)\n",
        "        #print(f\"\\nPredictions Data object:\\n\",pred_class)\n",
        "\n",
        "        loss = loss_fn(pred_class,labels)\n",
        "        #print(f'\\nLoss: ',loss)\n",
        "\n",
        "        total+= labels.size(0)\n",
        "        correct+= (labels==pred_class).sum().item()\n",
        "        loss_per_image.append(loss.item())\n",
        "\n",
        "        loss.requires_grad = True\n",
        "        loss.backward()\n",
        "        opt.step()\n",
        "\n",
        "        '''\n",
        "        if batch == 1:\n",
        "            print('Exiting loop')\n",
        "            break\n",
        "\n",
        "        print('Loop not exited')\n",
        "        '''"
      ],
      "metadata": {
        "id": "vT8gF0m_8U5u"
      },
      "execution_count": 11,
      "outputs": []
    },
    {
      "cell_type": "code",
      "source": [
        "total, correct"
      ],
      "metadata": {
        "colab": {
          "base_uri": "https://localhost:8080/"
        },
        "id": "OUgZdg1S3Fyu",
        "outputId": "65bd6e6d-fd43-4c94-bb96-5f3eb783490a"
      },
      "execution_count": 12,
      "outputs": [
        {
          "output_type": "execute_result",
          "data": {
            "text/plain": [
              "(250000, 25000)"
            ]
          },
          "metadata": {},
          "execution_count": 12
        }
      ]
    },
    {
      "cell_type": "code",
      "source": [
        "plt.figure(figsize=(15,6))\n",
        "plt.plot(loss_per_image)\n",
        "plt.show()"
      ],
      "metadata": {
        "colab": {
          "base_uri": "https://localhost:8080/",
          "height": 524
        },
        "id": "u6trr3ZiDCLd",
        "outputId": "0c79a266-1466-416c-d52b-c012c2019c4a"
      },
      "execution_count": 30,
      "outputs": [
        {
          "output_type": "display_data",
          "data": {
            "text/plain": [
              "<Figure size 1500x600 with 1 Axes>"
            ],
            "image/png": "[encoded data removed]"
          },
          "metadata": {}
        }
      ]
    },
    {
      "cell_type": "code",
      "source": [],
      "metadata": {
        "id": "6TCFJ98PWdrl"
      },
      "execution_count": null,
      "outputs": []
    }
  ]
}