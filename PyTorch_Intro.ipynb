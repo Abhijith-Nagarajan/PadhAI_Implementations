{
  "nbformat": 4,
  "nbformat_minor": 0,
  "metadata": {
    "colab": {
      "provenance": [],
      "gpuType": "T4",
      "authorship_tag": "ABX9TyM29qDKZEJm+y8c6veHZHQ9",
      "include_colab_link": true
    },
    "kernelspec": {
      "name": "python3",
      "display_name": "Python 3"
    },
    "language_info": {
      "name": "python"
    },
    "accelerator": "GPU"
  },
  "cells": [
    {
      "cell_type": "markdown",
      "metadata": {
        "id": "view-in-github",
        "colab_type": "text"
      },
      "source": [
        "<a href=\"https://colab.research.google.com/github/Abhijith-Nagarajan/PadhAI_Implementations/blob/main/PyTorch_Intro.ipynb\" target=\"_parent\"><img src=\"https://colab.research.google.com/assets/colab-badge.svg\" alt=\"Open In Colab\"/></a>"
      ]
    },
    {
      "cell_type": "code",
      "execution_count": 2,
      "metadata": {
        "id": "zRi79qePS0VN"
      },
      "outputs": [],
      "source": [
        "import torch\n",
        "import numpy as np"
      ]
    },
    {
      "cell_type": "code",
      "source": [
        "import time"
      ],
      "metadata": {
        "id": "BCGQOLxVXXTY"
      },
      "execution_count": null,
      "outputs": []
    },
    {
      "cell_type": "markdown",
      "source": [
        "#### Numpy vs Torch"
      ],
      "metadata": {
        "id": "-uukIPjWWZUf"
      }
    },
    {
      "cell_type": "code",
      "source": [
        "t1_cpu = torch.rand(10000,10000)\n",
        "t2_cpu = torch.rand(10000,10000)\n",
        "n1 = np.random.rand(10000,10000)\n",
        "n2 = np.random.rand(10000,10000)"
      ],
      "metadata": {
        "id": "vIVIWzP0aQ99"
      },
      "execution_count": null,
      "outputs": []
    },
    {
      "cell_type": "code",
      "source": [
        "%timeit\n",
        "torch.matmul(t1_cpu,t2_cpu)"
      ],
      "metadata": {
        "colab": {
          "base_uri": "https://localhost:8080/"
        },
        "id": "GL7xaqnncKXo",
        "outputId": "1068e9f8-d910-463d-8935-53cc2db98d7f"
      },
      "execution_count": null,
      "outputs": [
        {
          "output_type": "execute_result",
          "data": {
            "text/plain": [
              "tensor([[2499.9170, 2493.0967, 2480.2927,  ..., 2465.6812, 2514.3569,\n",
              "         2483.8689],\n",
              "        [2540.5813, 2527.1001, 2526.7402,  ..., 2506.1538, 2546.0852,\n",
              "         2532.7439],\n",
              "        [2540.2122, 2548.6917, 2546.8420,  ..., 2508.9221, 2566.0166,\n",
              "         2555.8655],\n",
              "        ...,\n",
              "        [2504.7231, 2474.8550, 2495.3953,  ..., 2460.7991, 2495.2456,\n",
              "         2494.7983],\n",
              "        [2504.6807, 2530.6089, 2494.1211,  ..., 2480.5576, 2524.7429,\n",
              "         2513.0647],\n",
              "        [2523.5400, 2519.4895, 2523.3132,  ..., 2509.4067, 2548.7229,\n",
              "         2529.1426]])"
            ]
          },
          "metadata": {},
          "execution_count": 3
        }
      ]
    },
    {
      "cell_type": "code",
      "source": [
        "%timeit\n",
        "np.matmul(n1,n2)"
      ],
      "metadata": {
        "colab": {
          "base_uri": "https://localhost:8080/"
        },
        "id": "WGtUwr3HcV3M",
        "outputId": "20a2602e-5ab1-4965-e88e-4842c8ed8508"
      },
      "execution_count": null,
      "outputs": [
        {
          "output_type": "execute_result",
          "data": {
            "text/plain": [
              "array([[2494.48525009, 2510.9557902 , 2501.27198668, ..., 2542.19756653,\n",
              "        2529.59649212, 2517.05596801],\n",
              "       [2492.04236243, 2532.09265513, 2487.90038279, ..., 2531.46015206,\n",
              "        2544.00345436, 2505.05793283],\n",
              "       [2460.46887452, 2451.59334611, 2453.55103164, ..., 2483.40292216,\n",
              "        2486.46785132, 2457.29986758],\n",
              "       ...,\n",
              "       [2489.53173066, 2490.35439993, 2484.20228343, ..., 2522.37800905,\n",
              "        2524.27809434, 2484.08090673],\n",
              "       [2468.54952269, 2504.44917688, 2495.78776398, ..., 2529.1117802 ,\n",
              "        2507.81712966, 2502.10996621],\n",
              "       [2483.60196609, 2490.52045157, 2486.87966377, ..., 2510.76372723,\n",
              "        2529.8636999 , 2490.42027807]])"
            ]
          },
          "metadata": {},
          "execution_count": 4
        }
      ]
    },
    {
      "cell_type": "markdown",
      "source": [
        "#### Torch with GPU"
      ],
      "metadata": {
        "id": "srT4mK6xWdGl"
      }
    },
    {
      "cell_type": "code",
      "source": [
        "# Connecting to a GPU\n",
        "torch.cuda.device_count()"
      ],
      "metadata": {
        "id": "nU2PXWrmcl1D",
        "colab": {
          "base_uri": "https://localhost:8080/"
        },
        "outputId": "09f195fa-33a0-4ca9-ed5b-9a03065ab40d"
      },
      "execution_count": null,
      "outputs": [
        {
          "output_type": "execute_result",
          "data": {
            "text/plain": [
              "1"
            ]
          },
          "metadata": {},
          "execution_count": 2
        }
      ]
    },
    {
      "cell_type": "code",
      "source": [
        "torch.cuda.device(0)"
      ],
      "metadata": {
        "colab": {
          "base_uri": "https://localhost:8080/"
        },
        "id": "5nq1S9wjXEzy",
        "outputId": "5c6e7041-745a-4a54-a222-cc75c3a48449"
      },
      "execution_count": null,
      "outputs": [
        {
          "output_type": "execute_result",
          "data": {
            "text/plain": [
              "<torch.cuda.device at 0x7f984f572020>"
            ]
          },
          "metadata": {},
          "execution_count": 3
        }
      ]
    },
    {
      "cell_type": "code",
      "source": [
        "torch.cuda.get_device_name(0)"
      ],
      "metadata": {
        "colab": {
          "base_uri": "https://localhost:8080/",
          "height": 35
        },
        "id": "1dYQm5CUXHXL",
        "outputId": "d0ab14f1-c4fb-490b-ad67-e42e0eed0b61"
      },
      "execution_count": null,
      "outputs": [
        {
          "output_type": "execute_result",
          "data": {
            "text/plain": [
              "'Tesla T4'"
            ],
            "application/vnd.google.colaboratory.intrinsic+json": {
              "type": "string"
            }
          },
          "metadata": {},
          "execution_count": 4
        }
      ]
    },
    {
      "cell_type": "code",
      "source": [
        "cuda_obj = torch.device('cuda:0')"
      ],
      "metadata": {
        "id": "yH6Wef46XM9v"
      },
      "execution_count": null,
      "outputs": []
    },
    {
      "cell_type": "code",
      "source": [
        "start = time.time()\n",
        "for i in range(10):\n",
        "    t1 = torch.rand([10000,10000],device=cuda_obj)\n",
        "    t2 = torch.rand([10000,10000],device=cuda_obj)\n",
        "    print(t1+t2)\n",
        "    print(torch.matmul(t1,t2))\n",
        "end = time.time()\n",
        "print(end-start)"
      ],
      "metadata": {
        "id": "jh4OSir-XTfL"
      },
      "execution_count": null,
      "outputs": []
    },
    {
      "cell_type": "code",
      "source": [],
      "metadata": {
        "id": "Qgc0vHKGMYI4"
      },
      "execution_count": null,
      "outputs": []
    },
    {
      "cell_type": "markdown",
      "source": [
        "#### Feedforward Network with PyTorch"
      ],
      "metadata": {
        "id": "1YKUy85qr8yC"
      }
    },
    {
      "cell_type": "code",
      "source": [
        "t1 = torch.rand(3,4)"
      ],
      "metadata": {
        "id": "rOWsCdDNO64s"
      },
      "execution_count": 3,
      "outputs": []
    },
    {
      "cell_type": "code",
      "source": [
        "neurons_per_layer = list(map(int,[input(f'Enter neurons for layer {i}: ') for i in range(1,4)]))\n",
        "neurons_per_layer = torch.FloatTensor(neurons_per_layer)"
      ],
      "metadata": {
        "colab": {
          "base_uri": "https://localhost:8080/"
        },
        "id": "iRWL9v01MZ5H",
        "outputId": "0180e56f-679f-41ca-a9bb-95c5b65eea61"
      },
      "execution_count": null,
      "outputs": [
        {
          "name": "stdout",
          "output_type": "stream",
          "text": [
            "Enter neurons for layer 1: 4\n",
            "Enter neurons for layer 2: 3\n",
            "Enter neurons for layer 3: 2\n"
          ]
        }
      ]
    },
    {
      "cell_type": "code",
      "source": [
        "t1/torch.sqrt(neurons_per_layer[0])"
      ],
      "metadata": {
        "colab": {
          "base_uri": "https://localhost:8080/"
        },
        "id": "fzuMjc7COxXc",
        "outputId": "52e5d947-541e-4c90-90c7-2de1cb48ca85"
      },
      "execution_count": null,
      "outputs": [
        {
          "output_type": "execute_result",
          "data": {
            "text/plain": [
              "tensor([[0.2591, 0.1642, 0.1772, 0.1601],\n",
              "        [0.1361, 0.3000, 0.3852, 0.0795],\n",
              "        [0.4592, 0.1302, 0.3072, 0.2970]])"
            ]
          },
          "metadata": {},
          "execution_count": 21
        }
      ]
    },
    {
      "cell_type": "code",
      "source": [
        "import math\n",
        "import torch\n",
        "import torch.nn as nn\n",
        "import torch.nn.functional as F\n",
        "from torch import optim"
      ],
      "metadata": {
        "id": "y0FGB8TQr5Y6"
      },
      "execution_count": 1,
      "outputs": []
    },
    {
      "cell_type": "code",
      "source": [
        "class FFNetwork_Params(nn.Module):\n",
        "    def __init__(self, layers:int, neurons_per_layer:torch.tensor, X:torch.tensor, target_classes:int):\n",
        "        super().__init__()\n",
        "        self.no_layers = layers\n",
        "        self.neurons_per_layer = neurons_per_layer\n",
        "        self.weights = []\n",
        "        self.bias = []\n",
        "        self.A = []\n",
        "        self.H = []\n",
        "        self.loss_info = dict()\n",
        "        rows,features = X.shape\n",
        "\n",
        "        '''\n",
        "        include in parameter\n",
        "        match update_method:\n",
        "            case 'mini-batch':\n",
        "                self.batch_size = 128\n",
        "            case 'sgd':\n",
        "                self.batch_size = 1\n",
        "\n",
        "        self.optimizer = optimizer\n",
        "        '''\n",
        "\n",
        "        for layer in range(layers+1):\n",
        "            weights_sqrt = torch.sqrt(neurons_per_layer[layer])\n",
        "            if layer==0:\n",
        "                weights_row = (features,neurons_per_layer[layer])\n",
        "            elif layer<layers:\n",
        "                weights_row = (neurons_per_layer[layer-1],neurons_per_layer[layer])\n",
        "            else:\n",
        "                weights_row = (neurons_per_layer[layer],target_classes)\n",
        "\n",
        "            weights_info = torch.rand(weights_row,neurons_per_layer[layer])/weights_sqrt\n",
        "            self.weights.append(nn.Parameter(weights_info))\n",
        "            self.bias.append(nn.Parameter(torch.rand(self.batch_size,neurons_per_layer[layer])))\n",
        "\n",
        "        print('Feedforward network has been initialized')\n",
        "\n",
        "    def derivative_of_activation(self,layer):\n",
        "        return self.H[layer]*(1-self.H[layer])\n",
        "\n",
        "    def sigmoid_operation(self,a):\n",
        "        return 1.0/1.0+torch.exp(-a)\n",
        "\n",
        "\n",
        "    def forward_pass(self,X):\n",
        "        for layer in range(self.layers):\n",
        "            a = torch.matmul(X,self.weights[layer])+self.bias[layer] if layer==0 else torch.matmul(self.H[layer-1],self.weights[layer])+self.bias[layer]\n",
        "            self.A.append(a)\n",
        "            self.H.append(self.sigmoid_operation(a))\n",
        "\n",
        "\n",
        "    def fit(self,X,lr,epochs):\n",
        "        for epoch in range(epochs):\n",
        "            Y_pred = self.forward_pass()\n",
        ""
      ],
      "metadata": {
        "id": "NFrkYf1cr5yy"
      },
      "execution_count": null,
      "outputs": []
    }
  ]
}