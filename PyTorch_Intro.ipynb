{
  "nbformat": 4,
  "nbformat_minor": 0,
  "metadata": {
    "colab": {
      "provenance": [],
      "gpuType": "T4",
      "authorship_tag": "ABX9TyN44WH2M8kEvdZoAFiZ5z3/",
      "include_colab_link": true
    },
    "kernelspec": {
      "name": "python3",
      "display_name": "Python 3"
    },
    "language_info": {
      "name": "python"
    },
    "widgets": {
      "application/vnd.jupyter.widget-state+json": {
        "02802281ea4e4049be736917742de0ea": {
          "model_module": "@jupyter-widgets/controls",
          "model_name": "HBoxModel",
          "model_module_version": "1.5.0",
          "state": {
            "_dom_classes": [],
            "_model_module": "@jupyter-widgets/controls",
            "_model_module_version": "1.5.0",
            "_model_name": "HBoxModel",
            "_view_count": null,
            "_view_module": "@jupyter-widgets/controls",
            "_view_module_version": "1.5.0",
            "_view_name": "HBoxView",
            "box_style": "",
            "children": [
              "IPY_MODEL_bb86214cb5264c168f5231293b376613",
              "IPY_MODEL_e19efaf2c0b4438d96a92ee57b1aa195",
              "IPY_MODEL_bc9fe684783040698356a1088f2a001d"
            ],
            "layout": "IPY_MODEL_6a0f4789ff1540088737ab3820ca64c8"
          }
        },
        "bb86214cb5264c168f5231293b376613": {
          "model_module": "@jupyter-widgets/controls",
          "model_name": "HTMLModel",
          "model_module_version": "1.5.0",
          "state": {
            "_dom_classes": [],
            "_model_module": "@jupyter-widgets/controls",
            "_model_module_version": "1.5.0",
            "_model_name": "HTMLModel",
            "_view_count": null,
            "_view_module": "@jupyter-widgets/controls",
            "_view_module_version": "1.5.0",
            "_view_name": "HTMLView",
            "description": "",
            "description_tooltip": null,
            "layout": "IPY_MODEL_2bb4d80557be4715985047e0099da60a",
            "placeholder": "​",
            "style": "IPY_MODEL_ebdd563738564a1f9d86fe289805126f",
            "value": "epochs: 100%"
          }
        },
        "e19efaf2c0b4438d96a92ee57b1aa195": {
          "model_module": "@jupyter-widgets/controls",
          "model_name": "FloatProgressModel",
          "model_module_version": "1.5.0",
          "state": {
            "_dom_classes": [],
            "_model_module": "@jupyter-widgets/controls",
            "_model_module_version": "1.5.0",
            "_model_name": "FloatProgressModel",
            "_view_count": null,
            "_view_module": "@jupyter-widgets/controls",
            "_view_module_version": "1.5.0",
            "_view_name": "ProgressView",
            "bar_style": "success",
            "description": "",
            "description_tooltip": null,
            "layout": "IPY_MODEL_7aa647d767164d38b56bf693ee58b3e9",
            "max": 400,
            "min": 0,
            "orientation": "horizontal",
            "style": "IPY_MODEL_1b10168d48ca46e49172e055c033b6b1",
            "value": 400
          }
        },
        "bc9fe684783040698356a1088f2a001d": {
          "model_module": "@jupyter-widgets/controls",
          "model_name": "HTMLModel",
          "model_module_version": "1.5.0",
          "state": {
            "_dom_classes": [],
            "_model_module": "@jupyter-widgets/controls",
            "_model_module_version": "1.5.0",
            "_model_name": "HTMLModel",
            "_view_count": null,
            "_view_module": "@jupyter-widgets/controls",
            "_view_module_version": "1.5.0",
            "_view_name": "HTMLView",
            "description": "",
            "description_tooltip": null,
            "layout": "IPY_MODEL_320790cff4c948c48052941ce73d4b7e",
            "placeholder": "​",
            "style": "IPY_MODEL_ad8ce7de60d54b948c5935c5f642a624",
            "value": " 400/400 [01:05&lt;00:00,  6.91Epoch/s]"
          }
        },
        "6a0f4789ff1540088737ab3820ca64c8": {
          "model_module": "@jupyter-widgets/base",
          "model_name": "LayoutModel",
          "model_module_version": "1.2.0",
          "state": {
            "_model_module": "@jupyter-widgets/base",
            "_model_module_version": "1.2.0",
            "_model_name": "LayoutModel",
            "_view_count": null,
            "_view_module": "@jupyter-widgets/base",
            "_view_module_version": "1.2.0",
            "_view_name": "LayoutView",
            "align_content": null,
            "align_items": null,
            "align_self": null,
            "border": null,
            "bottom": null,
            "display": null,
            "flex": null,
            "flex_flow": null,
            "grid_area": null,
            "grid_auto_columns": null,
            "grid_auto_flow": null,
            "grid_auto_rows": null,
            "grid_column": null,
            "grid_gap": null,
            "grid_row": null,
            "grid_template_areas": null,
            "grid_template_columns": null,
            "grid_template_rows": null,
            "height": null,
            "justify_content": null,
            "justify_items": null,
            "left": null,
            "margin": null,
            "max_height": null,
            "max_width": null,
            "min_height": null,
            "min_width": null,
            "object_fit": null,
            "object_position": null,
            "order": null,
            "overflow": null,
            "overflow_x": null,
            "overflow_y": null,
            "padding": null,
            "right": null,
            "top": null,
            "visibility": null,
            "width": null
          }
        },
        "2bb4d80557be4715985047e0099da60a": {
          "model_module": "@jupyter-widgets/base",
          "model_name": "LayoutModel",
          "model_module_version": "1.2.0",
          "state": {
            "_model_module": "@jupyter-widgets/base",
            "_model_module_version": "1.2.0",
            "_model_name": "LayoutModel",
            "_view_count": null,
            "_view_module": "@jupyter-widgets/base",
            "_view_module_version": "1.2.0",
            "_view_name": "LayoutView",
            "align_content": null,
            "align_items": null,
            "align_self": null,
            "border": null,
            "bottom": null,
            "display": null,
            "flex": null,
            "flex_flow": null,
            "grid_area": null,
            "grid_auto_columns": null,
            "grid_auto_flow": null,
            "grid_auto_rows": null,
            "grid_column": null,
            "grid_gap": null,
            "grid_row": null,
            "grid_template_areas": null,
            "grid_template_columns": null,
            "grid_template_rows": null,
            "height": null,
            "justify_content": null,
            "justify_items": null,
            "left": null,
            "margin": null,
            "max_height": null,
            "max_width": null,
            "min_height": null,
            "min_width": null,
            "object_fit": null,
            "object_position": null,
            "order": null,
            "overflow": null,
            "overflow_x": null,
            "overflow_y": null,
            "padding": null,
            "right": null,
            "top": null,
            "visibility": null,
            "width": null
          }
        },
        "ebdd563738564a1f9d86fe289805126f": {
          "model_module": "@jupyter-widgets/controls",
          "model_name": "DescriptionStyleModel",
          "model_module_version": "1.5.0",
          "state": {
            "_model_module": "@jupyter-widgets/controls",
            "_model_module_version": "1.5.0",
            "_model_name": "DescriptionStyleModel",
            "_view_count": null,
            "_view_module": "@jupyter-widgets/base",
            "_view_module_version": "1.2.0",
            "_view_name": "StyleView",
            "description_width": ""
          }
        },
        "7aa647d767164d38b56bf693ee58b3e9": {
          "model_module": "@jupyter-widgets/base",
          "model_name": "LayoutModel",
          "model_module_version": "1.2.0",
          "state": {
            "_model_module": "@jupyter-widgets/base",
            "_model_module_version": "1.2.0",
            "_model_name": "LayoutModel",
            "_view_count": null,
            "_view_module": "@jupyter-widgets/base",
            "_view_module_version": "1.2.0",
            "_view_name": "LayoutView",
            "align_content": null,
            "align_items": null,
            "align_self": null,
            "border": null,
            "bottom": null,
            "display": null,
            "flex": null,
            "flex_flow": null,
            "grid_area": null,
            "grid_auto_columns": null,
            "grid_auto_flow": null,
            "grid_auto_rows": null,
            "grid_column": null,
            "grid_gap": null,
            "grid_row": null,
            "grid_template_areas": null,
            "grid_template_columns": null,
            "grid_template_rows": null,
            "height": null,
            "justify_content": null,
            "justify_items": null,
            "left": null,
            "margin": null,
            "max_height": null,
            "max_width": null,
            "min_height": null,
            "min_width": null,
            "object_fit": null,
            "object_position": null,
            "order": null,
            "overflow": null,
            "overflow_x": null,
            "overflow_y": null,
            "padding": null,
            "right": null,
            "top": null,
            "visibility": null,
            "width": null
          }
        },
        "1b10168d48ca46e49172e055c033b6b1": {
          "model_module": "@jupyter-widgets/controls",
          "model_name": "ProgressStyleModel",
          "model_module_version": "1.5.0",
          "state": {
            "_model_module": "@jupyter-widgets/controls",
            "_model_module_version": "1.5.0",
            "_model_name": "ProgressStyleModel",
            "_view_count": null,
            "_view_module": "@jupyter-widgets/base",
            "_view_module_version": "1.2.0",
            "_view_name": "StyleView",
            "bar_color": null,
            "description_width": ""
          }
        },
        "320790cff4c948c48052941ce73d4b7e": {
          "model_module": "@jupyter-widgets/base",
          "model_name": "LayoutModel",
          "model_module_version": "1.2.0",
          "state": {
            "_model_module": "@jupyter-widgets/base",
            "_model_module_version": "1.2.0",
            "_model_name": "LayoutModel",
            "_view_count": null,
            "_view_module": "@jupyter-widgets/base",
            "_view_module_version": "1.2.0",
            "_view_name": "LayoutView",
            "align_content": null,
            "align_items": null,
            "align_self": null,
            "border": null,
            "bottom": null,
            "display": null,
            "flex": null,
            "flex_flow": null,
            "grid_area": null,
            "grid_auto_columns": null,
            "grid_auto_flow": null,
            "grid_auto_rows": null,
            "grid_column": null,
            "grid_gap": null,
            "grid_row": null,
            "grid_template_areas": null,
            "grid_template_columns": null,
            "grid_template_rows": null,
            "height": null,
            "justify_content": null,
            "justify_items": null,
            "left": null,
            "margin": null,
            "max_height": null,
            "max_width": null,
            "min_height": null,
            "min_width": null,
            "object_fit": null,
            "object_position": null,
            "order": null,
            "overflow": null,
            "overflow_x": null,
            "overflow_y": null,
            "padding": null,
            "right": null,
            "top": null,
            "visibility": null,
            "width": null
          }
        },
        "ad8ce7de60d54b948c5935c5f642a624": {
          "model_module": "@jupyter-widgets/controls",
          "model_name": "DescriptionStyleModel",
          "model_module_version": "1.5.0",
          "state": {
            "_model_module": "@jupyter-widgets/controls",
            "_model_module_version": "1.5.0",
            "_model_name": "DescriptionStyleModel",
            "_view_count": null,
            "_view_module": "@jupyter-widgets/base",
            "_view_module_version": "1.2.0",
            "_view_name": "StyleView",
            "description_width": ""
          }
        }
      }
    }
  },
  "cells": [
    {
      "cell_type": "markdown",
      "metadata": {
        "id": "view-in-github",
        "colab_type": "text"
      },
      "source": [
        "<a href=\"https://colab.research.google.com/github/Abhijith-Nagarajan/PadhAI_Implementations/blob/main/PyTorch_Intro.ipynb\" target=\"_parent\"><img src=\"https://colab.research.google.com/assets/colab-badge.svg\" alt=\"Open In Colab\"/></a>"
      ]
    },
    {
      "cell_type": "code",
      "execution_count": 3,
      "metadata": {
        "id": "zRi79qePS0VN"
      },
      "outputs": [],
      "source": [
        "import torch\n",
        "import numpy as np\n",
        "import math\n",
        "import torch.nn as nn\n",
        "import torch.nn.functional as F\n",
        "from torch import optim\n",
        "import time\n",
        "import matplotlib.pyplot as plt\n",
        "from sklearn import datasets, preprocessing,model_selection,metrics\n",
        "from tqdm import tqdm_notebook"
      ]
    },
    {
      "cell_type": "markdown",
      "source": [
        "#### Numpy vs Torch"
      ],
      "metadata": {
        "id": "-uukIPjWWZUf"
      }
    },
    {
      "cell_type": "code",
      "source": [
        "t1_cpu = torch.rand(10000,10000)\n",
        "t2_cpu = torch.rand(10000,10000)\n",
        "n1 = np.random.rand(10000,10000)\n",
        "n2 = np.random.rand(10000,10000)"
      ],
      "metadata": {
        "id": "vIVIWzP0aQ99"
      },
      "execution_count": null,
      "outputs": []
    },
    {
      "cell_type": "code",
      "source": [
        "%timeit\n",
        "torch.matmul(t1_cpu,t2_cpu)"
      ],
      "metadata": {
        "colab": {
          "base_uri": "https://localhost:8080/"
        },
        "id": "GL7xaqnncKXo",
        "outputId": "1068e9f8-d910-463d-8935-53cc2db98d7f"
      },
      "execution_count": null,
      "outputs": [
        {
          "output_type": "execute_result",
          "data": {
            "text/plain": [
              "tensor([[2499.9170, 2493.0967, 2480.2927,  ..., 2465.6812, 2514.3569,\n",
              "         2483.8689],\n",
              "        [2540.5813, 2527.1001, 2526.7402,  ..., 2506.1538, 2546.0852,\n",
              "         2532.7439],\n",
              "        [2540.2122, 2548.6917, 2546.8420,  ..., 2508.9221, 2566.0166,\n",
              "         2555.8655],\n",
              "        ...,\n",
              "        [2504.7231, 2474.8550, 2495.3953,  ..., 2460.7991, 2495.2456,\n",
              "         2494.7983],\n",
              "        [2504.6807, 2530.6089, 2494.1211,  ..., 2480.5576, 2524.7429,\n",
              "         2513.0647],\n",
              "        [2523.5400, 2519.4895, 2523.3132,  ..., 2509.4067, 2548.7229,\n",
              "         2529.1426]])"
            ]
          },
          "metadata": {},
          "execution_count": 3
        }
      ]
    },
    {
      "cell_type": "code",
      "source": [
        "%timeit\n",
        "np.matmul(n1,n2)"
      ],
      "metadata": {
        "colab": {
          "base_uri": "https://localhost:8080/"
        },
        "id": "WGtUwr3HcV3M",
        "outputId": "20a2602e-5ab1-4965-e88e-4842c8ed8508"
      },
      "execution_count": null,
      "outputs": [
        {
          "output_type": "execute_result",
          "data": {
            "text/plain": [
              "array([[2494.48525009, 2510.9557902 , 2501.27198668, ..., 2542.19756653,\n",
              "        2529.59649212, 2517.05596801],\n",
              "       [2492.04236243, 2532.09265513, 2487.90038279, ..., 2531.46015206,\n",
              "        2544.00345436, 2505.05793283],\n",
              "       [2460.46887452, 2451.59334611, 2453.55103164, ..., 2483.40292216,\n",
              "        2486.46785132, 2457.29986758],\n",
              "       ...,\n",
              "       [2489.53173066, 2490.35439993, 2484.20228343, ..., 2522.37800905,\n",
              "        2524.27809434, 2484.08090673],\n",
              "       [2468.54952269, 2504.44917688, 2495.78776398, ..., 2529.1117802 ,\n",
              "        2507.81712966, 2502.10996621],\n",
              "       [2483.60196609, 2490.52045157, 2486.87966377, ..., 2510.76372723,\n",
              "        2529.8636999 , 2490.42027807]])"
            ]
          },
          "metadata": {},
          "execution_count": 4
        }
      ]
    },
    {
      "cell_type": "markdown",
      "source": [
        "#### Torch with GPU"
      ],
      "metadata": {
        "id": "srT4mK6xWdGl"
      }
    },
    {
      "cell_type": "code",
      "source": [
        "# Connecting to a GPU\n",
        "torch.cuda.device_count()"
      ],
      "metadata": {
        "id": "nU2PXWrmcl1D",
        "colab": {
          "base_uri": "https://localhost:8080/"
        },
        "outputId": "09f195fa-33a0-4ca9-ed5b-9a03065ab40d"
      },
      "execution_count": null,
      "outputs": [
        {
          "output_type": "execute_result",
          "data": {
            "text/plain": [
              "1"
            ]
          },
          "metadata": {},
          "execution_count": 2
        }
      ]
    },
    {
      "cell_type": "code",
      "source": [
        "torch.cuda.device(0)"
      ],
      "metadata": {
        "colab": {
          "base_uri": "https://localhost:8080/"
        },
        "id": "5nq1S9wjXEzy",
        "outputId": "5c6e7041-745a-4a54-a222-cc75c3a48449"
      },
      "execution_count": null,
      "outputs": [
        {
          "output_type": "execute_result",
          "data": {
            "text/plain": [
              "<torch.cuda.device at 0x7f984f572020>"
            ]
          },
          "metadata": {},
          "execution_count": 3
        }
      ]
    },
    {
      "cell_type": "code",
      "source": [
        "torch.cuda.get_device_name(0)"
      ],
      "metadata": {
        "colab": {
          "base_uri": "https://localhost:8080/",
          "height": 35
        },
        "id": "1dYQm5CUXHXL",
        "outputId": "d0ab14f1-c4fb-490b-ad67-e42e0eed0b61"
      },
      "execution_count": null,
      "outputs": [
        {
          "output_type": "execute_result",
          "data": {
            "text/plain": [
              "'Tesla T4'"
            ],
            "application/vnd.google.colaboratory.intrinsic+json": {
              "type": "string"
            }
          },
          "metadata": {},
          "execution_count": 4
        }
      ]
    },
    {
      "cell_type": "code",
      "source": [
        "cuda_obj = torch.device('cuda:0')"
      ],
      "metadata": {
        "id": "yH6Wef46XM9v"
      },
      "execution_count": null,
      "outputs": []
    },
    {
      "cell_type": "code",
      "source": [
        "start = time.time()\n",
        "for i in range(10):\n",
        "    t1 = torch.rand([10000,10000],device=cuda_obj)\n",
        "    t2 = torch.rand([10000,10000],device=cuda_obj)\n",
        "    print(t1+t2)\n",
        "    print(torch.matmul(t1,t2))\n",
        "end = time.time()\n",
        "print(end-start)"
      ],
      "metadata": {
        "id": "jh4OSir-XTfL"
      },
      "execution_count": null,
      "outputs": []
    },
    {
      "cell_type": "code",
      "source": [],
      "metadata": {
        "id": "Qgc0vHKGMYI4"
      },
      "execution_count": null,
      "outputs": []
    },
    {
      "cell_type": "markdown",
      "source": [
        "#### Feedforward Network with PyTorch"
      ],
      "metadata": {
        "id": "1YKUy85qr8yC"
      }
    },
    {
      "cell_type": "code",
      "source": [
        "layers = int(input('Enter the number of layers: '))\n",
        "neurons_per_layer = list(map(int,[input(f'Enter neurons for layer {i}: ') for i in range(layers)]))\n",
        "#neurons_per_layer = torch.FloatTensor(neurons_per_layer)"
      ],
      "metadata": {
        "colab": {
          "base_uri": "https://localhost:8080/"
        },
        "id": "iRWL9v01MZ5H",
        "outputId": "046810c2-0599-4d0f-e871-c2bb5596f24e"
      },
      "execution_count": 4,
      "outputs": [
        {
          "name": "stdout",
          "output_type": "stream",
          "text": [
            "Enter the number of layers: 5\n",
            "Enter neurons for layer 0: 4\n",
            "Enter neurons for layer 1: 5\n",
            "Enter neurons for layer 2: 5\n",
            "Enter neurons for layer 3: 3\n",
            "Enter neurons for layer 4: 4\n"
          ]
        }
      ]
    },
    {
      "cell_type": "code",
      "source": [
        "target_classes = 5"
      ],
      "metadata": {
        "id": "iPhvqD6RLdZ-"
      },
      "execution_count": 5,
      "outputs": []
    },
    {
      "cell_type": "code",
      "source": [
        "X,y = datasets.make_blobs(n_samples=100000,n_features=8,centers=target_classes)"
      ],
      "metadata": {
        "id": "izq-BsReLSbQ"
      },
      "execution_count": 6,
      "outputs": []
    },
    {
      "cell_type": "code",
      "source": [
        "X.shape, y.shape"
      ],
      "metadata": {
        "colab": {
          "base_uri": "https://localhost:8080/"
        },
        "id": "ee6-bRzzLSKL",
        "outputId": "53056c7b-fb1b-44bf-a826-203e0fe01721"
      },
      "execution_count": 7,
      "outputs": [
        {
          "output_type": "execute_result",
          "data": {
            "text/plain": [
              "((100000, 8), (100000,))"
            ]
          },
          "metadata": {},
          "execution_count": 7
        }
      ]
    },
    {
      "cell_type": "code",
      "source": [
        "X_training, X_test, Y_training, Y_test = model_selection.train_test_split(X,y,test_size=0.3,random_state=42)"
      ],
      "metadata": {
        "id": "PpfPlKrQLtq3"
      },
      "execution_count": 8,
      "outputs": []
    },
    {
      "cell_type": "code",
      "source": [
        "X_train, X_valid, Y_train, Y_valid = model_selection.train_test_split(X_training,Y_training,test_size=0.25,random_state=42)"
      ],
      "metadata": {
        "id": "SIrTqQb3L-Zm"
      },
      "execution_count": 9,
      "outputs": []
    },
    {
      "cell_type": "code",
      "source": [
        "oh_encoder = preprocessing.OneHotEncoder()"
      ],
      "metadata": {
        "id": "lKLLZvVvMPvO"
      },
      "execution_count": 10,
      "outputs": []
    },
    {
      "cell_type": "code",
      "source": [
        "Y_train_encoded = oh_encoder.fit_transform(np.expand_dims(Y_train,axis=1)).toarray()\n",
        "Y_valid_encoded = oh_encoder.fit_transform(np.expand_dims(Y_valid,axis=1)).toarray()"
      ],
      "metadata": {
        "id": "z_55JJLHMMM-"
      },
      "execution_count": 11,
      "outputs": []
    },
    {
      "cell_type": "code",
      "source": [
        "X_train = torch.from_numpy(X_train)\n",
        "X_valid = torch.from_numpy(X_test)\n",
        "Y_train_encoded = torch.from_numpy(Y_train_encoded)\n",
        "Y_valid_encoded = torch.from_numpy(Y_valid_encoded)"
      ],
      "metadata": {
        "id": "Gys3QDH2MtfV"
      },
      "execution_count": 12,
      "outputs": []
    },
    {
      "cell_type": "code",
      "source": [
        "X_train"
      ],
      "metadata": {
        "id": "o6LoiLrc_CxN",
        "colab": {
          "base_uri": "https://localhost:8080/"
        },
        "outputId": "ed2abc91-65ef-4e25-d59f-2e6ad38289ac"
      },
      "execution_count": 13,
      "outputs": [
        {
          "output_type": "execute_result",
          "data": {
            "text/plain": [
              "tensor([[  1.5881,   4.9055,  -1.3612,  ...,   3.8440,   5.1187,   5.9350],\n",
              "        [ -9.1075,  -7.8384,   9.4175,  ...,   7.2639,   1.8121, -11.5358],\n",
              "        [ -6.9243,  -7.0376,   9.3505,  ...,   5.0170,   1.6397,  -8.8451],\n",
              "        ...,\n",
              "        [ -6.4555,  -9.0768,   9.4764,  ...,   5.5137,   2.2497, -10.6423],\n",
              "        [-10.5660,  -8.3539,   9.5379,  ...,   7.0035,   0.3042,  -9.8965],\n",
              "        [ -8.2786,   6.1231,   3.5003,  ...,   7.6621,   4.5045,   4.7026]],\n",
              "       dtype=torch.float64)"
            ]
          },
          "metadata": {},
          "execution_count": 13
        }
      ]
    },
    {
      "cell_type": "code",
      "source": [
        "class FFNetwork_Torch():\n",
        "    def __init__(self, layers:int, neurons_per_layer:torch.tensor, X:torch.tensor, target_classes:int):\n",
        "        self.layers = layers\n",
        "        self.neurons_per_layer = neurons_per_layer\n",
        "        self.weights = []\n",
        "        self.bias = []\n",
        "        self.A = []\n",
        "        self.H = []\n",
        "        self.loss_info = dict()\n",
        "        rows,features = X.shape\n",
        "        self.batch_size = rows\n",
        "\n",
        "        '''\n",
        "        include in parameter\n",
        "        match update_method:\n",
        "            case 'mini-batch':\n",
        "                self.batch_size = 128\n",
        "            case 'sgd':\n",
        "                self.batch_size = 1\n",
        "\n",
        "        self.optimizer = optimizer\n",
        "        '''\n",
        "\n",
        "        for layer in range(layers):\n",
        "            weights_row = torch.rand(features,neurons_per_layer[layer]) if layer==0 else torch.rand(neurons_per_layer[layer-1],neurons_per_layer[layer])\n",
        "            weights_info = weights_row/math.sqrt(neurons_per_layer[layer])\n",
        "            self.weights.append(weights_info)\n",
        "            self.bias.append(torch.rand(self.batch_size,neurons_per_layer[layer]))\n",
        "\n",
        "        weights_info =  torch.rand(neurons_per_layer[-1],target_classes)/math.sqrt(target_classes)\n",
        "        self.weights.append(weights_info)\n",
        "        self.bias.append(torch.rand(self.batch_size,target_classes))\n",
        "\n",
        "        print('Feedforward network has been initialized')\n",
        "\n",
        "    def plot_loss_vs_epochs(self):\n",
        "        plt.figure(figsize=(15,6))\n",
        "        plt.scatter(x=self.loss_info.keys(),y=self.loss_info.values())\n",
        "        plt.xlabel('Epochs')\n",
        "        plt.ylabel('Loss')\n",
        "        plt.title('Loss vs Epochs - Gradient Descent')\n",
        "\n",
        "    def derivative_of_activation(self,layer:int):\n",
        "        return self.H[layer]*(1-self.H[layer])\n",
        "\n",
        "    def backprop(self,Y,Y_pred,lr):\n",
        "        grad_a = Y_pred-Y\n",
        "        for layer in range(self.layers,0,-1):\n",
        "            grad_w = torch.matmul(self.H[layer-1].T,grad_a)\n",
        "            grad_b = grad_a\n",
        "\n",
        "            grad_h = torch.matmul(grad_a,self.weights[layer].T.double())\n",
        "            derivative_h = self.derivative_of_activation(layer-1)\n",
        "            grad_a = torch.multiply(grad_h,derivative_h)\n",
        "\n",
        "            self.weights[layer]-= lr*grad_w\n",
        "            self.bias[layer]-= lr*grad_b\n",
        "\n",
        "    def sigmoid_operation(self,a:torch.tensor):\n",
        "        return 1.0/(1.0+torch.exp(-a))\n",
        "\n",
        "    def forward_pass(self,X):\n",
        "        for layer in range(self.layers):\n",
        "            a = torch.matmul(X,self.weights[layer].double())+self.bias[layer].double() if layer==0 else torch.matmul(self.H[layer-1],self.weights[layer].double())+self.bias[layer].double()\n",
        "            self.A.append(a)\n",
        "            self.H.append(self.sigmoid_operation(a))\n",
        "\n",
        "        a = torch.matmul(self.H[-1],self.weights[-1].double())+self.bias[-1].double()\n",
        "        self.A.append(a)\n",
        "        self.H.append(self.sigmoid_operation(a))\n",
        "        return self.H[-1]\n",
        "\n",
        "    def fit(self,X:torch.tensor,Y:torch.tensor,lr:float,epochs:int):\n",
        "        for epoch in tqdm_notebook(range(epochs),unit='Epoch',desc='epochs'):\n",
        "            Y_pred = self.forward_pass(X)\n",
        "            self.loss_info[epoch+1] = metrics.log_loss(Y,Y_pred)\n",
        "            self.backprop(Y,Y_pred,lr)\n",
        "\n",
        "        self.plot_loss_vs_epochs()"
      ],
      "metadata": {
        "id": "NFrkYf1cr5yy"
      },
      "execution_count": 14,
      "outputs": []
    },
    {
      "cell_type": "code",
      "source": [
        "torch_ffn_model = FFNetwork_Torch(layers,neurons_per_layer,X_train,target_classes)"
      ],
      "metadata": {
        "colab": {
          "base_uri": "https://localhost:8080/"
        },
        "id": "_bzH_NkuNX30",
        "outputId": "97f733b0-04de-47b9-faf7-c8db3ebfba0c"
      },
      "execution_count": 15,
      "outputs": [
        {
          "output_type": "stream",
          "name": "stdout",
          "text": [
            "Feedforward network has been initialized\n"
          ]
        }
      ]
    },
    {
      "cell_type": "code",
      "source": [
        "torch_ffn_model.fit(X_train,Y_train_encoded,0.05,400)"
      ],
      "metadata": {
        "colab": {
          "base_uri": "https://localhost:8080/",
          "height": 650,
          "referenced_widgets": [
            "02802281ea4e4049be736917742de0ea",
            "bb86214cb5264c168f5231293b376613",
            "e19efaf2c0b4438d96a92ee57b1aa195",
            "bc9fe684783040698356a1088f2a001d",
            "6a0f4789ff1540088737ab3820ca64c8",
            "2bb4d80557be4715985047e0099da60a",
            "ebdd563738564a1f9d86fe289805126f",
            "7aa647d767164d38b56bf693ee58b3e9",
            "1b10168d48ca46e49172e055c033b6b1",
            "320790cff4c948c48052941ce73d4b7e",
            "ad8ce7de60d54b948c5935c5f642a624"
          ]
        },
        "id": "AcTLa-_PRhfK",
        "outputId": "0f84d87a-2e4c-4de1-84f8-805e0740bee0"
      },
      "execution_count": 16,
      "outputs": [
        {
          "output_type": "stream",
          "name": "stderr",
          "text": [
            "<ipython-input-14-97fcd6ad808a>:74: TqdmDeprecationWarning: This function will be removed in tqdm==5.0.0\n",
            "Please use `tqdm.notebook.tqdm` instead of `tqdm.tqdm_notebook`\n",
            "  for epoch in tqdm_notebook(range(epochs),unit='Epoch',desc='epochs'):\n"
          ]
        },
        {
          "output_type": "display_data",
          "data": {
            "text/plain": [
              "epochs:   0%|          | 0/400 [00:00<?, ?Epoch/s]"
            ],
            "application/vnd.jupyter.widget-view+json": {
              "version_major": 2,
              "version_minor": 0,
              "model_id": "02802281ea4e4049be736917742de0ea"
            }
          },
          "metadata": {}
        },
        {
          "output_type": "display_data",
          "data": {
            "text/plain": [
              "<Figure size 1500x600 with 1 Axes>"
            ],
            "image/png": "[encoded data removed]"
          },
          "metadata": {}
        }
      ]
    },
    {
      "cell_type": "code",
      "source": [],
      "metadata": {
        "id": "vBioSrc0DGWA"
      },
      "execution_count": null,
      "outputs": []
    }
  ]
}