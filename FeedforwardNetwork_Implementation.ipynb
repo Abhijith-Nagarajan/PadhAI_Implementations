{
  "nbformat": 4,
  "nbformat_minor": 0,
  "metadata": {
    "colab": {
      "provenance": [],
      "collapsed_sections": [
        "9KTTgUtnmr4z"
      ],
      "authorship_tag": "ABX9TyPJo/hMFkpIgio7Q6M/orfj",
      "include_colab_link": true
    },
    "kernelspec": {
      "name": "python3",
      "display_name": "Python 3"
    },
    "language_info": {
      "name": "python"
    },
    "widgets": {
      "application/vnd.jupyter.widget-state+json": {
        "1442e39dc86746a68137520adb09a39b": {
          "model_module": "@jupyter-widgets/controls",
          "model_name": "HBoxModel",
          "model_module_version": "1.5.0",
          "state": {
            "_dom_classes": [],
            "_model_module": "@jupyter-widgets/controls",
            "_model_module_version": "1.5.0",
            "_model_name": "HBoxModel",
            "_view_count": null,
            "_view_module": "@jupyter-widgets/controls",
            "_view_module_version": "1.5.0",
            "_view_name": "HBoxView",
            "box_style": "",
            "children": [
              "IPY_MODEL_655ea5b681cc41b0b7b959fbf2095ba0",
              "IPY_MODEL_0a69779512c74fd0a9f75e4dee982e16",
              "IPY_MODEL_ac829be51b9c48eb9123a6561578ebd4"
            ],
            "layout": "IPY_MODEL_c28abcf7dc1049b0b68ca0cf30599ecc"
          }
        },
        "655ea5b681cc41b0b7b959fbf2095ba0": {
          "model_module": "@jupyter-widgets/controls",
          "model_name": "HTMLModel",
          "model_module_version": "1.5.0",
          "state": {
            "_dom_classes": [],
            "_model_module": "@jupyter-widgets/controls",
            "_model_module_version": "1.5.0",
            "_model_name": "HTMLModel",
            "_view_count": null,
            "_view_module": "@jupyter-widgets/controls",
            "_view_module_version": "1.5.0",
            "_view_name": "HTMLView",
            "description": "",
            "description_tooltip": null,
            "layout": "IPY_MODEL_b3439a2650034335989532c718f4e3bc",
            "placeholder": "​",
            "style": "IPY_MODEL_cdc97e0b01d545beb52b022417c5c3d2",
            "value": "100%"
          }
        },
        "0a69779512c74fd0a9f75e4dee982e16": {
          "model_module": "@jupyter-widgets/controls",
          "model_name": "FloatProgressModel",
          "model_module_version": "1.5.0",
          "state": {
            "_dom_classes": [],
            "_model_module": "@jupyter-widgets/controls",
            "_model_module_version": "1.5.0",
            "_model_name": "FloatProgressModel",
            "_view_count": null,
            "_view_module": "@jupyter-widgets/controls",
            "_view_module_version": "1.5.0",
            "_view_name": "ProgressView",
            "bar_style": "success",
            "description": "",
            "description_tooltip": null,
            "layout": "IPY_MODEL_cdb3f863cdd542d38cc6dd5c2860490d",
            "max": 100,
            "min": 0,
            "orientation": "horizontal",
            "style": "IPY_MODEL_f7ac893b89a84c61b461c3afae70f72b",
            "value": 100
          }
        },
        "ac829be51b9c48eb9123a6561578ebd4": {
          "model_module": "@jupyter-widgets/controls",
          "model_name": "HTMLModel",
          "model_module_version": "1.5.0",
          "state": {
            "_dom_classes": [],
            "_model_module": "@jupyter-widgets/controls",
            "_model_module_version": "1.5.0",
            "_model_name": "HTMLModel",
            "_view_count": null,
            "_view_module": "@jupyter-widgets/controls",
            "_view_module_version": "1.5.0",
            "_view_name": "HTMLView",
            "description": "",
            "description_tooltip": null,
            "layout": "IPY_MODEL_3a332aa4710e426aa648c79af3b10bba",
            "placeholder": "​",
            "style": "IPY_MODEL_29d1f850c13343cf9a2f410498699ae1",
            "value": " 100/100 [00:16&lt;00:00,  7.22epoch/s]"
          }
        },
        "c28abcf7dc1049b0b68ca0cf30599ecc": {
          "model_module": "@jupyter-widgets/base",
          "model_name": "LayoutModel",
          "model_module_version": "1.2.0",
          "state": {
            "_model_module": "@jupyter-widgets/base",
            "_model_module_version": "1.2.0",
            "_model_name": "LayoutModel",
            "_view_count": null,
            "_view_module": "@jupyter-widgets/base",
            "_view_module_version": "1.2.0",
            "_view_name": "LayoutView",
            "align_content": null,
            "align_items": null,
            "align_self": null,
            "border": null,
            "bottom": null,
            "display": null,
            "flex": null,
            "flex_flow": null,
            "grid_area": null,
            "grid_auto_columns": null,
            "grid_auto_flow": null,
            "grid_auto_rows": null,
            "grid_column": null,
            "grid_gap": null,
            "grid_row": null,
            "grid_template_areas": null,
            "grid_template_columns": null,
            "grid_template_rows": null,
            "height": null,
            "justify_content": null,
            "justify_items": null,
            "left": null,
            "margin": null,
            "max_height": null,
            "max_width": null,
            "min_height": null,
            "min_width": null,
            "object_fit": null,
            "object_position": null,
            "order": null,
            "overflow": null,
            "overflow_x": null,
            "overflow_y": null,
            "padding": null,
            "right": null,
            "top": null,
            "visibility": null,
            "width": null
          }
        },
        "b3439a2650034335989532c718f4e3bc": {
          "model_module": "@jupyter-widgets/base",
          "model_name": "LayoutModel",
          "model_module_version": "1.2.0",
          "state": {
            "_model_module": "@jupyter-widgets/base",
            "_model_module_version": "1.2.0",
            "_model_name": "LayoutModel",
            "_view_count": null,
            "_view_module": "@jupyter-widgets/base",
            "_view_module_version": "1.2.0",
            "_view_name": "LayoutView",
            "align_content": null,
            "align_items": null,
            "align_self": null,
            "border": null,
            "bottom": null,
            "display": null,
            "flex": null,
            "flex_flow": null,
            "grid_area": null,
            "grid_auto_columns": null,
            "grid_auto_flow": null,
            "grid_auto_rows": null,
            "grid_column": null,
            "grid_gap": null,
            "grid_row": null,
            "grid_template_areas": null,
            "grid_template_columns": null,
            "grid_template_rows": null,
            "height": null,
            "justify_content": null,
            "justify_items": null,
            "left": null,
            "margin": null,
            "max_height": null,
            "max_width": null,
            "min_height": null,
            "min_width": null,
            "object_fit": null,
            "object_position": null,
            "order": null,
            "overflow": null,
            "overflow_x": null,
            "overflow_y": null,
            "padding": null,
            "right": null,
            "top": null,
            "visibility": null,
            "width": null
          }
        },
        "cdc97e0b01d545beb52b022417c5c3d2": {
          "model_module": "@jupyter-widgets/controls",
          "model_name": "DescriptionStyleModel",
          "model_module_version": "1.5.0",
          "state": {
            "_model_module": "@jupyter-widgets/controls",
            "_model_module_version": "1.5.0",
            "_model_name": "DescriptionStyleModel",
            "_view_count": null,
            "_view_module": "@jupyter-widgets/base",
            "_view_module_version": "1.2.0",
            "_view_name": "StyleView",
            "description_width": ""
          }
        },
        "cdb3f863cdd542d38cc6dd5c2860490d": {
          "model_module": "@jupyter-widgets/base",
          "model_name": "LayoutModel",
          "model_module_version": "1.2.0",
          "state": {
            "_model_module": "@jupyter-widgets/base",
            "_model_module_version": "1.2.0",
            "_model_name": "LayoutModel",
            "_view_count": null,
            "_view_module": "@jupyter-widgets/base",
            "_view_module_version": "1.2.0",
            "_view_name": "LayoutView",
            "align_content": null,
            "align_items": null,
            "align_self": null,
            "border": null,
            "bottom": null,
            "display": null,
            "flex": null,
            "flex_flow": null,
            "grid_area": null,
            "grid_auto_columns": null,
            "grid_auto_flow": null,
            "grid_auto_rows": null,
            "grid_column": null,
            "grid_gap": null,
            "grid_row": null,
            "grid_template_areas": null,
            "grid_template_columns": null,
            "grid_template_rows": null,
            "height": null,
            "justify_content": null,
            "justify_items": null,
            "left": null,
            "margin": null,
            "max_height": null,
            "max_width": null,
            "min_height": null,
            "min_width": null,
            "object_fit": null,
            "object_position": null,
            "order": null,
            "overflow": null,
            "overflow_x": null,
            "overflow_y": null,
            "padding": null,
            "right": null,
            "top": null,
            "visibility": null,
            "width": null
          }
        },
        "f7ac893b89a84c61b461c3afae70f72b": {
          "model_module": "@jupyter-widgets/controls",
          "model_name": "ProgressStyleModel",
          "model_module_version": "1.5.0",
          "state": {
            "_model_module": "@jupyter-widgets/controls",
            "_model_module_version": "1.5.0",
            "_model_name": "ProgressStyleModel",
            "_view_count": null,
            "_view_module": "@jupyter-widgets/base",
            "_view_module_version": "1.2.0",
            "_view_name": "StyleView",
            "bar_color": null,
            "description_width": ""
          }
        },
        "3a332aa4710e426aa648c79af3b10bba": {
          "model_module": "@jupyter-widgets/base",
          "model_name": "LayoutModel",
          "model_module_version": "1.2.0",
          "state": {
            "_model_module": "@jupyter-widgets/base",
            "_model_module_version": "1.2.0",
            "_model_name": "LayoutModel",
            "_view_count": null,
            "_view_module": "@jupyter-widgets/base",
            "_view_module_version": "1.2.0",
            "_view_name": "LayoutView",
            "align_content": null,
            "align_items": null,
            "align_self": null,
            "border": null,
            "bottom": null,
            "display": null,
            "flex": null,
            "flex_flow": null,
            "grid_area": null,
            "grid_auto_columns": null,
            "grid_auto_flow": null,
            "grid_auto_rows": null,
            "grid_column": null,
            "grid_gap": null,
            "grid_row": null,
            "grid_template_areas": null,
            "grid_template_columns": null,
            "grid_template_rows": null,
            "height": null,
            "justify_content": null,
            "justify_items": null,
            "left": null,
            "margin": null,
            "max_height": null,
            "max_width": null,
            "min_height": null,
            "min_width": null,
            "object_fit": null,
            "object_position": null,
            "order": null,
            "overflow": null,
            "overflow_x": null,
            "overflow_y": null,
            "padding": null,
            "right": null,
            "top": null,
            "visibility": null,
            "width": null
          }
        },
        "29d1f850c13343cf9a2f410498699ae1": {
          "model_module": "@jupyter-widgets/controls",
          "model_name": "DescriptionStyleModel",
          "model_module_version": "1.5.0",
          "state": {
            "_model_module": "@jupyter-widgets/controls",
            "_model_module_version": "1.5.0",
            "_model_name": "DescriptionStyleModel",
            "_view_count": null,
            "_view_module": "@jupyter-widgets/base",
            "_view_module_version": "1.2.0",
            "_view_name": "StyleView",
            "description_width": ""
          }
        }
      }
    }
  },
  "cells": [
    {
      "cell_type": "markdown",
      "metadata": {
        "id": "view-in-github",
        "colab_type": "text"
      },
      "source": [
        "<a href=\"https://colab.research.google.com/github/Abhijith-Nagarajan/PadhAI_Implementations/blob/main/FeedforwardNetwork_Implementation.ipynb\" target=\"_parent\"><img src=\"https://colab.research.google.com/assets/colab-badge.svg\" alt=\"Open In Colab\"/></a>"
      ]
    },
    {
      "cell_type": "code",
      "execution_count": null,
      "metadata": {
        "id": "0Dl5QXfLgAxG"
      },
      "outputs": [],
      "source": [
        "import pandas as pd\n",
        "import numpy as np\n",
        "import matplotlib.pyplot as plt\n",
        "from sklearn import preprocessing,model_selection, metrics, datasets\n",
        "from tqdm import tqdm_notebook\n",
        "import warnings"
      ]
    },
    {
      "cell_type": "code",
      "source": [
        "warnings.filterwarnings('ignore')"
      ],
      "metadata": {
        "id": "dUZ5pg1JP1aR"
      },
      "execution_count": null,
      "outputs": []
    },
    {
      "cell_type": "code",
      "source": [
        "target_classes = 5"
      ],
      "metadata": {
        "id": "6reridnMS0Wh"
      },
      "execution_count": null,
      "outputs": []
    },
    {
      "cell_type": "code",
      "source": [
        "sample_data, labels = datasets.make_blobs(n_samples=10000,n_features=4,centers=target_classes)"
      ],
      "metadata": {
        "id": "JLfzmXKH42FH"
      },
      "execution_count": null,
      "outputs": []
    },
    {
      "cell_type": "code",
      "source": [
        "sample_data = np.array(sample_data)"
      ],
      "metadata": {
        "id": "E_ACskAf7Nbs"
      },
      "execution_count": null,
      "outputs": []
    },
    {
      "cell_type": "code",
      "source": [
        "plt.scatter(sample_data[:,0],sample_data[:,1],c=labels,cmap='magma')"
      ],
      "metadata": {
        "colab": {
          "base_uri": "https://localhost:8080/",
          "height": 447
        },
        "id": "-NCwYoVc7NP-",
        "outputId": "4c91e351-01fa-4815-b594-34ec4211c63d"
      },
      "execution_count": null,
      "outputs": [
        {
          "output_type": "execute_result",
          "data": {
            "text/plain": [
              "<matplotlib.collections.PathCollection at 0x7f04df801b10>"
            ]
          },
          "metadata": {},
          "execution_count": 6
        },
        {
          "output_type": "display_data",
          "data": {
            "text/plain": [
              "<Figure size 640x480 with 1 Axes>"
            ],
            "image/png": "[encoded data removed]"
          },
          "metadata": {}
        }
      ]
    },
    {
      "cell_type": "code",
      "source": [
        "oh_encoder = preprocessing.OneHotEncoder()"
      ],
      "metadata": {
        "id": "iz67SMB0aW6f"
      },
      "execution_count": null,
      "outputs": []
    },
    {
      "cell_type": "code",
      "source": [
        "Y = oh_encoder.fit_transform(np.expand_dims(labels,1)).toarray()"
      ],
      "metadata": {
        "id": "PD_om_8zat6E"
      },
      "execution_count": null,
      "outputs": []
    },
    {
      "cell_type": "code",
      "source": [
        "def NN_inputs():\n",
        "    print('Inside NN inputs method')\n",
        "    nn_layers = int(input(\"Enter the number of hidden layers: \"))\n",
        "    neurons_per_layer = [int(input(f\"Enter neurons for hidden layer {i+1}: \")) for i in range(nn_layers)]\n",
        "\n",
        "    return (nn_layers,neurons_per_layer)"
      ],
      "metadata": {
        "id": "qzwPWTPc0O1p"
      },
      "execution_count": null,
      "outputs": []
    },
    {
      "cell_type": "code",
      "source": [
        "layers, neurons_per_layer = NN_inputs()"
      ],
      "metadata": {
        "colab": {
          "base_uri": "https://localhost:8080/"
        },
        "id": "d2ISHPfa0eOV",
        "outputId": "aa8cfabb-27a7-4c24-b5cf-4fdbb92f1592"
      },
      "execution_count": null,
      "outputs": [
        {
          "name": "stdout",
          "output_type": "stream",
          "text": [
            "Inside NN inputs method\n",
            "Enter the number of hidden layers: 3\n",
            "Enter neurons for hidden layer 1: 3\n",
            "Enter neurons for hidden layer 2: 4\n",
            "Enter neurons for hidden layer 3: 3\n"
          ]
        }
      ]
    },
    {
      "cell_type": "markdown",
      "source": [
        "### Testing"
      ],
      "metadata": {
        "id": "9KTTgUtnmr4z"
      }
    },
    {
      "cell_type": "markdown",
      "source": [
        "\n",
        "```\n",
        "def w_b_test(layers: int, neurons_per_layer: list, input_shape: tuple target_classes: int):\n",
        "    weights = []\n",
        "    bias = []\n",
        "    for layer in range(layers):\n",
        "        m = input_shape[1] if layer==0 else neurons_per_layer[layer-1]\n",
        "        weights.append(np.random.rand(neurons_per_layer[layer],m))\n",
        "        bias.append(np.random.rand(input_shape[0],neurons_per_layer[layer]))\n",
        "\n",
        "    m = neurons_per_layer[-1]\n",
        "    weights.append(np.random.rand(target_classes,m))\n",
        "    bias.append(np.random.rand(input_shape[0],target_classes))\n",
        "\n",
        "    return (weights,bias)\n",
        "```"
      ],
      "metadata": {
        "id": "NoRA_Ht5PFfs"
      }
    },
    {
      "cell_type": "markdown",
      "source": [
        "\n",
        "```\n",
        "w, b = w_b_test(layers,neurons_per_layer,sample_data.shape,target_classes)\n",
        "```"
      ],
      "metadata": {
        "id": "Wt-8VB7_Pek3"
      }
    },
    {
      "cell_type": "markdown",
      "source": [
        "```\n",
        "A = []\n",
        "H = []\n",
        "```"
      ],
      "metadata": {
        "id": "ZAIbjK_yqG1W"
      }
    },
    {
      "cell_type": "markdown",
      "source": [
        "```\n",
        "def softmax_test(H):\n",
        "    denominator = np.sum(np.exp(H),axis=1)\n",
        "    #pdb.set_trace()\n",
        "    probabilities = [np.round(np.exp(H[i])/denominator[i],2) for i in range(len(denominator))]\n",
        "    return probabilities\n",
        "\n",
        "def sigmoid_test(x):\n",
        "    return 1.0/1.0+np.exp(-1*x)\n",
        "\n",
        "def matrix_multiplication(X,w,b):\n",
        "    return np.matmul(X,w.T)+b\n",
        "\n",
        "def fit(X,w,b,layers):\n",
        "    # For the hidden layers\n",
        "    for i in range(layers):\n",
        "        A.append(matrix_multiplication(X,w[i],b[i]) if i == 0 else matrix_multiplication(H[i-1],w[i],b[i]))\n",
        "        H.append(sigmoid_test(A[i]))\n",
        "\n",
        "    # For the last layer. Applying softmax operation to get probabilities\n",
        "    A.append(matrix_multiplication(H[-1],w[-1],b[-1]))\n",
        "    H.append(softmax_test(A[-1]))\n",
        "    y_pred = H[-1]\n",
        "\n",
        "    return y_pred\n",
        "```"
      ],
      "metadata": {
        "id": "9OXrDMurPecP"
      }
    },
    {
      "cell_type": "markdown",
      "source": [
        "```\n",
        "y_pred = fit(sample_data,w,b,layers)\n",
        "```"
      ],
      "metadata": {
        "id": "QeqJVwF2PeRj"
      }
    },
    {
      "cell_type": "markdown",
      "source": [
        "\n",
        "```\n",
        "metrics.log_loss(Y,y_pred)\n",
        "```\n"
      ],
      "metadata": {
        "id": "zhSAntf6bcSq"
      }
    },
    {
      "cell_type": "markdown",
      "source": [
        "Softmax debugging\n",
        "```\n",
        "a = np.array([[0.25,0.15,0.55,0.05],[0.6,0.05,0.25,0.1],[0.1,0.7,0.15,0.05],[0.3,0.1,0.1,0.5]])\n",
        "\n",
        "numerator = np.exp(a)\n",
        "numerator\n",
        "\n",
        "denominator = np.sum(np.exp(a),axis=1)\n",
        "denominator\n",
        "\n",
        "print(numerator[index]/denominator[index] for index in range(len(denominator)))\n",
        "\n",
        "for index in range(len(denominator)):\n",
        "    print(np.round(numerator[index]/denominator[index],2))\n",
        "```"
      ],
      "metadata": {
        "id": "XZXo-6vKOOVP"
      }
    },
    {
      "cell_type": "markdown",
      "source": [
        "### Feedforward class"
      ],
      "metadata": {
        "id": "5qvX3XSgmwqZ"
      }
    },
    {
      "cell_type": "code",
      "source": [
        "class FeedforwardNN:\n",
        "\n",
        "    def __init__(self,layers,neurons_per_layer,input_shape,target_classes):\n",
        "        print('Inside init method.')\n",
        "        self.weights = []\n",
        "        self.bias = []\n",
        "        self.A = []\n",
        "        self.H = []\n",
        "\n",
        "        rows,features = input_shape\n",
        "\n",
        "        # For hidden layers\n",
        "        for layer in range(layers):\n",
        "            m = features if layer==0 else neurons_per_layer[layer-1]\n",
        "            self.weights.append(np.random.rand(neurons_per_layer[layer],m))\n",
        "            self.bias.append(np.random.rand(rows,neurons_per_layer[layer]))\n",
        "\n",
        "        # For output layer\n",
        "        m = neurons_per_layer[-1]\n",
        "        self.weights.append(np.random.rand(target_classes,m))\n",
        "        self.bias.append(np.random.rand(rows,target_classes))\n",
        "        print('Weights and Bias have been initialized.')\n",
        "\n",
        "    def plot_loss_vs_epoch(self,loss:dict):\n",
        "        plt.figure(figsize=(15,7))\n",
        "        plt.plot(loss.keys(),loss.values())\n",
        "        plt.xlabel('Epoch')\n",
        "        plt.ylabel('Loss')\n",
        "        plt.title('Loss vs Epoch')\n",
        "\n",
        "    def softmax_operation(self,a):\n",
        "        exp_term = np.exp(a)\n",
        "        return np.round((exp_term/np.sum(exp_term,axis=1)),2)\n",
        "\n",
        "    def sigmoid_operation(self,a):\n",
        "        return 1.0/(1.0+np.exp(-1*(a)))\n",
        "\n",
        "    def backprop(self,X,Y,Y_pred,layers,learning_rate):\n",
        "        '''\n",
        "        This method performs back propagation to update W,B,A,H\n",
        "        '''\n",
        "        grad_a = Y_pred-Y\n",
        "        for layer in range(layers,0,-1):\n",
        "            grad_w = np.matmul(grad_a.T,self.H[layer-1])\n",
        "            grad_b = grad_a\n",
        "            self.weights[layer] -= learning_rate*grad_w\n",
        "            self.bias[layer] -= learning_rate*grad_b\n",
        "            grad_h = np.matmul(grad_a, self.weights[layer])\n",
        "            # Grad a is computed as an element-wise multiplication of grad_h and derivative of the {[activation for 'a'] = H}  at the previous layer\n",
        "            derivative_h = self.H[layer-1]\n",
        "            grad_a = np.multiply(grad_h,derivative_h*(1-derivative_h))\n",
        "\n",
        "        grad_w = np.matmul(grad_a.T,X)\n",
        "        self.weights[0] -= learning_rate*grad_w\n",
        "        self.bias[0] = grad_a\n",
        "\n",
        "    def forward_pass(self,X,layers:int):\n",
        "        '''\n",
        "        This method performs the forward pass.\n",
        "        '''\n",
        "        for layer in range(layers):\n",
        "            a = np.matmul(X,self.weights[layer].T)+self.bias[layer] if layer==0 else np.matmul(self.H[layer-1],self.weights[layer].T)+self.bias[layer]\n",
        "            self.A.append(a)\n",
        "            self.H.append(self.sigmoid_operation(a))\n",
        "\n",
        "        a = np.matmul(self.H[-1],self.weights[-1].T)+self.bias[-1]\n",
        "        self.A.append(a)\n",
        "        self.H.append(self.softmax_operation(a))\n",
        "        return self.H[-1]\n",
        "\n",
        "    def fit(self,X,Y,epochs,layers,learning_rate):\n",
        "        '''\n",
        "        This method performs the training operation\n",
        "        '''\n",
        "        loss = dict()\n",
        "        for epoch in tqdm_notebook(range(epochs),total=epochs,unit=\"epoch\"):\n",
        "            y_pred = self.forward_pass(X,layers)\n",
        "            loss[epoch+1] = metrics.log_loss(Y,y_pred)\n",
        "            self.backprop(X,Y,y_pred,layers,learning_rate)\n",
        "\n",
        "        self.plot_loss_vs_epoch(loss)\n",
        "\n",
        "    def predict(self,X):\n",
        "        '''\n",
        "        This method returns all the predictions on the test set\n",
        "        '''"
      ],
      "metadata": {
        "id": "X9kiQTBugQgu"
      },
      "execution_count": null,
      "outputs": []
    },
    {
      "cell_type": "code",
      "source": [
        "ffmodel = FeedforwardNN(layers,neurons_per_layer,sample_data.shape,target_classes)"
      ],
      "metadata": {
        "id": "3bb9luW6P3bf",
        "colab": {
          "base_uri": "https://localhost:8080/"
        },
        "outputId": "1ffe61d4-9139-4eef-e2df-8971f0e9ced3"
      },
      "execution_count": null,
      "outputs": [
        {
          "output_type": "stream",
          "name": "stdout",
          "text": [
            "Inside init method.\n",
            "Weights and Bias have been initialized.\n"
          ]
        }
      ]
    },
    {
      "cell_type": "code",
      "source": [
        "lr = 0.1\n",
        "epochs = 100"
      ],
      "metadata": {
        "id": "PmR4OmB_Jws6"
      },
      "execution_count": null,
      "outputs": []
    },
    {
      "cell_type": "code",
      "source": [
        "ffmodel.fit(sample_data,Y,epochs,layers,lr)"
      ],
      "metadata": {
        "id": "r_aqCn21fnmG",
        "colab": {
          "base_uri": "https://localhost:8080/",
          "height": 673,
          "referenced_widgets": [
            "1442e39dc86746a68137520adb09a39b",
            "655ea5b681cc41b0b7b959fbf2095ba0",
            "0a69779512c74fd0a9f75e4dee982e16",
            "ac829be51b9c48eb9123a6561578ebd4",
            "c28abcf7dc1049b0b68ca0cf30599ecc",
            "b3439a2650034335989532c718f4e3bc",
            "cdc97e0b01d545beb52b022417c5c3d2",
            "cdb3f863cdd542d38cc6dd5c2860490d",
            "f7ac893b89a84c61b461c3afae70f72b",
            "3a332aa4710e426aa648c79af3b10bba",
            "29d1f850c13343cf9a2f410498699ae1"
          ]
        },
        "outputId": "0113292f-de4f-496d-d8a7-0825ff0d95b9"
      },
      "execution_count": null,
      "outputs": [
        {
          "output_type": "display_data",
          "data": {
            "text/plain": [
              "  0%|          | 0/100 [00:00<?, ?epoch/s]"
            ],
            "application/vnd.jupyter.widget-view+json": {
              "version_major": 2,
              "version_minor": 0,
              "model_id": "1442e39dc86746a68137520adb09a39b"
            }
          },
          "metadata": {}
        },
        {
          "output_type": "display_data",
          "data": {
            "text/plain": [
              "<Figure size 1500x700 with 1 Axes>"
            ],
            "image/png": "[encoded data removed]"
          },
          "metadata": {}
        }
      ]
    }
  ]
}