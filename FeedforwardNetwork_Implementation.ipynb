{
  "nbformat": 4,
  "nbformat_minor": 0,
  "metadata": {
    "colab": {
      "provenance": [],
      "collapsed_sections": [
        "9KTTgUtnmr4z"
      ],
      "authorship_tag": "ABX9TyMXz/1e9tcGNQ7ZXM4C5Zew",
      "include_colab_link": true
    },
    "kernelspec": {
      "name": "python3",
      "display_name": "Python 3"
    },
    "language_info": {
      "name": "python"
    },
    "widgets": {
      "application/vnd.jupyter.widget-state+json": {
        "6a84dc019400499facd76dad9f2e77e8": {
          "model_module": "@jupyter-widgets/controls",
          "model_name": "HBoxModel",
          "model_module_version": "1.5.0",
          "state": {
            "_dom_classes": [],
            "_model_module": "@jupyter-widgets/controls",
            "_model_module_version": "1.5.0",
            "_model_name": "HBoxModel",
            "_view_count": null,
            "_view_module": "@jupyter-widgets/controls",
            "_view_module_version": "1.5.0",
            "_view_name": "HBoxView",
            "box_style": "",
            "children": [
              "IPY_MODEL_e518c4728aeb4c2d83c74c7d3175dea5",
              "IPY_MODEL_c7421aaa87a547b4a69634f23351a143",
              "IPY_MODEL_3ffa771e2f524edd9b1e9a1ee72f0e8e"
            ],
            "layout": "IPY_MODEL_87317169bba0463c8d60d89d0eb177c9"
          }
        },
        "e518c4728aeb4c2d83c74c7d3175dea5": {
          "model_module": "@jupyter-widgets/controls",
          "model_name": "HTMLModel",
          "model_module_version": "1.5.0",
          "state": {
            "_dom_classes": [],
            "_model_module": "@jupyter-widgets/controls",
            "_model_module_version": "1.5.0",
            "_model_name": "HTMLModel",
            "_view_count": null,
            "_view_module": "@jupyter-widgets/controls",
            "_view_module_version": "1.5.0",
            "_view_name": "HTMLView",
            "description": "",
            "description_tooltip": null,
            "layout": "IPY_MODEL_8407eee3eb4143d0ba914147cd0b4886",
            "placeholder": "​",
            "style": "IPY_MODEL_a8044633cd344dd5b40543c177664bc7",
            "value": "  3%"
          }
        },
        "c7421aaa87a547b4a69634f23351a143": {
          "model_module": "@jupyter-widgets/controls",
          "model_name": "FloatProgressModel",
          "model_module_version": "1.5.0",
          "state": {
            "_dom_classes": [],
            "_model_module": "@jupyter-widgets/controls",
            "_model_module_version": "1.5.0",
            "_model_name": "FloatProgressModel",
            "_view_count": null,
            "_view_module": "@jupyter-widgets/controls",
            "_view_module_version": "1.5.0",
            "_view_name": "ProgressView",
            "bar_style": "danger",
            "description": "",
            "description_tooltip": null,
            "layout": "IPY_MODEL_98388d5d05ad451d876c7f9cd6a4b4fa",
            "max": 100,
            "min": 0,
            "orientation": "horizontal",
            "style": "IPY_MODEL_beccc02b10a24eaa877193527a26864d",
            "value": 3
          }
        },
        "3ffa771e2f524edd9b1e9a1ee72f0e8e": {
          "model_module": "@jupyter-widgets/controls",
          "model_name": "HTMLModel",
          "model_module_version": "1.5.0",
          "state": {
            "_dom_classes": [],
            "_model_module": "@jupyter-widgets/controls",
            "_model_module_version": "1.5.0",
            "_model_name": "HTMLModel",
            "_view_count": null,
            "_view_module": "@jupyter-widgets/controls",
            "_view_module_version": "1.5.0",
            "_view_name": "HTMLView",
            "description": "",
            "description_tooltip": null,
            "layout": "IPY_MODEL_0904c734f0924ce290b43c4f89343f1c",
            "placeholder": "​",
            "style": "IPY_MODEL_915adb6c48cd4731af1b33fbfa2a06ac",
            "value": " 3/100 [00:00&lt;00:05, 17.47epoch/s]"
          }
        },
        "87317169bba0463c8d60d89d0eb177c9": {
          "model_module": "@jupyter-widgets/base",
          "model_name": "LayoutModel",
          "model_module_version": "1.2.0",
          "state": {
            "_model_module": "@jupyter-widgets/base",
            "_model_module_version": "1.2.0",
            "_model_name": "LayoutModel",
            "_view_count": null,
            "_view_module": "@jupyter-widgets/base",
            "_view_module_version": "1.2.0",
            "_view_name": "LayoutView",
            "align_content": null,
            "align_items": null,
            "align_self": null,
            "border": null,
            "bottom": null,
            "display": null,
            "flex": null,
            "flex_flow": null,
            "grid_area": null,
            "grid_auto_columns": null,
            "grid_auto_flow": null,
            "grid_auto_rows": null,
            "grid_column": null,
            "grid_gap": null,
            "grid_row": null,
            "grid_template_areas": null,
            "grid_template_columns": null,
            "grid_template_rows": null,
            "height": null,
            "justify_content": null,
            "justify_items": null,
            "left": null,
            "margin": null,
            "max_height": null,
            "max_width": null,
            "min_height": null,
            "min_width": null,
            "object_fit": null,
            "object_position": null,
            "order": null,
            "overflow": null,
            "overflow_x": null,
            "overflow_y": null,
            "padding": null,
            "right": null,
            "top": null,
            "visibility": null,
            "width": null
          }
        },
        "8407eee3eb4143d0ba914147cd0b4886": {
          "model_module": "@jupyter-widgets/base",
          "model_name": "LayoutModel",
          "model_module_version": "1.2.0",
          "state": {
            "_model_module": "@jupyter-widgets/base",
            "_model_module_version": "1.2.0",
            "_model_name": "LayoutModel",
            "_view_count": null,
            "_view_module": "@jupyter-widgets/base",
            "_view_module_version": "1.2.0",
            "_view_name": "LayoutView",
            "align_content": null,
            "align_items": null,
            "align_self": null,
            "border": null,
            "bottom": null,
            "display": null,
            "flex": null,
            "flex_flow": null,
            "grid_area": null,
            "grid_auto_columns": null,
            "grid_auto_flow": null,
            "grid_auto_rows": null,
            "grid_column": null,
            "grid_gap": null,
            "grid_row": null,
            "grid_template_areas": null,
            "grid_template_columns": null,
            "grid_template_rows": null,
            "height": null,
            "justify_content": null,
            "justify_items": null,
            "left": null,
            "margin": null,
            "max_height": null,
            "max_width": null,
            "min_height": null,
            "min_width": null,
            "object_fit": null,
            "object_position": null,
            "order": null,
            "overflow": null,
            "overflow_x": null,
            "overflow_y": null,
            "padding": null,
            "right": null,
            "top": null,
            "visibility": null,
            "width": null
          }
        },
        "a8044633cd344dd5b40543c177664bc7": {
          "model_module": "@jupyter-widgets/controls",
          "model_name": "DescriptionStyleModel",
          "model_module_version": "1.5.0",
          "state": {
            "_model_module": "@jupyter-widgets/controls",
            "_model_module_version": "1.5.0",
            "_model_name": "DescriptionStyleModel",
            "_view_count": null,
            "_view_module": "@jupyter-widgets/base",
            "_view_module_version": "1.2.0",
            "_view_name": "StyleView",
            "description_width": ""
          }
        },
        "98388d5d05ad451d876c7f9cd6a4b4fa": {
          "model_module": "@jupyter-widgets/base",
          "model_name": "LayoutModel",
          "model_module_version": "1.2.0",
          "state": {
            "_model_module": "@jupyter-widgets/base",
            "_model_module_version": "1.2.0",
            "_model_name": "LayoutModel",
            "_view_count": null,
            "_view_module": "@jupyter-widgets/base",
            "_view_module_version": "1.2.0",
            "_view_name": "LayoutView",
            "align_content": null,
            "align_items": null,
            "align_self": null,
            "border": null,
            "bottom": null,
            "display": null,
            "flex": null,
            "flex_flow": null,
            "grid_area": null,
            "grid_auto_columns": null,
            "grid_auto_flow": null,
            "grid_auto_rows": null,
            "grid_column": null,
            "grid_gap": null,
            "grid_row": null,
            "grid_template_areas": null,
            "grid_template_columns": null,
            "grid_template_rows": null,
            "height": null,
            "justify_content": null,
            "justify_items": null,
            "left": null,
            "margin": null,
            "max_height": null,
            "max_width": null,
            "min_height": null,
            "min_width": null,
            "object_fit": null,
            "object_position": null,
            "order": null,
            "overflow": null,
            "overflow_x": null,
            "overflow_y": null,
            "padding": null,
            "right": null,
            "top": null,
            "visibility": null,
            "width": null
          }
        },
        "beccc02b10a24eaa877193527a26864d": {
          "model_module": "@jupyter-widgets/controls",
          "model_name": "ProgressStyleModel",
          "model_module_version": "1.5.0",
          "state": {
            "_model_module": "@jupyter-widgets/controls",
            "_model_module_version": "1.5.0",
            "_model_name": "ProgressStyleModel",
            "_view_count": null,
            "_view_module": "@jupyter-widgets/base",
            "_view_module_version": "1.2.0",
            "_view_name": "StyleView",
            "bar_color": null,
            "description_width": ""
          }
        },
        "0904c734f0924ce290b43c4f89343f1c": {
          "model_module": "@jupyter-widgets/base",
          "model_name": "LayoutModel",
          "model_module_version": "1.2.0",
          "state": {
            "_model_module": "@jupyter-widgets/base",
            "_model_module_version": "1.2.0",
            "_model_name": "LayoutModel",
            "_view_count": null,
            "_view_module": "@jupyter-widgets/base",
            "_view_module_version": "1.2.0",
            "_view_name": "LayoutView",
            "align_content": null,
            "align_items": null,
            "align_self": null,
            "border": null,
            "bottom": null,
            "display": null,
            "flex": null,
            "flex_flow": null,
            "grid_area": null,
            "grid_auto_columns": null,
            "grid_auto_flow": null,
            "grid_auto_rows": null,
            "grid_column": null,
            "grid_gap": null,
            "grid_row": null,
            "grid_template_areas": null,
            "grid_template_columns": null,
            "grid_template_rows": null,
            "height": null,
            "justify_content": null,
            "justify_items": null,
            "left": null,
            "margin": null,
            "max_height": null,
            "max_width": null,
            "min_height": null,
            "min_width": null,
            "object_fit": null,
            "object_position": null,
            "order": null,
            "overflow": null,
            "overflow_x": null,
            "overflow_y": null,
            "padding": null,
            "right": null,
            "top": null,
            "visibility": null,
            "width": null
          }
        },
        "915adb6c48cd4731af1b33fbfa2a06ac": {
          "model_module": "@jupyter-widgets/controls",
          "model_name": "DescriptionStyleModel",
          "model_module_version": "1.5.0",
          "state": {
            "_model_module": "@jupyter-widgets/controls",
            "_model_module_version": "1.5.0",
            "_model_name": "DescriptionStyleModel",
            "_view_count": null,
            "_view_module": "@jupyter-widgets/base",
            "_view_module_version": "1.2.0",
            "_view_name": "StyleView",
            "description_width": ""
          }
        }
      }
    }
  },
  "cells": [
    {
      "cell_type": "markdown",
      "metadata": {
        "id": "view-in-github",
        "colab_type": "text"
      },
      "source": [
        "<a href=\"https://colab.research.google.com/github/Abhijith-Nagarajan/PadhAI_Implementations/blob/main/FeedforwardNetwork_Implementation.ipynb\" target=\"_parent\"><img src=\"https://colab.research.google.com/assets/colab-badge.svg\" alt=\"Open In Colab\"/></a>"
      ]
    },
    {
      "cell_type": "code",
      "execution_count": 1,
      "metadata": {
        "id": "0Dl5QXfLgAxG"
      },
      "outputs": [],
      "source": [
        "import pandas as pd\n",
        "import numpy as np\n",
        "import matplotlib.pyplot as plt\n",
        "from sklearn import preprocessing,model_selection, metrics, datasets\n",
        "from tqdm import tqdm_notebook\n",
        "import warnings"
      ]
    },
    {
      "cell_type": "code",
      "source": [
        "warnings.filterwarnings('ignore')"
      ],
      "metadata": {
        "id": "dUZ5pg1JP1aR"
      },
      "execution_count": 2,
      "outputs": []
    },
    {
      "cell_type": "markdown",
      "source": [
        "#### Numpy testing"
      ],
      "metadata": {
        "id": "gmgtpKalr_d2"
      }
    },
    {
      "cell_type": "code",
      "source": [
        "n = 3"
      ],
      "metadata": {
        "id": "gu0MnBn-TBOA"
      },
      "execution_count": 36,
      "outputs": []
    },
    {
      "cell_type": "code",
      "source": [
        "H = np.random.rand(n,3)\n",
        "da = np.random.rand(n,5)"
      ],
      "metadata": {
        "id": "wRD14IEmS2Mb"
      },
      "execution_count": 37,
      "outputs": []
    },
    {
      "cell_type": "code",
      "source": [
        "H*(1-H)"
      ],
      "metadata": {
        "colab": {
          "base_uri": "https://localhost:8080/"
        },
        "id": "cKMG5SC5rADL",
        "outputId": "a17c1154-b1f2-4b0a-fddc-55ec2a9cb1cb"
      },
      "execution_count": 5,
      "outputs": [
        {
          "output_type": "execute_result",
          "data": {
            "text/plain": [
              "array([[0.24901694, 0.17716452, 0.0148509 ],\n",
              "       [0.22502181, 0.12014049, 0.0844629 ],\n",
              "       [0.22813078, 0.05140829, 0.16979485]])"
            ]
          },
          "metadata": {},
          "execution_count": 5
        }
      ]
    },
    {
      "cell_type": "code",
      "source": [
        "np.multiply(H,1-H)"
      ],
      "metadata": {
        "id": "7qTVDcd_TSLs",
        "colab": {
          "base_uri": "https://localhost:8080/"
        },
        "outputId": "4944c43c-9217-4228-e750-9a1c93a9e32c"
      },
      "execution_count": 7,
      "outputs": [
        {
          "output_type": "execute_result",
          "data": {
            "text/plain": [
              "array([[0.24901694, 0.17716452, 0.0148509 ],\n",
              "       [0.22502181, 0.12014049, 0.0844629 ],\n",
              "       [0.22813078, 0.05140829, 0.16979485]])"
            ]
          },
          "metadata": {},
          "execution_count": 7
        }
      ]
    },
    {
      "cell_type": "code",
      "source": [
        "np.matmul(H,1-H)"
      ],
      "metadata": {
        "colab": {
          "base_uri": "https://localhost:8080/"
        },
        "id": "eMgh34xmrOtm",
        "outputId": "b5a16f53-ae60-4629-8179-7b0846be0ff5"
      },
      "execution_count": 6,
      "outputs": [
        {
          "output_type": "execute_result",
          "data": {
            "text/plain": [
              "array([[0.6745157 , 0.49475674, 0.43022462],\n",
              "       [0.63539016, 0.63181972, 0.81034235],\n",
              "       [0.90277307, 0.67341841, 1.03712588]])"
            ]
          },
          "metadata": {},
          "execution_count": 6
        }
      ]
    },
    {
      "cell_type": "code",
      "source": [
        "np.matmul(H,(1-H).T)"
      ],
      "metadata": {
        "colab": {
          "base_uri": "https://localhost:8080/"
        },
        "id": "pZkd1Op-ryMF",
        "outputId": "d5c5dc63-bf2b-4d12-cdfe-40e478f680a0"
      },
      "execution_count": 8,
      "outputs": [
        {
          "output_type": "execute_result",
          "data": {
            "text/plain": [
              "array([[0.44103236, 1.10702157, 0.41313511],\n",
              "       [0.97216917, 0.4296252 , 0.29867325],\n",
              "       [1.04346395, 1.0638545 , 0.44933392]])"
            ]
          },
          "metadata": {},
          "execution_count": 8
        }
      ]
    },
    {
      "cell_type": "code",
      "source": [
        "np.matmul(da.T,H)"
      ],
      "metadata": {
        "colab": {
          "base_uri": "https://localhost:8080/"
        },
        "id": "y-x04bByS2BK",
        "outputId": "eedf2e64-3896-4560-9b35-a77e22a0e252"
      },
      "execution_count": null,
      "outputs": [
        {
          "output_type": "execute_result",
          "data": {
            "text/plain": [
              "array([[0.75248034, 1.89355277, 1.37108509],\n",
              "       [0.39253245, 0.92517398, 0.92219803],\n",
              "       [0.42053513, 1.1794654 , 0.46527184],\n",
              "       [0.50354794, 1.14221176, 0.95742097],\n",
              "       [0.30196949, 0.65536141, 0.77745705]])"
            ]
          },
          "metadata": {},
          "execution_count": 5
        }
      ]
    },
    {
      "cell_type": "code",
      "source": [
        "np.matmul(H.T,da)"
      ],
      "metadata": {
        "id": "YqVch4w2S14q",
        "colab": {
          "base_uri": "https://localhost:8080/"
        },
        "outputId": "520ddaf0-15ed-410e-d4be-7844cae1d205"
      },
      "execution_count": null,
      "outputs": [
        {
          "output_type": "execute_result",
          "data": {
            "text/plain": [
              "array([[0.75248034, 0.39253245, 0.42053513, 0.50354794, 0.30196949],\n",
              "       [1.89355277, 0.92517398, 1.1794654 , 1.14221176, 0.65536141],\n",
              "       [1.37108509, 0.92219803, 0.46527184, 0.95742097, 0.77745705]])"
            ]
          },
          "metadata": {},
          "execution_count": 6
        }
      ]
    },
    {
      "cell_type": "markdown",
      "source": [
        "#### Generating non-linearly separable data"
      ],
      "metadata": {
        "id": "kyYBSOrOsEAt"
      }
    },
    {
      "cell_type": "code",
      "source": [
        "target_classes = 5"
      ],
      "metadata": {
        "id": "6reridnMS0Wh"
      },
      "execution_count": 3,
      "outputs": []
    },
    {
      "cell_type": "code",
      "source": [
        "sample_data, labels = datasets.make_blobs(n_samples=10000,n_features=4,centers=target_classes)"
      ],
      "metadata": {
        "id": "JLfzmXKH42FH"
      },
      "execution_count": 4,
      "outputs": []
    },
    {
      "cell_type": "code",
      "source": [
        "sample_data = np.array(sample_data)"
      ],
      "metadata": {
        "id": "E_ACskAf7Nbs"
      },
      "execution_count": 5,
      "outputs": []
    },
    {
      "cell_type": "code",
      "source": [
        "plt.scatter(sample_data[:,0],sample_data[:,1],c=labels,cmap='magma')"
      ],
      "metadata": {
        "colab": {
          "base_uri": "https://localhost:8080/",
          "height": 447
        },
        "id": "-NCwYoVc7NP-",
        "outputId": "cfd5a0f8-984a-490b-a22d-28778900ae63"
      },
      "execution_count": 6,
      "outputs": [
        {
          "output_type": "execute_result",
          "data": {
            "text/plain": [
              "<matplotlib.collections.PathCollection at 0x7f0036d8c6a0>"
            ]
          },
          "metadata": {},
          "execution_count": 6
        },
        {
          "output_type": "display_data",
          "data": {
            "text/plain": [
              "<Figure size 640x480 with 1 Axes>"
            ],
            "image/png": "[encoded data removed]"
          },
          "metadata": {}
        }
      ]
    },
    {
      "cell_type": "code",
      "source": [
        "oh_encoder = preprocessing.OneHotEncoder()"
      ],
      "metadata": {
        "id": "iz67SMB0aW6f"
      },
      "execution_count": 7,
      "outputs": []
    },
    {
      "cell_type": "code",
      "source": [
        "Y = oh_encoder.fit_transform(np.expand_dims(labels,1)).toarray()"
      ],
      "metadata": {
        "id": "PD_om_8zat6E"
      },
      "execution_count": 8,
      "outputs": []
    },
    {
      "cell_type": "code",
      "source": [
        "def NN_inputs():\n",
        "    print('Inside NN inputs method')\n",
        "    nn_layers = int(input(\"Enter the number of hidden layers: \"))\n",
        "    neurons_per_layer = [int(input(f\"Enter neurons for hidden layer {i+1}: \")) for i in range(nn_layers)]\n",
        "\n",
        "    return (nn_layers,neurons_per_layer)"
      ],
      "metadata": {
        "id": "qzwPWTPc0O1p"
      },
      "execution_count": 9,
      "outputs": []
    },
    {
      "cell_type": "code",
      "source": [
        "layers, neurons_per_layer = NN_inputs()"
      ],
      "metadata": {
        "colab": {
          "base_uri": "https://localhost:8080/"
        },
        "id": "d2ISHPfa0eOV",
        "outputId": "a8a6b958-4782-4d76-c8f3-491d18d42ca1"
      },
      "execution_count": 10,
      "outputs": [
        {
          "name": "stdout",
          "output_type": "stream",
          "text": [
            "Inside NN inputs method\n",
            "Enter the number of hidden layers: 3\n",
            "Enter neurons for hidden layer 1: 3\n",
            "Enter neurons for hidden layer 2: 4\n",
            "Enter neurons for hidden layer 3: 3\n"
          ]
        }
      ]
    },
    {
      "cell_type": "markdown",
      "source": [
        "### Testing"
      ],
      "metadata": {
        "id": "9KTTgUtnmr4z"
      }
    },
    {
      "cell_type": "markdown",
      "source": [
        "\n",
        "```\n",
        "def w_b_test(layers: int, neurons_per_layer: list, input_shape: tuple target_classes: int):\n",
        "    weights = []\n",
        "    bias = []\n",
        "    for layer in range(layers):\n",
        "        m = input_shape[1] if layer==0 else neurons_per_layer[layer-1]\n",
        "        weights.append(np.random.rand(neurons_per_layer[layer],m))\n",
        "        bias.append(np.random.rand(input_shape[0],neurons_per_layer[layer]))\n",
        "\n",
        "    m = neurons_per_layer[-1]\n",
        "    weights.append(np.random.rand(target_classes,m))\n",
        "    bias.append(np.random.rand(input_shape[0],target_classes))\n",
        "\n",
        "    return (weights,bias)\n",
        "```"
      ],
      "metadata": {
        "id": "NoRA_Ht5PFfs"
      }
    },
    {
      "cell_type": "markdown",
      "source": [
        "\n",
        "```\n",
        "w, b = w_b_test(layers,neurons_per_layer,sample_data.shape,target_classes)\n",
        "```"
      ],
      "metadata": {
        "id": "Wt-8VB7_Pek3"
      }
    },
    {
      "cell_type": "markdown",
      "source": [
        "```\n",
        "A = []\n",
        "H = []\n",
        "```"
      ],
      "metadata": {
        "id": "ZAIbjK_yqG1W"
      }
    },
    {
      "cell_type": "markdown",
      "source": [
        "```\n",
        "def softmax_test(H):\n",
        "    denominator = np.sum(np.exp(H),axis=1)\n",
        "    #pdb.set_trace()\n",
        "    probabilities = [np.round(np.exp(H[i])/denominator[i],2) for i in range(len(denominator))]\n",
        "    return probabilities\n",
        "\n",
        "def sigmoid_test(x):\n",
        "    return 1.0/1.0+np.exp(-1*x)\n",
        "\n",
        "def matrix_multiplication(X,w,b):\n",
        "    return np.matmul(X,w.T)+b\n",
        "\n",
        "def fit(X,w,b,layers):\n",
        "    # For the hidden layers\n",
        "    for i in range(layers):\n",
        "        A.append(matrix_multiplication(X,w[i],b[i]) if i == 0 else matrix_multiplication(H[i-1],w[i],b[i]))\n",
        "        H.append(sigmoid_test(A[i]))\n",
        "\n",
        "    # For the last layer. Applying softmax operation to get probabilities\n",
        "    A.append(matrix_multiplication(H[-1],w[-1],b[-1]))\n",
        "    H.append(softmax_test(A[-1]))\n",
        "    y_pred = H[-1]\n",
        "\n",
        "    return y_pred\n",
        "```"
      ],
      "metadata": {
        "id": "9OXrDMurPecP"
      }
    },
    {
      "cell_type": "markdown",
      "source": [
        "```\n",
        "y_pred = fit(sample_data,w,b,layers)\n",
        "```"
      ],
      "metadata": {
        "id": "QeqJVwF2PeRj"
      }
    },
    {
      "cell_type": "markdown",
      "source": [
        "\n",
        "```\n",
        "metrics.log_loss(Y,y_pred)\n",
        "```\n"
      ],
      "metadata": {
        "id": "zhSAntf6bcSq"
      }
    },
    {
      "cell_type": "markdown",
      "source": [
        "Softmax debugging\n",
        "```\n",
        "a = np.array([[0.25,0.15,0.55,0.05],[0.6,0.05,0.25,0.1],[0.1,0.7,0.15,0.05],[0.3,0.1,0.1,0.5]])\n",
        "\n",
        "numerator = np.exp(a)\n",
        "numerator\n",
        "\n",
        "denominator = np.sum(np.exp(a),axis=1)\n",
        "denominator\n",
        "\n",
        "print(numerator[index]/denominator[index] for index in range(len(denominator)))\n",
        "\n",
        "for index in range(len(denominator)):\n",
        "    print(np.round(numerator[index]/denominator[index],2))\n",
        "```"
      ],
      "metadata": {
        "id": "XZXo-6vKOOVP"
      }
    },
    {
      "cell_type": "markdown",
      "source": [
        "### Feedforward class"
      ],
      "metadata": {
        "id": "5qvX3XSgmwqZ"
      }
    },
    {
      "cell_type": "code",
      "source": [
        "class FeedforwardNN:\n",
        "    def __init__(self,layers,neurons_per_layer,input_shape,target_classes):\n",
        "        print('Inside init method.')\n",
        "        self.weights = []\n",
        "        self.bias = []\n",
        "        self.A = []\n",
        "        self.H = []\n",
        "\n",
        "        rows,features = input_shape\n",
        "\n",
        "        # For hidden layers\n",
        "        for layer in range(layers):\n",
        "            m = features if layer==0 else neurons_per_layer[layer-1]\n",
        "            self.weights.append(np.random.rand(neurons_per_layer[layer],m))\n",
        "            self.bias.append(np.random.rand(rows,neurons_per_layer[layer]))\n",
        "\n",
        "        # For output layer\n",
        "        m = neurons_per_layer[-1]\n",
        "        self.weights.append(np.random.rand(target_classes,m))\n",
        "        self.bias.append(np.random.rand(rows,target_classes))\n",
        "        print('Weights and Bias have been initialized.')\n",
        "\n",
        "    def plot_loss_vs_epoch(self,loss:dict):\n",
        "        plt.figure(figsize=(15,7))\n",
        "        plt.plot(loss.keys(),loss.values())\n",
        "        plt.xlabel('Epoch')\n",
        "        plt.ylabel('Loss')\n",
        "        plt.title('Loss vs Epoch')\n",
        "\n",
        "    def softmax_operation(self,a):\n",
        "        exp_term = np.exp(a)\n",
        "        sum_of_exp = np.sum(exp_term,axis=1)\n",
        "        return [exp_term[index]/sum_of_exp[index] for index in range(len(sum_of_exp))]\n",
        "\n",
        "    def sigmoid_operation(self,a):\n",
        "        return 1.0/(1.0+np.exp(-1*(a)))\n",
        "\n",
        "    def derivative_sigmoid(self,layer):\n",
        "        return self.H[layer]*(1-self.H[layer])\n",
        "\n",
        "    def backprop(self,X,Y,Y_pred,layers,learning_rate):\n",
        "        '''\n",
        "        This method performs back propagation to update W,B,A,H\n",
        "        '''\n",
        "        grad_a = Y_pred-Y\n",
        "        for layer in range(layers,0,-1):\n",
        "            grad_w = np.matmul(grad_a.T,self.H[layer-1])\n",
        "            grad_b = grad_a\n",
        "            self.weights[layer] -= learning_rate*grad_w\n",
        "            self.bias[layer] -= learning_rate*grad_b\n",
        "            grad_h = np.matmul(grad_a, self.weights[layer])\n",
        "            # Grad a is computed as an element-wise multiplication of grad_h and derivative of the {[activation for 'a'] = H}  at the previous layer\n",
        "            derivative_h = self.derivative_sigmoid(layer-1)\n",
        "            grad_a = np.multiply(grad_h,derivative_h)\n",
        "\n",
        "        grad_w = np.matmul(grad_a.T,X)\n",
        "        self.weights[0] -= learning_rate*grad_w\n",
        "        self.bias[0] = grad_a\n",
        "\n",
        "    def forward_pass(self,X,layers:int):\n",
        "        '''\n",
        "        This method performs the forward pass.\n",
        "        '''\n",
        "        for layer in range(layers):\n",
        "            a = np.matmul(X,self.weights[layer].T)+self.bias[layer] if layer==0 else np.matmul(self.H[layer-1],self.weights[layer].T)+self.bias[layer]\n",
        "            self.A.append(a)\n",
        "            self.H.append(self.sigmoid_operation(a))\n",
        "\n",
        "        a = np.matmul(self.H[-1],self.weights[-1].T)+self.bias[-1]\n",
        "        self.A.append(a)\n",
        "        self.H.append(self.softmax_operation(a))\n",
        "        return self.H[-1]\n",
        "\n",
        "    def fit(self,X,Y,epochs,layers,learning_rate):\n",
        "        '''\n",
        "        This method performs the training operation\n",
        "        '''\n",
        "        loss = dict()\n",
        "        for epoch in tqdm_notebook(range(epochs),total=epochs,unit=\"epoch\"):\n",
        "            y_pred = self.forward_pass(X,layers)\n",
        "            loss[epoch+1] = metrics.log_loss(Y,y_pred)\n",
        "            self.backprop(X,Y,y_pred,layers,learning_rate)\n",
        "\n",
        "        self.plot_loss_vs_epoch(loss)\n",
        "\n",
        "    def predict(self,X):\n",
        "        '''\n",
        "        This method returns all the predictions on the test set\n",
        "        '''"
      ],
      "metadata": {
        "id": "X9kiQTBugQgu"
      },
      "execution_count": 54,
      "outputs": []
    },
    {
      "cell_type": "code",
      "source": [
        "ffmodel = FeedforwardNN(layers,neurons_per_layer,sample_data.shape,target_classes)"
      ],
      "metadata": {
        "id": "3bb9luW6P3bf",
        "colab": {
          "base_uri": "https://localhost:8080/"
        },
        "outputId": "e8842cd9-8e66-41ff-a36f-feb0c56c6ff9"
      },
      "execution_count": 55,
      "outputs": [
        {
          "output_type": "stream",
          "name": "stdout",
          "text": [
            "Inside init method.\n",
            "Weights and Bias have been initialized.\n"
          ]
        }
      ]
    },
    {
      "cell_type": "code",
      "source": [
        "lr = 0.1\n",
        "epochs = 100"
      ],
      "metadata": {
        "id": "PmR4OmB_Jws6"
      },
      "execution_count": 56,
      "outputs": []
    },
    {
      "cell_type": "code",
      "source": [
        "ffmodel.fit(sample_data,Y,epochs,layers,lr)"
      ],
      "metadata": {
        "id": "r_aqCn21fnmG",
        "colab": {
          "base_uri": "https://localhost:8080/",
          "height": 343,
          "referenced_widgets": [
            "6a84dc019400499facd76dad9f2e77e8",
            "e518c4728aeb4c2d83c74c7d3175dea5",
            "c7421aaa87a547b4a69634f23351a143",
            "3ffa771e2f524edd9b1e9a1ee72f0e8e",
            "87317169bba0463c8d60d89d0eb177c9",
            "8407eee3eb4143d0ba914147cd0b4886",
            "a8044633cd344dd5b40543c177664bc7",
            "98388d5d05ad451d876c7f9cd6a4b4fa",
            "beccc02b10a24eaa877193527a26864d",
            "0904c734f0924ce290b43c4f89343f1c",
            "915adb6c48cd4731af1b33fbfa2a06ac"
          ]
        },
        "outputId": "830adc1c-bb2f-472c-8c61-1d84ef5ba642"
      },
      "execution_count": 57,
      "outputs": [
        {
          "output_type": "display_data",
          "data": {
            "text/plain": [
              "  0%|          | 0/100 [00:00<?, ?epoch/s]"
            ],
            "application/vnd.jupyter.widget-view+json": {
              "version_major": 2,
              "version_minor": 0,
              "model_id": "6a84dc019400499facd76dad9f2e77e8"
            }
          },
          "metadata": {}
        },
        {
          "output_type": "error",
          "ename": "ValueError",
          "evalue": "ignored",
          "traceback": [
            "\u001b[0;31m---------------------------------------------------------------------------\u001b[0m",
            "\u001b[0;31mValueError\u001b[0m                                Traceback (most recent call last)",
            "\u001b[0;32m<ipython-input-57-292ccf734340>\u001b[0m in \u001b[0;36m<cell line: 1>\u001b[0;34m()\u001b[0m\n\u001b[0;32m----> 1\u001b[0;31m \u001b[0mffmodel\u001b[0m\u001b[0;34m.\u001b[0m\u001b[0mfit\u001b[0m\u001b[0;34m(\u001b[0m\u001b[0msample_data\u001b[0m\u001b[0;34m,\u001b[0m\u001b[0mY\u001b[0m\u001b[0;34m,\u001b[0m\u001b[0mepochs\u001b[0m\u001b[0;34m,\u001b[0m\u001b[0mlayers\u001b[0m\u001b[0;34m,\u001b[0m\u001b[0mlr\u001b[0m\u001b[0;34m)\u001b[0m\u001b[0;34m\u001b[0m\u001b[0;34m\u001b[0m\u001b[0m\n\u001b[0m",
            "\u001b[0;32m<ipython-input-54-4f1544077916>\u001b[0m in \u001b[0;36mfit\u001b[0;34m(self, X, Y, epochs, layers, learning_rate)\u001b[0m\n\u001b[1;32m     79\u001b[0m         \u001b[0;32mfor\u001b[0m \u001b[0mepoch\u001b[0m \u001b[0;32min\u001b[0m \u001b[0mtqdm_notebook\u001b[0m\u001b[0;34m(\u001b[0m\u001b[0mrange\u001b[0m\u001b[0;34m(\u001b[0m\u001b[0mepochs\u001b[0m\u001b[0;34m)\u001b[0m\u001b[0;34m,\u001b[0m\u001b[0mtotal\u001b[0m\u001b[0;34m=\u001b[0m\u001b[0mepochs\u001b[0m\u001b[0;34m,\u001b[0m\u001b[0munit\u001b[0m\u001b[0;34m=\u001b[0m\u001b[0;34m\"epoch\"\u001b[0m\u001b[0;34m)\u001b[0m\u001b[0;34m:\u001b[0m\u001b[0;34m\u001b[0m\u001b[0;34m\u001b[0m\u001b[0m\n\u001b[1;32m     80\u001b[0m             \u001b[0my_pred\u001b[0m \u001b[0;34m=\u001b[0m \u001b[0mself\u001b[0m\u001b[0;34m.\u001b[0m\u001b[0mforward_pass\u001b[0m\u001b[0;34m(\u001b[0m\u001b[0mX\u001b[0m\u001b[0;34m,\u001b[0m\u001b[0mlayers\u001b[0m\u001b[0;34m)\u001b[0m\u001b[0;34m\u001b[0m\u001b[0;34m\u001b[0m\u001b[0m\n\u001b[0;32m---> 81\u001b[0;31m             \u001b[0mloss\u001b[0m\u001b[0;34m[\u001b[0m\u001b[0mepoch\u001b[0m\u001b[0;34m+\u001b[0m\u001b[0;36m1\u001b[0m\u001b[0;34m]\u001b[0m \u001b[0;34m=\u001b[0m \u001b[0mmetrics\u001b[0m\u001b[0;34m.\u001b[0m\u001b[0mlog_loss\u001b[0m\u001b[0;34m(\u001b[0m\u001b[0mY\u001b[0m\u001b[0;34m,\u001b[0m\u001b[0my_pred\u001b[0m\u001b[0;34m)\u001b[0m\u001b[0;34m\u001b[0m\u001b[0;34m\u001b[0m\u001b[0m\n\u001b[0m\u001b[1;32m     82\u001b[0m             \u001b[0mself\u001b[0m\u001b[0;34m.\u001b[0m\u001b[0mbackprop\u001b[0m\u001b[0;34m(\u001b[0m\u001b[0mX\u001b[0m\u001b[0;34m,\u001b[0m\u001b[0mY\u001b[0m\u001b[0;34m,\u001b[0m\u001b[0my_pred\u001b[0m\u001b[0;34m,\u001b[0m\u001b[0mlayers\u001b[0m\u001b[0;34m,\u001b[0m\u001b[0mlearning_rate\u001b[0m\u001b[0;34m)\u001b[0m\u001b[0;34m\u001b[0m\u001b[0;34m\u001b[0m\u001b[0m\n\u001b[1;32m     83\u001b[0m \u001b[0;34m\u001b[0m\u001b[0m\n",
            "\u001b[0;32m/usr/local/lib/python3.10/dist-packages/sklearn/metrics/_classification.py\u001b[0m in \u001b[0;36mlog_loss\u001b[0;34m(y_true, y_pred, eps, normalize, sample_weight, labels)\u001b[0m\n\u001b[1;32m   2585\u001b[0m     \u001b[0;36m0.21616\u001b[0m\u001b[0;34m...\u001b[0m\u001b[0;34m\u001b[0m\u001b[0;34m\u001b[0m\u001b[0m\n\u001b[1;32m   2586\u001b[0m     \"\"\"\n\u001b[0;32m-> 2587\u001b[0;31m     y_pred = check_array(\n\u001b[0m\u001b[1;32m   2588\u001b[0m         \u001b[0my_pred\u001b[0m\u001b[0;34m,\u001b[0m \u001b[0mensure_2d\u001b[0m\u001b[0;34m=\u001b[0m\u001b[0;32mFalse\u001b[0m\u001b[0;34m,\u001b[0m \u001b[0mdtype\u001b[0m\u001b[0;34m=\u001b[0m\u001b[0;34m[\u001b[0m\u001b[0mnp\u001b[0m\u001b[0;34m.\u001b[0m\u001b[0mfloat64\u001b[0m\u001b[0;34m,\u001b[0m \u001b[0mnp\u001b[0m\u001b[0;34m.\u001b[0m\u001b[0mfloat32\u001b[0m\u001b[0;34m,\u001b[0m \u001b[0mnp\u001b[0m\u001b[0;34m.\u001b[0m\u001b[0mfloat16\u001b[0m\u001b[0;34m]\u001b[0m\u001b[0;34m\u001b[0m\u001b[0;34m\u001b[0m\u001b[0m\n\u001b[1;32m   2589\u001b[0m     )\n",
            "\u001b[0;32m/usr/local/lib/python3.10/dist-packages/sklearn/utils/validation.py\u001b[0m in \u001b[0;36mcheck_array\u001b[0;34m(array, accept_sparse, accept_large_sparse, dtype, order, copy, force_all_finite, ensure_2d, allow_nd, ensure_min_samples, ensure_min_features, estimator, input_name)\u001b[0m\n\u001b[1;32m    919\u001b[0m \u001b[0;34m\u001b[0m\u001b[0m\n\u001b[1;32m    920\u001b[0m         \u001b[0;32mif\u001b[0m \u001b[0mforce_all_finite\u001b[0m\u001b[0;34m:\u001b[0m\u001b[0;34m\u001b[0m\u001b[0;34m\u001b[0m\u001b[0m\n\u001b[0;32m--> 921\u001b[0;31m             _assert_all_finite(\n\u001b[0m\u001b[1;32m    922\u001b[0m                 \u001b[0marray\u001b[0m\u001b[0;34m,\u001b[0m\u001b[0;34m\u001b[0m\u001b[0;34m\u001b[0m\u001b[0m\n\u001b[1;32m    923\u001b[0m                 \u001b[0minput_name\u001b[0m\u001b[0;34m=\u001b[0m\u001b[0minput_name\u001b[0m\u001b[0;34m,\u001b[0m\u001b[0;34m\u001b[0m\u001b[0;34m\u001b[0m\u001b[0m\n",
            "\u001b[0;32m/usr/local/lib/python3.10/dist-packages/sklearn/utils/validation.py\u001b[0m in \u001b[0;36m_assert_all_finite\u001b[0;34m(X, allow_nan, msg_dtype, estimator_name, input_name)\u001b[0m\n\u001b[1;32m    159\u001b[0m                 \u001b[0;34m\"#estimators-that-handle-nan-values\"\u001b[0m\u001b[0;34m\u001b[0m\u001b[0;34m\u001b[0m\u001b[0m\n\u001b[1;32m    160\u001b[0m             )\n\u001b[0;32m--> 161\u001b[0;31m         \u001b[0;32mraise\u001b[0m \u001b[0mValueError\u001b[0m\u001b[0;34m(\u001b[0m\u001b[0mmsg_err\u001b[0m\u001b[0;34m)\u001b[0m\u001b[0;34m\u001b[0m\u001b[0;34m\u001b[0m\u001b[0m\n\u001b[0m\u001b[1;32m    162\u001b[0m \u001b[0;34m\u001b[0m\u001b[0m\n\u001b[1;32m    163\u001b[0m \u001b[0;34m\u001b[0m\u001b[0m\n",
            "\u001b[0;31mValueError\u001b[0m: Input contains NaN."
          ]
        }
      ]
    },
    {
      "cell_type": "code",
      "source": [],
      "metadata": {
        "id": "z7nCkitmRVBW"
      },
      "execution_count": null,
      "outputs": []
    }
  ]
}