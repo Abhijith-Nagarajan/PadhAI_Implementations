{
  "nbformat": 4,
  "nbformat_minor": 0,
  "metadata": {
    "colab": {
      "provenance": [],
      "gpuType": "T4",
      "authorship_tag": "ABX9TyPPDm8n+/CUYoAgQFlmv6IJ",
      "include_colab_link": true
    },
    "kernelspec": {
      "name": "python3",
      "display_name": "Python 3"
    },
    "language_info": {
      "name": "python"
    },
    "widgets": {
      "application/vnd.jupyter.widget-state+json": {
        "c5ec6dd516e04a28a9c332dcc67b2ac2": {
          "model_module": "@jupyter-widgets/controls",
          "model_name": "HBoxModel",
          "model_module_version": "1.5.0",
          "state": {
            "_dom_classes": [],
            "_model_module": "@jupyter-widgets/controls",
            "_model_module_version": "1.5.0",
            "_model_name": "HBoxModel",
            "_view_count": null,
            "_view_module": "@jupyter-widgets/controls",
            "_view_module_version": "1.5.0",
            "_view_name": "HBoxView",
            "box_style": "",
            "children": [
              "IPY_MODEL_3082e91332614ab78638f9dcf50359ff",
              "IPY_MODEL_b31e1b462eb94b63b5b780d777b410c2",
              "IPY_MODEL_30a65a88cb7a496db648730bf96a2422"
            ],
            "layout": "IPY_MODEL_390c4f5cd273493a9f7ed4f349949739"
          }
        },
        "3082e91332614ab78638f9dcf50359ff": {
          "model_module": "@jupyter-widgets/controls",
          "model_name": "HTMLModel",
          "model_module_version": "1.5.0",
          "state": {
            "_dom_classes": [],
            "_model_module": "@jupyter-widgets/controls",
            "_model_module_version": "1.5.0",
            "_model_name": "HTMLModel",
            "_view_count": null,
            "_view_module": "@jupyter-widgets/controls",
            "_view_module_version": "1.5.0",
            "_view_name": "HTMLView",
            "description": "",
            "description_tooltip": null,
            "layout": "IPY_MODEL_81600e16a399446896375daa98b5fd1e",
            "placeholder": "​",
            "style": "IPY_MODEL_e3371a4df8bd468e9824c988678a5a25",
            "value": "Epochs: 100%"
          }
        },
        "b31e1b462eb94b63b5b780d777b410c2": {
          "model_module": "@jupyter-widgets/controls",
          "model_name": "FloatProgressModel",
          "model_module_version": "1.5.0",
          "state": {
            "_dom_classes": [],
            "_model_module": "@jupyter-widgets/controls",
            "_model_module_version": "1.5.0",
            "_model_name": "FloatProgressModel",
            "_view_count": null,
            "_view_module": "@jupyter-widgets/controls",
            "_view_module_version": "1.5.0",
            "_view_name": "ProgressView",
            "bar_style": "success",
            "description": "",
            "description_tooltip": null,
            "layout": "IPY_MODEL_56cef07e5fc94d6abe1c06672b4413f7",
            "max": 2500,
            "min": 0,
            "orientation": "horizontal",
            "style": "IPY_MODEL_e884afaa347146268b84f0160cd94794",
            "value": 2500
          }
        },
        "30a65a88cb7a496db648730bf96a2422": {
          "model_module": "@jupyter-widgets/controls",
          "model_name": "HTMLModel",
          "model_module_version": "1.5.0",
          "state": {
            "_dom_classes": [],
            "_model_module": "@jupyter-widgets/controls",
            "_model_module_version": "1.5.0",
            "_model_name": "HTMLModel",
            "_view_count": null,
            "_view_module": "@jupyter-widgets/controls",
            "_view_module_version": "1.5.0",
            "_view_name": "HTMLView",
            "description": "",
            "description_tooltip": null,
            "layout": "IPY_MODEL_64d1bd04a96d4526b541c5f19766c4d1",
            "placeholder": "​",
            "style": "IPY_MODEL_59910a72109f45e69f06dc055cfabb29",
            "value": " 2500/2500 [00:00&lt;00:00, 3129.97Epoch/s]"
          }
        },
        "390c4f5cd273493a9f7ed4f349949739": {
          "model_module": "@jupyter-widgets/base",
          "model_name": "LayoutModel",
          "model_module_version": "1.2.0",
          "state": {
            "_model_module": "@jupyter-widgets/base",
            "_model_module_version": "1.2.0",
            "_model_name": "LayoutModel",
            "_view_count": null,
            "_view_module": "@jupyter-widgets/base",
            "_view_module_version": "1.2.0",
            "_view_name": "LayoutView",
            "align_content": null,
            "align_items": null,
            "align_self": null,
            "border": null,
            "bottom": null,
            "display": null,
            "flex": null,
            "flex_flow": null,
            "grid_area": null,
            "grid_auto_columns": null,
            "grid_auto_flow": null,
            "grid_auto_rows": null,
            "grid_column": null,
            "grid_gap": null,
            "grid_row": null,
            "grid_template_areas": null,
            "grid_template_columns": null,
            "grid_template_rows": null,
            "height": null,
            "justify_content": null,
            "justify_items": null,
            "left": null,
            "margin": null,
            "max_height": null,
            "max_width": null,
            "min_height": null,
            "min_width": null,
            "object_fit": null,
            "object_position": null,
            "order": null,
            "overflow": null,
            "overflow_x": null,
            "overflow_y": null,
            "padding": null,
            "right": null,
            "top": null,
            "visibility": null,
            "width": null
          }
        },
        "81600e16a399446896375daa98b5fd1e": {
          "model_module": "@jupyter-widgets/base",
          "model_name": "LayoutModel",
          "model_module_version": "1.2.0",
          "state": {
            "_model_module": "@jupyter-widgets/base",
            "_model_module_version": "1.2.0",
            "_model_name": "LayoutModel",
            "_view_count": null,
            "_view_module": "@jupyter-widgets/base",
            "_view_module_version": "1.2.0",
            "_view_name": "LayoutView",
            "align_content": null,
            "align_items": null,
            "align_self": null,
            "border": null,
            "bottom": null,
            "display": null,
            "flex": null,
            "flex_flow": null,
            "grid_area": null,
            "grid_auto_columns": null,
            "grid_auto_flow": null,
            "grid_auto_rows": null,
            "grid_column": null,
            "grid_gap": null,
            "grid_row": null,
            "grid_template_areas": null,
            "grid_template_columns": null,
            "grid_template_rows": null,
            "height": null,
            "justify_content": null,
            "justify_items": null,
            "left": null,
            "margin": null,
            "max_height": null,
            "max_width": null,
            "min_height": null,
            "min_width": null,
            "object_fit": null,
            "object_position": null,
            "order": null,
            "overflow": null,
            "overflow_x": null,
            "overflow_y": null,
            "padding": null,
            "right": null,
            "top": null,
            "visibility": null,
            "width": null
          }
        },
        "e3371a4df8bd468e9824c988678a5a25": {
          "model_module": "@jupyter-widgets/controls",
          "model_name": "DescriptionStyleModel",
          "model_module_version": "1.5.0",
          "state": {
            "_model_module": "@jupyter-widgets/controls",
            "_model_module_version": "1.5.0",
            "_model_name": "DescriptionStyleModel",
            "_view_count": null,
            "_view_module": "@jupyter-widgets/base",
            "_view_module_version": "1.2.0",
            "_view_name": "StyleView",
            "description_width": ""
          }
        },
        "56cef07e5fc94d6abe1c06672b4413f7": {
          "model_module": "@jupyter-widgets/base",
          "model_name": "LayoutModel",
          "model_module_version": "1.2.0",
          "state": {
            "_model_module": "@jupyter-widgets/base",
            "_model_module_version": "1.2.0",
            "_model_name": "LayoutModel",
            "_view_count": null,
            "_view_module": "@jupyter-widgets/base",
            "_view_module_version": "1.2.0",
            "_view_name": "LayoutView",
            "align_content": null,
            "align_items": null,
            "align_self": null,
            "border": null,
            "bottom": null,
            "display": null,
            "flex": null,
            "flex_flow": null,
            "grid_area": null,
            "grid_auto_columns": null,
            "grid_auto_flow": null,
            "grid_auto_rows": null,
            "grid_column": null,
            "grid_gap": null,
            "grid_row": null,
            "grid_template_areas": null,
            "grid_template_columns": null,
            "grid_template_rows": null,
            "height": null,
            "justify_content": null,
            "justify_items": null,
            "left": null,
            "margin": null,
            "max_height": null,
            "max_width": null,
            "min_height": null,
            "min_width": null,
            "object_fit": null,
            "object_position": null,
            "order": null,
            "overflow": null,
            "overflow_x": null,
            "overflow_y": null,
            "padding": null,
            "right": null,
            "top": null,
            "visibility": null,
            "width": null
          }
        },
        "e884afaa347146268b84f0160cd94794": {
          "model_module": "@jupyter-widgets/controls",
          "model_name": "ProgressStyleModel",
          "model_module_version": "1.5.0",
          "state": {
            "_model_module": "@jupyter-widgets/controls",
            "_model_module_version": "1.5.0",
            "_model_name": "ProgressStyleModel",
            "_view_count": null,
            "_view_module": "@jupyter-widgets/base",
            "_view_module_version": "1.2.0",
            "_view_name": "StyleView",
            "bar_color": null,
            "description_width": ""
          }
        },
        "64d1bd04a96d4526b541c5f19766c4d1": {
          "model_module": "@jupyter-widgets/base",
          "model_name": "LayoutModel",
          "model_module_version": "1.2.0",
          "state": {
            "_model_module": "@jupyter-widgets/base",
            "_model_module_version": "1.2.0",
            "_model_name": "LayoutModel",
            "_view_count": null,
            "_view_module": "@jupyter-widgets/base",
            "_view_module_version": "1.2.0",
            "_view_name": "LayoutView",
            "align_content": null,
            "align_items": null,
            "align_self": null,
            "border": null,
            "bottom": null,
            "display": null,
            "flex": null,
            "flex_flow": null,
            "grid_area": null,
            "grid_auto_columns": null,
            "grid_auto_flow": null,
            "grid_auto_rows": null,
            "grid_column": null,
            "grid_gap": null,
            "grid_row": null,
            "grid_template_areas": null,
            "grid_template_columns": null,
            "grid_template_rows": null,
            "height": null,
            "justify_content": null,
            "justify_items": null,
            "left": null,
            "margin": null,
            "max_height": null,
            "max_width": null,
            "min_height": null,
            "min_width": null,
            "object_fit": null,
            "object_position": null,
            "order": null,
            "overflow": null,
            "overflow_x": null,
            "overflow_y": null,
            "padding": null,
            "right": null,
            "top": null,
            "visibility": null,
            "width": null
          }
        },
        "59910a72109f45e69f06dc055cfabb29": {
          "model_module": "@jupyter-widgets/controls",
          "model_name": "DescriptionStyleModel",
          "model_module_version": "1.5.0",
          "state": {
            "_model_module": "@jupyter-widgets/controls",
            "_model_module_version": "1.5.0",
            "_model_name": "DescriptionStyleModel",
            "_view_count": null,
            "_view_module": "@jupyter-widgets/base",
            "_view_module_version": "1.2.0",
            "_view_name": "StyleView",
            "description_width": ""
          }
        },
        "72918aada0b0403cad5369e618385955": {
          "model_module": "@jupyter-widgets/controls",
          "model_name": "HBoxModel",
          "model_module_version": "1.5.0",
          "state": {
            "_dom_classes": [],
            "_model_module": "@jupyter-widgets/controls",
            "_model_module_version": "1.5.0",
            "_model_name": "HBoxModel",
            "_view_count": null,
            "_view_module": "@jupyter-widgets/controls",
            "_view_module_version": "1.5.0",
            "_view_name": "HBoxView",
            "box_style": "",
            "children": [
              "IPY_MODEL_f384a97faf684bc78150bbbdba270acf",
              "IPY_MODEL_e057a1a664cd4dacafc692bf4eb548d7",
              "IPY_MODEL_ee0f322012f7433288f5ab61f1bccd3c"
            ],
            "layout": "IPY_MODEL_790466d455fb4aa59b1b145ab00c405f"
          }
        },
        "f384a97faf684bc78150bbbdba270acf": {
          "model_module": "@jupyter-widgets/controls",
          "model_name": "HTMLModel",
          "model_module_version": "1.5.0",
          "state": {
            "_dom_classes": [],
            "_model_module": "@jupyter-widgets/controls",
            "_model_module_version": "1.5.0",
            "_model_name": "HTMLModel",
            "_view_count": null,
            "_view_module": "@jupyter-widgets/controls",
            "_view_module_version": "1.5.0",
            "_view_name": "HTMLView",
            "description": "",
            "description_tooltip": null,
            "layout": "IPY_MODEL_34453a500371451e918defcc43711246",
            "placeholder": "​",
            "style": "IPY_MODEL_d411848d4769427eb673390831ae4ebc",
            "value": "Epochs: 100%"
          }
        },
        "e057a1a664cd4dacafc692bf4eb548d7": {
          "model_module": "@jupyter-widgets/controls",
          "model_name": "FloatProgressModel",
          "model_module_version": "1.5.0",
          "state": {
            "_dom_classes": [],
            "_model_module": "@jupyter-widgets/controls",
            "_model_module_version": "1.5.0",
            "_model_name": "FloatProgressModel",
            "_view_count": null,
            "_view_module": "@jupyter-widgets/controls",
            "_view_module_version": "1.5.0",
            "_view_name": "ProgressView",
            "bar_style": "success",
            "description": "",
            "description_tooltip": null,
            "layout": "IPY_MODEL_89fb75beb9eb458b9f4209baae135332",
            "max": 2500,
            "min": 0,
            "orientation": "horizontal",
            "style": "IPY_MODEL_bc2b9283d9184c7b9e87404c39c99024",
            "value": 2500
          }
        },
        "ee0f322012f7433288f5ab61f1bccd3c": {
          "model_module": "@jupyter-widgets/controls",
          "model_name": "HTMLModel",
          "model_module_version": "1.5.0",
          "state": {
            "_dom_classes": [],
            "_model_module": "@jupyter-widgets/controls",
            "_model_module_version": "1.5.0",
            "_model_name": "HTMLModel",
            "_view_count": null,
            "_view_module": "@jupyter-widgets/controls",
            "_view_module_version": "1.5.0",
            "_view_name": "HTMLView",
            "description": "",
            "description_tooltip": null,
            "layout": "IPY_MODEL_986b3fa2d68a480aab2dbbe4c8f34a57",
            "placeholder": "​",
            "style": "IPY_MODEL_f5ca18090e104d30891d28e8d576ea6d",
            "value": " 2500/2500 [00:00&lt;00:00, 3271.41Epoch/s]"
          }
        },
        "790466d455fb4aa59b1b145ab00c405f": {
          "model_module": "@jupyter-widgets/base",
          "model_name": "LayoutModel",
          "model_module_version": "1.2.0",
          "state": {
            "_model_module": "@jupyter-widgets/base",
            "_model_module_version": "1.2.0",
            "_model_name": "LayoutModel",
            "_view_count": null,
            "_view_module": "@jupyter-widgets/base",
            "_view_module_version": "1.2.0",
            "_view_name": "LayoutView",
            "align_content": null,
            "align_items": null,
            "align_self": null,
            "border": null,
            "bottom": null,
            "display": null,
            "flex": null,
            "flex_flow": null,
            "grid_area": null,
            "grid_auto_columns": null,
            "grid_auto_flow": null,
            "grid_auto_rows": null,
            "grid_column": null,
            "grid_gap": null,
            "grid_row": null,
            "grid_template_areas": null,
            "grid_template_columns": null,
            "grid_template_rows": null,
            "height": null,
            "justify_content": null,
            "justify_items": null,
            "left": null,
            "margin": null,
            "max_height": null,
            "max_width": null,
            "min_height": null,
            "min_width": null,
            "object_fit": null,
            "object_position": null,
            "order": null,
            "overflow": null,
            "overflow_x": null,
            "overflow_y": null,
            "padding": null,
            "right": null,
            "top": null,
            "visibility": null,
            "width": null
          }
        },
        "34453a500371451e918defcc43711246": {
          "model_module": "@jupyter-widgets/base",
          "model_name": "LayoutModel",
          "model_module_version": "1.2.0",
          "state": {
            "_model_module": "@jupyter-widgets/base",
            "_model_module_version": "1.2.0",
            "_model_name": "LayoutModel",
            "_view_count": null,
            "_view_module": "@jupyter-widgets/base",
            "_view_module_version": "1.2.0",
            "_view_name": "LayoutView",
            "align_content": null,
            "align_items": null,
            "align_self": null,
            "border": null,
            "bottom": null,
            "display": null,
            "flex": null,
            "flex_flow": null,
            "grid_area": null,
            "grid_auto_columns": null,
            "grid_auto_flow": null,
            "grid_auto_rows": null,
            "grid_column": null,
            "grid_gap": null,
            "grid_row": null,
            "grid_template_areas": null,
            "grid_template_columns": null,
            "grid_template_rows": null,
            "height": null,
            "justify_content": null,
            "justify_items": null,
            "left": null,
            "margin": null,
            "max_height": null,
            "max_width": null,
            "min_height": null,
            "min_width": null,
            "object_fit": null,
            "object_position": null,
            "order": null,
            "overflow": null,
            "overflow_x": null,
            "overflow_y": null,
            "padding": null,
            "right": null,
            "top": null,
            "visibility": null,
            "width": null
          }
        },
        "d411848d4769427eb673390831ae4ebc": {
          "model_module": "@jupyter-widgets/controls",
          "model_name": "DescriptionStyleModel",
          "model_module_version": "1.5.0",
          "state": {
            "_model_module": "@jupyter-widgets/controls",
            "_model_module_version": "1.5.0",
            "_model_name": "DescriptionStyleModel",
            "_view_count": null,
            "_view_module": "@jupyter-widgets/base",
            "_view_module_version": "1.2.0",
            "_view_name": "StyleView",
            "description_width": ""
          }
        },
        "89fb75beb9eb458b9f4209baae135332": {
          "model_module": "@jupyter-widgets/base",
          "model_name": "LayoutModel",
          "model_module_version": "1.2.0",
          "state": {
            "_model_module": "@jupyter-widgets/base",
            "_model_module_version": "1.2.0",
            "_model_name": "LayoutModel",
            "_view_count": null,
            "_view_module": "@jupyter-widgets/base",
            "_view_module_version": "1.2.0",
            "_view_name": "LayoutView",
            "align_content": null,
            "align_items": null,
            "align_self": null,
            "border": null,
            "bottom": null,
            "display": null,
            "flex": null,
            "flex_flow": null,
            "grid_area": null,
            "grid_auto_columns": null,
            "grid_auto_flow": null,
            "grid_auto_rows": null,
            "grid_column": null,
            "grid_gap": null,
            "grid_row": null,
            "grid_template_areas": null,
            "grid_template_columns": null,
            "grid_template_rows": null,
            "height": null,
            "justify_content": null,
            "justify_items": null,
            "left": null,
            "margin": null,
            "max_height": null,
            "max_width": null,
            "min_height": null,
            "min_width": null,
            "object_fit": null,
            "object_position": null,
            "order": null,
            "overflow": null,
            "overflow_x": null,
            "overflow_y": null,
            "padding": null,
            "right": null,
            "top": null,
            "visibility": null,
            "width": null
          }
        },
        "bc2b9283d9184c7b9e87404c39c99024": {
          "model_module": "@jupyter-widgets/controls",
          "model_name": "ProgressStyleModel",
          "model_module_version": "1.5.0",
          "state": {
            "_model_module": "@jupyter-widgets/controls",
            "_model_module_version": "1.5.0",
            "_model_name": "ProgressStyleModel",
            "_view_count": null,
            "_view_module": "@jupyter-widgets/base",
            "_view_module_version": "1.2.0",
            "_view_name": "StyleView",
            "bar_color": null,
            "description_width": ""
          }
        },
        "986b3fa2d68a480aab2dbbe4c8f34a57": {
          "model_module": "@jupyter-widgets/base",
          "model_name": "LayoutModel",
          "model_module_version": "1.2.0",
          "state": {
            "_model_module": "@jupyter-widgets/base",
            "_model_module_version": "1.2.0",
            "_model_name": "LayoutModel",
            "_view_count": null,
            "_view_module": "@jupyter-widgets/base",
            "_view_module_version": "1.2.0",
            "_view_name": "LayoutView",
            "align_content": null,
            "align_items": null,
            "align_self": null,
            "border": null,
            "bottom": null,
            "display": null,
            "flex": null,
            "flex_flow": null,
            "grid_area": null,
            "grid_auto_columns": null,
            "grid_auto_flow": null,
            "grid_auto_rows": null,
            "grid_column": null,
            "grid_gap": null,
            "grid_row": null,
            "grid_template_areas": null,
            "grid_template_columns": null,
            "grid_template_rows": null,
            "height": null,
            "justify_content": null,
            "justify_items": null,
            "left": null,
            "margin": null,
            "max_height": null,
            "max_width": null,
            "min_height": null,
            "min_width": null,
            "object_fit": null,
            "object_position": null,
            "order": null,
            "overflow": null,
            "overflow_x": null,
            "overflow_y": null,
            "padding": null,
            "right": null,
            "top": null,
            "visibility": null,
            "width": null
          }
        },
        "f5ca18090e104d30891d28e8d576ea6d": {
          "model_module": "@jupyter-widgets/controls",
          "model_name": "DescriptionStyleModel",
          "model_module_version": "1.5.0",
          "state": {
            "_model_module": "@jupyter-widgets/controls",
            "_model_module_version": "1.5.0",
            "_model_name": "DescriptionStyleModel",
            "_view_count": null,
            "_view_module": "@jupyter-widgets/base",
            "_view_module_version": "1.2.0",
            "_view_name": "StyleView",
            "description_width": ""
          }
        },
        "4f728ab9358043e2857e64c978ff384b": {
          "model_module": "@jupyter-widgets/controls",
          "model_name": "HBoxModel",
          "model_module_version": "1.5.0",
          "state": {
            "_dom_classes": [],
            "_model_module": "@jupyter-widgets/controls",
            "_model_module_version": "1.5.0",
            "_model_name": "HBoxModel",
            "_view_count": null,
            "_view_module": "@jupyter-widgets/controls",
            "_view_module_version": "1.5.0",
            "_view_name": "HBoxView",
            "box_style": "",
            "children": [
              "IPY_MODEL_ab17fece118c45599d6bb4db0cafe444",
              "IPY_MODEL_ab30b16bad8b45138eb29390f81f9b6c",
              "IPY_MODEL_907137e14cb44a579608cc0a101b2178"
            ],
            "layout": "IPY_MODEL_6ceabc3798714a49882fabc8231cec45"
          }
        },
        "ab17fece118c45599d6bb4db0cafe444": {
          "model_module": "@jupyter-widgets/controls",
          "model_name": "HTMLModel",
          "model_module_version": "1.5.0",
          "state": {
            "_dom_classes": [],
            "_model_module": "@jupyter-widgets/controls",
            "_model_module_version": "1.5.0",
            "_model_name": "HTMLModel",
            "_view_count": null,
            "_view_module": "@jupyter-widgets/controls",
            "_view_module_version": "1.5.0",
            "_view_name": "HTMLView",
            "description": "",
            "description_tooltip": null,
            "layout": "IPY_MODEL_4ca568ddc07544f696bc16e5f85fa150",
            "placeholder": "​",
            "style": "IPY_MODEL_e0b24511cbf84a31a051a45dc21fa841",
            "value": "Epochs: 100%"
          }
        },
        "ab30b16bad8b45138eb29390f81f9b6c": {
          "model_module": "@jupyter-widgets/controls",
          "model_name": "FloatProgressModel",
          "model_module_version": "1.5.0",
          "state": {
            "_dom_classes": [],
            "_model_module": "@jupyter-widgets/controls",
            "_model_module_version": "1.5.0",
            "_model_name": "FloatProgressModel",
            "_view_count": null,
            "_view_module": "@jupyter-widgets/controls",
            "_view_module_version": "1.5.0",
            "_view_name": "ProgressView",
            "bar_style": "success",
            "description": "",
            "description_tooltip": null,
            "layout": "IPY_MODEL_061a07ace71f477aaba061079053031a",
            "max": 2500,
            "min": 0,
            "orientation": "horizontal",
            "style": "IPY_MODEL_d2603f6b194347ef98a7b84219e3c672",
            "value": 2500
          }
        },
        "907137e14cb44a579608cc0a101b2178": {
          "model_module": "@jupyter-widgets/controls",
          "model_name": "HTMLModel",
          "model_module_version": "1.5.0",
          "state": {
            "_dom_classes": [],
            "_model_module": "@jupyter-widgets/controls",
            "_model_module_version": "1.5.0",
            "_model_name": "HTMLModel",
            "_view_count": null,
            "_view_module": "@jupyter-widgets/controls",
            "_view_module_version": "1.5.0",
            "_view_name": "HTMLView",
            "description": "",
            "description_tooltip": null,
            "layout": "IPY_MODEL_09c7cf7e7ef144dc8a4bca0f67cfc9b6",
            "placeholder": "​",
            "style": "IPY_MODEL_5e1eb56c2a2e45eeb358ab7ca364788e",
            "value": " 2500/2500 [00:00&lt;00:00, 3680.77Epoch/s]"
          }
        },
        "6ceabc3798714a49882fabc8231cec45": {
          "model_module": "@jupyter-widgets/base",
          "model_name": "LayoutModel",
          "model_module_version": "1.2.0",
          "state": {
            "_model_module": "@jupyter-widgets/base",
            "_model_module_version": "1.2.0",
            "_model_name": "LayoutModel",
            "_view_count": null,
            "_view_module": "@jupyter-widgets/base",
            "_view_module_version": "1.2.0",
            "_view_name": "LayoutView",
            "align_content": null,
            "align_items": null,
            "align_self": null,
            "border": null,
            "bottom": null,
            "display": null,
            "flex": null,
            "flex_flow": null,
            "grid_area": null,
            "grid_auto_columns": null,
            "grid_auto_flow": null,
            "grid_auto_rows": null,
            "grid_column": null,
            "grid_gap": null,
            "grid_row": null,
            "grid_template_areas": null,
            "grid_template_columns": null,
            "grid_template_rows": null,
            "height": null,
            "justify_content": null,
            "justify_items": null,
            "left": null,
            "margin": null,
            "max_height": null,
            "max_width": null,
            "min_height": null,
            "min_width": null,
            "object_fit": null,
            "object_position": null,
            "order": null,
            "overflow": null,
            "overflow_x": null,
            "overflow_y": null,
            "padding": null,
            "right": null,
            "top": null,
            "visibility": null,
            "width": null
          }
        },
        "4ca568ddc07544f696bc16e5f85fa150": {
          "model_module": "@jupyter-widgets/base",
          "model_name": "LayoutModel",
          "model_module_version": "1.2.0",
          "state": {
            "_model_module": "@jupyter-widgets/base",
            "_model_module_version": "1.2.0",
            "_model_name": "LayoutModel",
            "_view_count": null,
            "_view_module": "@jupyter-widgets/base",
            "_view_module_version": "1.2.0",
            "_view_name": "LayoutView",
            "align_content": null,
            "align_items": null,
            "align_self": null,
            "border": null,
            "bottom": null,
            "display": null,
            "flex": null,
            "flex_flow": null,
            "grid_area": null,
            "grid_auto_columns": null,
            "grid_auto_flow": null,
            "grid_auto_rows": null,
            "grid_column": null,
            "grid_gap": null,
            "grid_row": null,
            "grid_template_areas": null,
            "grid_template_columns": null,
            "grid_template_rows": null,
            "height": null,
            "justify_content": null,
            "justify_items": null,
            "left": null,
            "margin": null,
            "max_height": null,
            "max_width": null,
            "min_height": null,
            "min_width": null,
            "object_fit": null,
            "object_position": null,
            "order": null,
            "overflow": null,
            "overflow_x": null,
            "overflow_y": null,
            "padding": null,
            "right": null,
            "top": null,
            "visibility": null,
            "width": null
          }
        },
        "e0b24511cbf84a31a051a45dc21fa841": {
          "model_module": "@jupyter-widgets/controls",
          "model_name": "DescriptionStyleModel",
          "model_module_version": "1.5.0",
          "state": {
            "_model_module": "@jupyter-widgets/controls",
            "_model_module_version": "1.5.0",
            "_model_name": "DescriptionStyleModel",
            "_view_count": null,
            "_view_module": "@jupyter-widgets/base",
            "_view_module_version": "1.2.0",
            "_view_name": "StyleView",
            "description_width": ""
          }
        },
        "061a07ace71f477aaba061079053031a": {
          "model_module": "@jupyter-widgets/base",
          "model_name": "LayoutModel",
          "model_module_version": "1.2.0",
          "state": {
            "_model_module": "@jupyter-widgets/base",
            "_model_module_version": "1.2.0",
            "_model_name": "LayoutModel",
            "_view_count": null,
            "_view_module": "@jupyter-widgets/base",
            "_view_module_version": "1.2.0",
            "_view_name": "LayoutView",
            "align_content": null,
            "align_items": null,
            "align_self": null,
            "border": null,
            "bottom": null,
            "display": null,
            "flex": null,
            "flex_flow": null,
            "grid_area": null,
            "grid_auto_columns": null,
            "grid_auto_flow": null,
            "grid_auto_rows": null,
            "grid_column": null,
            "grid_gap": null,
            "grid_row": null,
            "grid_template_areas": null,
            "grid_template_columns": null,
            "grid_template_rows": null,
            "height": null,
            "justify_content": null,
            "justify_items": null,
            "left": null,
            "margin": null,
            "max_height": null,
            "max_width": null,
            "min_height": null,
            "min_width": null,
            "object_fit": null,
            "object_position": null,
            "order": null,
            "overflow": null,
            "overflow_x": null,
            "overflow_y": null,
            "padding": null,
            "right": null,
            "top": null,
            "visibility": null,
            "width": null
          }
        },
        "d2603f6b194347ef98a7b84219e3c672": {
          "model_module": "@jupyter-widgets/controls",
          "model_name": "ProgressStyleModel",
          "model_module_version": "1.5.0",
          "state": {
            "_model_module": "@jupyter-widgets/controls",
            "_model_module_version": "1.5.0",
            "_model_name": "ProgressStyleModel",
            "_view_count": null,
            "_view_module": "@jupyter-widgets/base",
            "_view_module_version": "1.2.0",
            "_view_name": "StyleView",
            "bar_color": null,
            "description_width": ""
          }
        },
        "09c7cf7e7ef144dc8a4bca0f67cfc9b6": {
          "model_module": "@jupyter-widgets/base",
          "model_name": "LayoutModel",
          "model_module_version": "1.2.0",
          "state": {
            "_model_module": "@jupyter-widgets/base",
            "_model_module_version": "1.2.0",
            "_model_name": "LayoutModel",
            "_view_count": null,
            "_view_module": "@jupyter-widgets/base",
            "_view_module_version": "1.2.0",
            "_view_name": "LayoutView",
            "align_content": null,
            "align_items": null,
            "align_self": null,
            "border": null,
            "bottom": null,
            "display": null,
            "flex": null,
            "flex_flow": null,
            "grid_area": null,
            "grid_auto_columns": null,
            "grid_auto_flow": null,
            "grid_auto_rows": null,
            "grid_column": null,
            "grid_gap": null,
            "grid_row": null,
            "grid_template_areas": null,
            "grid_template_columns": null,
            "grid_template_rows": null,
            "height": null,
            "justify_content": null,
            "justify_items": null,
            "left": null,
            "margin": null,
            "max_height": null,
            "max_width": null,
            "min_height": null,
            "min_width": null,
            "object_fit": null,
            "object_position": null,
            "order": null,
            "overflow": null,
            "overflow_x": null,
            "overflow_y": null,
            "padding": null,
            "right": null,
            "top": null,
            "visibility": null,
            "width": null
          }
        },
        "5e1eb56c2a2e45eeb358ab7ca364788e": {
          "model_module": "@jupyter-widgets/controls",
          "model_name": "DescriptionStyleModel",
          "model_module_version": "1.5.0",
          "state": {
            "_model_module": "@jupyter-widgets/controls",
            "_model_module_version": "1.5.0",
            "_model_name": "DescriptionStyleModel",
            "_view_count": null,
            "_view_module": "@jupyter-widgets/base",
            "_view_module_version": "1.2.0",
            "_view_name": "StyleView",
            "description_width": ""
          }
        }
      }
    }
  },
  "cells": [
    {
      "cell_type": "markdown",
      "metadata": {
        "id": "view-in-github",
        "colab_type": "text"
      },
      "source": [
        "<a href=\"https://colab.research.google.com/github/Abhijith-Nagarajan/PadhAI_Implementations/blob/main/Optimizers_Implementation.ipynb\" target=\"_parent\"><img src=\"https://colab.research.google.com/assets/colab-badge.svg\" alt=\"Open In Colab\"/></a>"
      ]
    },
    {
      "cell_type": "markdown",
      "source": [
        "<h2> The purpose of this notebook is understand optimization algorithms by building them from scratch</h2>\n",
        "\n",
        "<b> Optimizers to implement </b>\n",
        "1.   Momentum based gradient descent\n",
        "2.   Nestarov Accelerated gradient descent\n",
        "3.   Adagrad\n",
        "4.   RMSProp\n",
        "5.   Adam\n",
        "\n",
        "<b> Similarly, the weights will be updated in two ways:</b>\n",
        "1.   Mini-batch GD\n",
        "2.   Stochastic GD\n",
        "\n",
        "\n"
      ],
      "metadata": {
        "id": "NugkVLyhVEh7"
      }
    },
    {
      "cell_type": "code",
      "source": [
        "import pandas as pd\n",
        "import numpy as np\n",
        "import matplotlib.pyplot as plt\n",
        "from sklearn import datasets,preprocessing,model_selection, metrics\n",
        "import warnings\n",
        "from tqdm import tqdm_notebook"
      ],
      "metadata": {
        "id": "uNqKdZT2rfcN"
      },
      "execution_count": 1,
      "outputs": []
    },
    {
      "cell_type": "code",
      "source": [
        "warnings.filterwarnings('ignore')"
      ],
      "metadata": {
        "id": "Q-xszElHu3cd"
      },
      "execution_count": 2,
      "outputs": []
    },
    {
      "cell_type": "code",
      "source": [
        "np.random.seed(0)"
      ],
      "metadata": {
        "id": "Iq5pYjmHRzSf"
      },
      "execution_count": 3,
      "outputs": []
    },
    {
      "cell_type": "code",
      "source": [
        "# For linear data\n",
        "X_sg = np.array([[1,2,3,4,5],[-1,-2,-3,-4,-5],[0,0.2,0.4,0.6,1],[1,3,5,7,9],[2,3,4,5,6],[2,1,3,4,2],[-3,0,1,4,2],[1,0,4,1,5],[0,0,1,5,3]])\n",
        "Y_sg = np.array([0.2,0.4,0.65,0.81,0.99,0.71,0.8,0.84,0.40])"
      ],
      "metadata": {
        "id": "5VpBDWTGKygM"
      },
      "execution_count": 4,
      "outputs": []
    },
    {
      "cell_type": "code",
      "execution_count": 5,
      "metadata": {
        "id": "GG40-_JHU_8q"
      },
      "outputs": [],
      "source": [
        "class Sigmoid_Neuron_Updated:\n",
        "    def __init__(self,X,loss_function,optimizer='Adam',update_method='mini_batch_GD'):\n",
        "        self.weights = np.random.randn(X.shape[1])\n",
        "        self.v_w, self.v_b = 0,0\n",
        "        self.bias = np.random.randn()\n",
        "        self.loss_function = loss_function\n",
        "        self.optimizer = optimizer\n",
        "\n",
        "        match update_method:\n",
        "            case \"batch_GD\":\n",
        "                self.size_of_batch = X.shape(0)\n",
        "            case \"mini_batch_GD\":\n",
        "                self.size_of_batch = 2\n",
        "            case \"stochastic_GD\":\n",
        "                self.size_of_batch = 1\n",
        "\n",
        "        self.update_method = update_method\n",
        "        print('Initialization has been completed.')\n",
        "\n",
        "    def fit(self,X,Y,lr,epochs):\n",
        "        match self.optimizer:\n",
        "            case \"GD\":\n",
        "                print('Invoking gradient descent flow.')\n",
        "                self.gradient_descent(X,Y,lr,epochs)\n",
        "\n",
        "            case 'Momentum_GD':\n",
        "                print('Invoking momentum gradient descent flow.')\n",
        "                self.momentum_gradient_descent(X,Y,lr,epochs)\n",
        "\n",
        "            case 'NAG':\n",
        "                print('Invoking Nestarov Accelerated gradient descent flow.')\n",
        "                self.nestarov_accelerated_gradient_descent(X,Y,lr,epochs)\n",
        "\n",
        "    def sigmoid_operation(self,x,w=None,b=None):\n",
        "        if w is None:\n",
        "            w = self.weights\n",
        "        if b is None:\n",
        "            b = self.bias\n",
        "        return 1.0/(1.0+np.exp(-1*(np.dot(x,w.T)+b)))\n",
        "\n",
        "    def grad_w(self,x,y,y_pred):\n",
        "        return (y_pred-y)*(y_pred*x*(1-y_pred)) if self.loss_function == 'MSE' else x*(y-y_pred)\n",
        "\n",
        "    def grad_b(self,y,y_pred):\n",
        "        return (y_pred-y)*(y_pred*(1-y_pred)) if self.loss_function == 'MSE' else (y-y_pred)\n",
        "\n",
        "    def plot_loss_vs_epoch(self,loss:dict):\n",
        "        print(f'Plotting Loss vs Epoch for {self.optimizer}')\n",
        "        plt.figure(figsize=(15,6))\n",
        "        plt.scatter(loss.keys(),loss.values())\n",
        "        plt.plot(loss.keys(),loss.values())\n",
        "        plt.xlabel('Epoch')\n",
        "        plt.ylabel('Loss')\n",
        "        plt.title(f'Loss vs Epoch for {self.optimizer}')\n",
        "\n",
        "    def gradient_descent(self,X,Y,lr,epochs):\n",
        "        print('Starting Gradient Descent execution')\n",
        "        loss_dict = dict()\n",
        "        for epoch in tqdm_notebook(range(epochs),desc='Epochs',unit='Epoch'):\n",
        "            dw, db = 0,0\n",
        "            loss = 0\n",
        "            count = 0\n",
        "            for x,y in zip(X,Y):\n",
        "                y_pred = self.sigmoid_operation(x)\n",
        "                dw += self.grad_w(x,y,y_pred)\n",
        "                db += self.grad_b(y,y_pred)\n",
        "                loss +=  0.5*(y-y_pred)**2 if self.loss_function == 'MSE' else y*np.log(y_pred)\n",
        "                count+=1\n",
        "                if count%self.size_of_batch==0:\n",
        "                    self.weights -= lr*dw\n",
        "                    self.bias -= lr*db\n",
        "                    dw,db = 0,0\n",
        "\n",
        "            loss_dict[epoch+1] = loss\n",
        "        self.plot_loss_vs_epoch(loss_dict)\n",
        "\n",
        "    def momentum_gradient_descent(self,X,Y,lr,epochs):\n",
        "        loss_dict = dict()\n",
        "        gamma = 0.9\n",
        "        for epoch in tqdm_notebook(range(epochs),desc='Epochs',unit='Epoch'):\n",
        "            dw, db = 0,0\n",
        "            loss = 0\n",
        "            count = 0\n",
        "            for x,y in zip(X,Y):\n",
        "                y_pred = self.sigmoid_operation(x)\n",
        "                dw += self.grad_w(x,y,y_pred)\n",
        "                db += self.grad_b(y,y_pred)\n",
        "                loss += 0.5*(y-y_pred)**2 if self.loss_function == 'MSE' else y*np.log(y_pred)\n",
        "                count+=1\n",
        "                if count%self.size_of_batch==0:\n",
        "                    self.v_w = gamma*self.v_w + lr*dw\n",
        "                    self.v_b = gamma*self.v_b + lr*db\n",
        "                    self.weights -= self.v_w\n",
        "                    self.bias -= self.v_b\n",
        "                    dw, db = 0,0\n",
        "            loss_dict[epoch+1] = loss\n",
        "        self.plot_loss_vs_epoch(loss_dict)\n",
        "\n",
        "    def nestarov_accelerated_gradient_descent(self,X,Y,lr,epochs):\n",
        "        loss_dict = dict()\n",
        "        gamma = 0.9\n",
        "        for epoch in tqdm_notebook(range(epochs),desc='Epochs',unit='Epoch'):\n",
        "            dw, db = 0,0\n",
        "            loss = 0\n",
        "            count = 0\n",
        "            for x,y in zip(X,Y):\n",
        "                w_temp = self.weights - gamma*self.v_w\n",
        "                b_temp = self.bias - gamma*self.v_b\n",
        "                y_pred = self.sigmoid_operation(x,w_temp,b_temp)\n",
        "                dw += self.grad_w(x,y,y_pred)\n",
        "                db += self.grad_b(y,y_pred)\n",
        "                loss += 0.5*(y-y_pred)**2 if self.loss_function == 'MSE' else y*np.log(y_pred)\n",
        "                count+=1\n",
        "                if count%self.size_of_batch==0:\n",
        "                    self.v_w = gamma*self.v_w + lr*dw\n",
        "                    self.v_b = gamma*self.v_b + lr*db\n",
        "                    self.weights -= self.v_w\n",
        "                    self.bias -= self.v_b\n",
        "                    dw, db = 0,0\n",
        "            loss_dict[epoch+1] = loss\n",
        "        self.plot_loss_vs_epoch(loss_dict)"
      ]
    },
    {
      "cell_type": "code",
      "source": [
        "loss = 'MSE'\n",
        "optimizer = 'GD'"
      ],
      "metadata": {
        "id": "sjpQMGy2lrRa"
      },
      "execution_count": 6,
      "outputs": []
    },
    {
      "cell_type": "code",
      "source": [
        "sn_model = Sigmoid_Neuron_Updated(X_sg,loss,optimizer)"
      ],
      "metadata": {
        "colab": {
          "base_uri": "https://localhost:8080/"
        },
        "id": "tgYHObDclZPt",
        "outputId": "69561d5d-7c91-4757-883b-018c8c80c4e9"
      },
      "execution_count": 7,
      "outputs": [
        {
          "output_type": "stream",
          "name": "stdout",
          "text": [
            "Initialization has been completed.\n"
          ]
        }
      ]
    },
    {
      "cell_type": "code",
      "source": [
        "sn_model.fit(X_sg,Y_sg,0.30,2500)"
      ],
      "metadata": {
        "colab": {
          "base_uri": "https://localhost:8080/",
          "height": 648,
          "referenced_widgets": [
            "c5ec6dd516e04a28a9c332dcc67b2ac2",
            "3082e91332614ab78638f9dcf50359ff",
            "b31e1b462eb94b63b5b780d777b410c2",
            "30a65a88cb7a496db648730bf96a2422",
            "390c4f5cd273493a9f7ed4f349949739",
            "81600e16a399446896375daa98b5fd1e",
            "e3371a4df8bd468e9824c988678a5a25",
            "56cef07e5fc94d6abe1c06672b4413f7",
            "e884afaa347146268b84f0160cd94794",
            "64d1bd04a96d4526b541c5f19766c4d1",
            "59910a72109f45e69f06dc055cfabb29"
          ]
        },
        "id": "gE2MsOb7l51e",
        "outputId": "e38fd58a-5f25-4d7a-9241-f00558953bda"
      },
      "execution_count": 8,
      "outputs": [
        {
          "output_type": "stream",
          "name": "stdout",
          "text": [
            "Invoking gradient descent flow.\n",
            "Starting Gradient Descent execution\n"
          ]
        },
        {
          "output_type": "display_data",
          "data": {
            "text/plain": [
              "Epochs:   0%|          | 0/2500 [00:00<?, ?Epoch/s]"
            ],
            "application/vnd.jupyter.widget-view+json": {
              "version_major": 2,
              "version_minor": 0,
              "model_id": "c5ec6dd516e04a28a9c332dcc67b2ac2"
            }
          },
          "metadata": {}
        },
        {
          "output_type": "stream",
          "name": "stdout",
          "text": [
            "Plotting Loss vs Epoch for GD\n"
          ]
        },
        {
          "output_type": "display_data",
          "data": {
            "text/plain": [
              "<Figure size 1500x600 with 1 Axes>"
            ],
            "image/png": "[encoded data removed]"
          },
          "metadata": {}
        }
      ]
    },
    {
      "cell_type": "code",
      "source": [
        "momentum_model = Sigmoid_Neuron_Updated(X_sg,loss,'Momentum_GD')"
      ],
      "metadata": {
        "colab": {
          "base_uri": "https://localhost:8080/"
        },
        "id": "mZRIvUS0SjY1",
        "outputId": "b2afc92c-5bfe-4006-c144-4b01b1bfab11"
      },
      "execution_count": 9,
      "outputs": [
        {
          "output_type": "stream",
          "name": "stdout",
          "text": [
            "Initialization has been completed.\n"
          ]
        }
      ]
    },
    {
      "cell_type": "code",
      "source": [
        "momentum_model.fit(X_sg,Y_sg,0.1,2500)"
      ],
      "metadata": {
        "colab": {
          "base_uri": "https://localhost:8080/",
          "height": 631,
          "referenced_widgets": [
            "72918aada0b0403cad5369e618385955",
            "f384a97faf684bc78150bbbdba270acf",
            "e057a1a664cd4dacafc692bf4eb548d7",
            "ee0f322012f7433288f5ab61f1bccd3c",
            "790466d455fb4aa59b1b145ab00c405f",
            "34453a500371451e918defcc43711246",
            "d411848d4769427eb673390831ae4ebc",
            "89fb75beb9eb458b9f4209baae135332",
            "bc2b9283d9184c7b9e87404c39c99024",
            "986b3fa2d68a480aab2dbbe4c8f34a57",
            "f5ca18090e104d30891d28e8d576ea6d"
          ]
        },
        "id": "U64ORpNESj42",
        "outputId": "3644933d-40d4-4fdb-fa90-b877434c4a92"
      },
      "execution_count": 10,
      "outputs": [
        {
          "output_type": "stream",
          "name": "stdout",
          "text": [
            "Invoking momentum gradient descent flow.\n"
          ]
        },
        {
          "output_type": "display_data",
          "data": {
            "text/plain": [
              "Epochs:   0%|          | 0/2500 [00:00<?, ?Epoch/s]"
            ],
            "application/vnd.jupyter.widget-view+json": {
              "version_major": 2,
              "version_minor": 0,
              "model_id": "72918aada0b0403cad5369e618385955"
            }
          },
          "metadata": {}
        },
        {
          "output_type": "stream",
          "name": "stdout",
          "text": [
            "Plotting Loss vs Epoch for Momentum_GD\n"
          ]
        },
        {
          "output_type": "display_data",
          "data": {
            "text/plain": [
              "<Figure size 1500x600 with 1 Axes>"
            ],
            "image/png": "[encoded data removed]"
          },
          "metadata": {}
        }
      ]
    },
    {
      "cell_type": "code",
      "source": [
        "nag_model = Sigmoid_Neuron_Updated(X_sg,loss,'NAG')"
      ],
      "metadata": {
        "colab": {
          "base_uri": "https://localhost:8080/"
        },
        "id": "sSejac0_8Mbm",
        "outputId": "c7de920c-3cd5-454f-b1fb-30f31f330fd4"
      },
      "execution_count": 11,
      "outputs": [
        {
          "output_type": "stream",
          "name": "stdout",
          "text": [
            "Initialization has been completed.\n"
          ]
        }
      ]
    },
    {
      "cell_type": "code",
      "source": [
        "nag_model.fit(X_sg,Y_sg,0.1,2500)"
      ],
      "metadata": {
        "colab": {
          "base_uri": "https://localhost:8080/",
          "height": 631,
          "referenced_widgets": [
            "4f728ab9358043e2857e64c978ff384b",
            "ab17fece118c45599d6bb4db0cafe444",
            "ab30b16bad8b45138eb29390f81f9b6c",
            "907137e14cb44a579608cc0a101b2178",
            "6ceabc3798714a49882fabc8231cec45",
            "4ca568ddc07544f696bc16e5f85fa150",
            "e0b24511cbf84a31a051a45dc21fa841",
            "061a07ace71f477aaba061079053031a",
            "d2603f6b194347ef98a7b84219e3c672",
            "09c7cf7e7ef144dc8a4bca0f67cfc9b6",
            "5e1eb56c2a2e45eeb358ab7ca364788e"
          ]
        },
        "id": "EpiyNgqD8MF4",
        "outputId": "6a388d7f-8293-441c-abb5-24f422175436"
      },
      "execution_count": 12,
      "outputs": [
        {
          "output_type": "stream",
          "name": "stdout",
          "text": [
            "Invoking Nestarov Accelerated gradient descent flow.\n"
          ]
        },
        {
          "output_type": "display_data",
          "data": {
            "text/plain": [
              "Epochs:   0%|          | 0/2500 [00:00<?, ?Epoch/s]"
            ],
            "application/vnd.jupyter.widget-view+json": {
              "version_major": 2,
              "version_minor": 0,
              "model_id": "4f728ab9358043e2857e64c978ff384b"
            }
          },
          "metadata": {}
        },
        {
          "output_type": "stream",
          "name": "stdout",
          "text": [
            "Plotting Loss vs Epoch for NAG\n"
          ]
        },
        {
          "output_type": "display_data",
          "data": {
            "text/plain": [
              "<Figure size 1500x600 with 1 Axes>"
            ],
            "image/png": "[encoded data removed]"
          },
          "metadata": {}
        }
      ]
    },
    {
      "cell_type": "code",
      "source": [
        "# For non-linear data\n",
        "X,Y = datasets.make_blobs(n_samples=100000,n_features=10,centers=2)"
      ],
      "metadata": {
        "id": "krTMRKLRvKng"
      },
      "execution_count": null,
      "outputs": []
    },
    {
      "cell_type": "markdown",
      "source": [
        "Converting the first and second features into sparse data"
      ],
      "metadata": {
        "id": "9E9SkWje0vG3"
      }
    },
    {
      "cell_type": "code",
      "source": [
        "X[:90000,0] = 0\n",
        "X[90001:,0] = 1\n",
        "\n",
        "X[:90000,1] = 0\n",
        "X[90001:,1] = 1"
      ],
      "metadata": {
        "id": "giPwPNhSw_PP"
      },
      "execution_count": null,
      "outputs": []
    },
    {
      "cell_type": "code",
      "source": [
        "np.random.shuffle(X[0])\n",
        "np.random.shuffle(X[1])"
      ],
      "metadata": {
        "id": "hdTqOWHNxHsH"
      },
      "execution_count": null,
      "outputs": []
    },
    {
      "cell_type": "code",
      "source": [],
      "metadata": {
        "id": "tsBNuTn2FSqH"
      },
      "execution_count": null,
      "outputs": []
    }
  ]
}