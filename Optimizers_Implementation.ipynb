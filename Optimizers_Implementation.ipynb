{
  "nbformat": 4,
  "nbformat_minor": 0,
  "metadata": {
    "colab": {
      "provenance": [],
      "gpuType": "T4",
      "collapsed_sections": [
        "_m1yDtaQrtyT",
        "sEJOdkhorzzE"
      ],
      "authorship_tag": "ABX9TyObsEu4IbLkOotA0leM9w/W",
      "include_colab_link": true
    },
    "kernelspec": {
      "name": "python3",
      "display_name": "Python 3"
    },
    "language_info": {
      "name": "python"
    },
    "widgets": {
      "application/vnd.jupyter.widget-state+json": {
        "c5ec6dd516e04a28a9c332dcc67b2ac2": {
          "model_module": "@jupyter-widgets/controls",
          "model_name": "HBoxModel",
          "model_module_version": "1.5.0",
          "state": {
            "_dom_classes": [],
            "_model_module": "@jupyter-widgets/controls",
            "_model_module_version": "1.5.0",
            "_model_name": "HBoxModel",
            "_view_count": null,
            "_view_module": "@jupyter-widgets/controls",
            "_view_module_version": "1.5.0",
            "_view_name": "HBoxView",
            "box_style": "",
            "children": [
              "IPY_MODEL_3082e91332614ab78638f9dcf50359ff",
              "IPY_MODEL_b31e1b462eb94b63b5b780d777b410c2",
              "IPY_MODEL_30a65a88cb7a496db648730bf96a2422"
            ],
            "layout": "IPY_MODEL_390c4f5cd273493a9f7ed4f349949739"
          }
        },
        "3082e91332614ab78638f9dcf50359ff": {
          "model_module": "@jupyter-widgets/controls",
          "model_name": "HTMLModel",
          "model_module_version": "1.5.0",
          "state": {
            "_dom_classes": [],
            "_model_module": "@jupyter-widgets/controls",
            "_model_module_version": "1.5.0",
            "_model_name": "HTMLModel",
            "_view_count": null,
            "_view_module": "@jupyter-widgets/controls",
            "_view_module_version": "1.5.0",
            "_view_name": "HTMLView",
            "description": "",
            "description_tooltip": null,
            "layout": "IPY_MODEL_81600e16a399446896375daa98b5fd1e",
            "placeholder": "​",
            "style": "IPY_MODEL_e3371a4df8bd468e9824c988678a5a25",
            "value": "Epochs: 100%"
          }
        },
        "b31e1b462eb94b63b5b780d777b410c2": {
          "model_module": "@jupyter-widgets/controls",
          "model_name": "FloatProgressModel",
          "model_module_version": "1.5.0",
          "state": {
            "_dom_classes": [],
            "_model_module": "@jupyter-widgets/controls",
            "_model_module_version": "1.5.0",
            "_model_name": "FloatProgressModel",
            "_view_count": null,
            "_view_module": "@jupyter-widgets/controls",
            "_view_module_version": "1.5.0",
            "_view_name": "ProgressView",
            "bar_style": "success",
            "description": "",
            "description_tooltip": null,
            "layout": "IPY_MODEL_56cef07e5fc94d6abe1c06672b4413f7",
            "max": 2500,
            "min": 0,
            "orientation": "horizontal",
            "style": "IPY_MODEL_e884afaa347146268b84f0160cd94794",
            "value": 2500
          }
        },
        "30a65a88cb7a496db648730bf96a2422": {
          "model_module": "@jupyter-widgets/controls",
          "model_name": "HTMLModel",
          "model_module_version": "1.5.0",
          "state": {
            "_dom_classes": [],
            "_model_module": "@jupyter-widgets/controls",
            "_model_module_version": "1.5.0",
            "_model_name": "HTMLModel",
            "_view_count": null,
            "_view_module": "@jupyter-widgets/controls",
            "_view_module_version": "1.5.0",
            "_view_name": "HTMLView",
            "description": "",
            "description_tooltip": null,
            "layout": "IPY_MODEL_64d1bd04a96d4526b541c5f19766c4d1",
            "placeholder": "​",
            "style": "IPY_MODEL_59910a72109f45e69f06dc055cfabb29",
            "value": " 2500/2500 [00:00&lt;00:00, 3129.97Epoch/s]"
          }
        },
        "390c4f5cd273493a9f7ed4f349949739": {
          "model_module": "@jupyter-widgets/base",
          "model_name": "LayoutModel",
          "model_module_version": "1.2.0",
          "state": {
            "_model_module": "@jupyter-widgets/base",
            "_model_module_version": "1.2.0",
            "_model_name": "LayoutModel",
            "_view_count": null,
            "_view_module": "@jupyter-widgets/base",
            "_view_module_version": "1.2.0",
            "_view_name": "LayoutView",
            "align_content": null,
            "align_items": null,
            "align_self": null,
            "border": null,
            "bottom": null,
            "display": null,
            "flex": null,
            "flex_flow": null,
            "grid_area": null,
            "grid_auto_columns": null,
            "grid_auto_flow": null,
            "grid_auto_rows": null,
            "grid_column": null,
            "grid_gap": null,
            "grid_row": null,
            "grid_template_areas": null,
            "grid_template_columns": null,
            "grid_template_rows": null,
            "height": null,
            "justify_content": null,
            "justify_items": null,
            "left": null,
            "margin": null,
            "max_height": null,
            "max_width": null,
            "min_height": null,
            "min_width": null,
            "object_fit": null,
            "object_position": null,
            "order": null,
            "overflow": null,
            "overflow_x": null,
            "overflow_y": null,
            "padding": null,
            "right": null,
            "top": null,
            "visibility": null,
            "width": null
          }
        },
        "81600e16a399446896375daa98b5fd1e": {
          "model_module": "@jupyter-widgets/base",
          "model_name": "LayoutModel",
          "model_module_version": "1.2.0",
          "state": {
            "_model_module": "@jupyter-widgets/base",
            "_model_module_version": "1.2.0",
            "_model_name": "LayoutModel",
            "_view_count": null,
            "_view_module": "@jupyter-widgets/base",
            "_view_module_version": "1.2.0",
            "_view_name": "LayoutView",
            "align_content": null,
            "align_items": null,
            "align_self": null,
            "border": null,
            "bottom": null,
            "display": null,
            "flex": null,
            "flex_flow": null,
            "grid_area": null,
            "grid_auto_columns": null,
            "grid_auto_flow": null,
            "grid_auto_rows": null,
            "grid_column": null,
            "grid_gap": null,
            "grid_row": null,
            "grid_template_areas": null,
            "grid_template_columns": null,
            "grid_template_rows": null,
            "height": null,
            "justify_content": null,
            "justify_items": null,
            "left": null,
            "margin": null,
            "max_height": null,
            "max_width": null,
            "min_height": null,
            "min_width": null,
            "object_fit": null,
            "object_position": null,
            "order": null,
            "overflow": null,
            "overflow_x": null,
            "overflow_y": null,
            "padding": null,
            "right": null,
            "top": null,
            "visibility": null,
            "width": null
          }
        },
        "e3371a4df8bd468e9824c988678a5a25": {
          "model_module": "@jupyter-widgets/controls",
          "model_name": "DescriptionStyleModel",
          "model_module_version": "1.5.0",
          "state": {
            "_model_module": "@jupyter-widgets/controls",
            "_model_module_version": "1.5.0",
            "_model_name": "DescriptionStyleModel",
            "_view_count": null,
            "_view_module": "@jupyter-widgets/base",
            "_view_module_version": "1.2.0",
            "_view_name": "StyleView",
            "description_width": ""
          }
        },
        "56cef07e5fc94d6abe1c06672b4413f7": {
          "model_module": "@jupyter-widgets/base",
          "model_name": "LayoutModel",
          "model_module_version": "1.2.0",
          "state": {
            "_model_module": "@jupyter-widgets/base",
            "_model_module_version": "1.2.0",
            "_model_name": "LayoutModel",
            "_view_count": null,
            "_view_module": "@jupyter-widgets/base",
            "_view_module_version": "1.2.0",
            "_view_name": "LayoutView",
            "align_content": null,
            "align_items": null,
            "align_self": null,
            "border": null,
            "bottom": null,
            "display": null,
            "flex": null,
            "flex_flow": null,
            "grid_area": null,
            "grid_auto_columns": null,
            "grid_auto_flow": null,
            "grid_auto_rows": null,
            "grid_column": null,
            "grid_gap": null,
            "grid_row": null,
            "grid_template_areas": null,
            "grid_template_columns": null,
            "grid_template_rows": null,
            "height": null,
            "justify_content": null,
            "justify_items": null,
            "left": null,
            "margin": null,
            "max_height": null,
            "max_width": null,
            "min_height": null,
            "min_width": null,
            "object_fit": null,
            "object_position": null,
            "order": null,
            "overflow": null,
            "overflow_x": null,
            "overflow_y": null,
            "padding": null,
            "right": null,
            "top": null,
            "visibility": null,
            "width": null
          }
        },
        "e884afaa347146268b84f0160cd94794": {
          "model_module": "@jupyter-widgets/controls",
          "model_name": "ProgressStyleModel",
          "model_module_version": "1.5.0",
          "state": {
            "_model_module": "@jupyter-widgets/controls",
            "_model_module_version": "1.5.0",
            "_model_name": "ProgressStyleModel",
            "_view_count": null,
            "_view_module": "@jupyter-widgets/base",
            "_view_module_version": "1.2.0",
            "_view_name": "StyleView",
            "bar_color": null,
            "description_width": ""
          }
        },
        "64d1bd04a96d4526b541c5f19766c4d1": {
          "model_module": "@jupyter-widgets/base",
          "model_name": "LayoutModel",
          "model_module_version": "1.2.0",
          "state": {
            "_model_module": "@jupyter-widgets/base",
            "_model_module_version": "1.2.0",
            "_model_name": "LayoutModel",
            "_view_count": null,
            "_view_module": "@jupyter-widgets/base",
            "_view_module_version": "1.2.0",
            "_view_name": "LayoutView",
            "align_content": null,
            "align_items": null,
            "align_self": null,
            "border": null,
            "bottom": null,
            "display": null,
            "flex": null,
            "flex_flow": null,
            "grid_area": null,
            "grid_auto_columns": null,
            "grid_auto_flow": null,
            "grid_auto_rows": null,
            "grid_column": null,
            "grid_gap": null,
            "grid_row": null,
            "grid_template_areas": null,
            "grid_template_columns": null,
            "grid_template_rows": null,
            "height": null,
            "justify_content": null,
            "justify_items": null,
            "left": null,
            "margin": null,
            "max_height": null,
            "max_width": null,
            "min_height": null,
            "min_width": null,
            "object_fit": null,
            "object_position": null,
            "order": null,
            "overflow": null,
            "overflow_x": null,
            "overflow_y": null,
            "padding": null,
            "right": null,
            "top": null,
            "visibility": null,
            "width": null
          }
        },
        "59910a72109f45e69f06dc055cfabb29": {
          "model_module": "@jupyter-widgets/controls",
          "model_name": "DescriptionStyleModel",
          "model_module_version": "1.5.0",
          "state": {
            "_model_module": "@jupyter-widgets/controls",
            "_model_module_version": "1.5.0",
            "_model_name": "DescriptionStyleModel",
            "_view_count": null,
            "_view_module": "@jupyter-widgets/base",
            "_view_module_version": "1.2.0",
            "_view_name": "StyleView",
            "description_width": ""
          }
        },
        "72918aada0b0403cad5369e618385955": {
          "model_module": "@jupyter-widgets/controls",
          "model_name": "HBoxModel",
          "model_module_version": "1.5.0",
          "state": {
            "_dom_classes": [],
            "_model_module": "@jupyter-widgets/controls",
            "_model_module_version": "1.5.0",
            "_model_name": "HBoxModel",
            "_view_count": null,
            "_view_module": "@jupyter-widgets/controls",
            "_view_module_version": "1.5.0",
            "_view_name": "HBoxView",
            "box_style": "",
            "children": [
              "IPY_MODEL_f384a97faf684bc78150bbbdba270acf",
              "IPY_MODEL_e057a1a664cd4dacafc692bf4eb548d7",
              "IPY_MODEL_ee0f322012f7433288f5ab61f1bccd3c"
            ],
            "layout": "IPY_MODEL_790466d455fb4aa59b1b145ab00c405f"
          }
        },
        "f384a97faf684bc78150bbbdba270acf": {
          "model_module": "@jupyter-widgets/controls",
          "model_name": "HTMLModel",
          "model_module_version": "1.5.0",
          "state": {
            "_dom_classes": [],
            "_model_module": "@jupyter-widgets/controls",
            "_model_module_version": "1.5.0",
            "_model_name": "HTMLModel",
            "_view_count": null,
            "_view_module": "@jupyter-widgets/controls",
            "_view_module_version": "1.5.0",
            "_view_name": "HTMLView",
            "description": "",
            "description_tooltip": null,
            "layout": "IPY_MODEL_34453a500371451e918defcc43711246",
            "placeholder": "​",
            "style": "IPY_MODEL_d411848d4769427eb673390831ae4ebc",
            "value": "Epochs: 100%"
          }
        },
        "e057a1a664cd4dacafc692bf4eb548d7": {
          "model_module": "@jupyter-widgets/controls",
          "model_name": "FloatProgressModel",
          "model_module_version": "1.5.0",
          "state": {
            "_dom_classes": [],
            "_model_module": "@jupyter-widgets/controls",
            "_model_module_version": "1.5.0",
            "_model_name": "FloatProgressModel",
            "_view_count": null,
            "_view_module": "@jupyter-widgets/controls",
            "_view_module_version": "1.5.0",
            "_view_name": "ProgressView",
            "bar_style": "success",
            "description": "",
            "description_tooltip": null,
            "layout": "IPY_MODEL_89fb75beb9eb458b9f4209baae135332",
            "max": 2500,
            "min": 0,
            "orientation": "horizontal",
            "style": "IPY_MODEL_bc2b9283d9184c7b9e87404c39c99024",
            "value": 2500
          }
        },
        "ee0f322012f7433288f5ab61f1bccd3c": {
          "model_module": "@jupyter-widgets/controls",
          "model_name": "HTMLModel",
          "model_module_version": "1.5.0",
          "state": {
            "_dom_classes": [],
            "_model_module": "@jupyter-widgets/controls",
            "_model_module_version": "1.5.0",
            "_model_name": "HTMLModel",
            "_view_count": null,
            "_view_module": "@jupyter-widgets/controls",
            "_view_module_version": "1.5.0",
            "_view_name": "HTMLView",
            "description": "",
            "description_tooltip": null,
            "layout": "IPY_MODEL_986b3fa2d68a480aab2dbbe4c8f34a57",
            "placeholder": "​",
            "style": "IPY_MODEL_f5ca18090e104d30891d28e8d576ea6d",
            "value": " 2500/2500 [00:00&lt;00:00, 3271.41Epoch/s]"
          }
        },
        "790466d455fb4aa59b1b145ab00c405f": {
          "model_module": "@jupyter-widgets/base",
          "model_name": "LayoutModel",
          "model_module_version": "1.2.0",
          "state": {
            "_model_module": "@jupyter-widgets/base",
            "_model_module_version": "1.2.0",
            "_model_name": "LayoutModel",
            "_view_count": null,
            "_view_module": "@jupyter-widgets/base",
            "_view_module_version": "1.2.0",
            "_view_name": "LayoutView",
            "align_content": null,
            "align_items": null,
            "align_self": null,
            "border": null,
            "bottom": null,
            "display": null,
            "flex": null,
            "flex_flow": null,
            "grid_area": null,
            "grid_auto_columns": null,
            "grid_auto_flow": null,
            "grid_auto_rows": null,
            "grid_column": null,
            "grid_gap": null,
            "grid_row": null,
            "grid_template_areas": null,
            "grid_template_columns": null,
            "grid_template_rows": null,
            "height": null,
            "justify_content": null,
            "justify_items": null,
            "left": null,
            "margin": null,
            "max_height": null,
            "max_width": null,
            "min_height": null,
            "min_width": null,
            "object_fit": null,
            "object_position": null,
            "order": null,
            "overflow": null,
            "overflow_x": null,
            "overflow_y": null,
            "padding": null,
            "right": null,
            "top": null,
            "visibility": null,
            "width": null
          }
        },
        "34453a500371451e918defcc43711246": {
          "model_module": "@jupyter-widgets/base",
          "model_name": "LayoutModel",
          "model_module_version": "1.2.0",
          "state": {
            "_model_module": "@jupyter-widgets/base",
            "_model_module_version": "1.2.0",
            "_model_name": "LayoutModel",
            "_view_count": null,
            "_view_module": "@jupyter-widgets/base",
            "_view_module_version": "1.2.0",
            "_view_name": "LayoutView",
            "align_content": null,
            "align_items": null,
            "align_self": null,
            "border": null,
            "bottom": null,
            "display": null,
            "flex": null,
            "flex_flow": null,
            "grid_area": null,
            "grid_auto_columns": null,
            "grid_auto_flow": null,
            "grid_auto_rows": null,
            "grid_column": null,
            "grid_gap": null,
            "grid_row": null,
            "grid_template_areas": null,
            "grid_template_columns": null,
            "grid_template_rows": null,
            "height": null,
            "justify_content": null,
            "justify_items": null,
            "left": null,
            "margin": null,
            "max_height": null,
            "max_width": null,
            "min_height": null,
            "min_width": null,
            "object_fit": null,
            "object_position": null,
            "order": null,
            "overflow": null,
            "overflow_x": null,
            "overflow_y": null,
            "padding": null,
            "right": null,
            "top": null,
            "visibility": null,
            "width": null
          }
        },
        "d411848d4769427eb673390831ae4ebc": {
          "model_module": "@jupyter-widgets/controls",
          "model_name": "DescriptionStyleModel",
          "model_module_version": "1.5.0",
          "state": {
            "_model_module": "@jupyter-widgets/controls",
            "_model_module_version": "1.5.0",
            "_model_name": "DescriptionStyleModel",
            "_view_count": null,
            "_view_module": "@jupyter-widgets/base",
            "_view_module_version": "1.2.0",
            "_view_name": "StyleView",
            "description_width": ""
          }
        },
        "89fb75beb9eb458b9f4209baae135332": {
          "model_module": "@jupyter-widgets/base",
          "model_name": "LayoutModel",
          "model_module_version": "1.2.0",
          "state": {
            "_model_module": "@jupyter-widgets/base",
            "_model_module_version": "1.2.0",
            "_model_name": "LayoutModel",
            "_view_count": null,
            "_view_module": "@jupyter-widgets/base",
            "_view_module_version": "1.2.0",
            "_view_name": "LayoutView",
            "align_content": null,
            "align_items": null,
            "align_self": null,
            "border": null,
            "bottom": null,
            "display": null,
            "flex": null,
            "flex_flow": null,
            "grid_area": null,
            "grid_auto_columns": null,
            "grid_auto_flow": null,
            "grid_auto_rows": null,
            "grid_column": null,
            "grid_gap": null,
            "grid_row": null,
            "grid_template_areas": null,
            "grid_template_columns": null,
            "grid_template_rows": null,
            "height": null,
            "justify_content": null,
            "justify_items": null,
            "left": null,
            "margin": null,
            "max_height": null,
            "max_width": null,
            "min_height": null,
            "min_width": null,
            "object_fit": null,
            "object_position": null,
            "order": null,
            "overflow": null,
            "overflow_x": null,
            "overflow_y": null,
            "padding": null,
            "right": null,
            "top": null,
            "visibility": null,
            "width": null
          }
        },
        "bc2b9283d9184c7b9e87404c39c99024": {
          "model_module": "@jupyter-widgets/controls",
          "model_name": "ProgressStyleModel",
          "model_module_version": "1.5.0",
          "state": {
            "_model_module": "@jupyter-widgets/controls",
            "_model_module_version": "1.5.0",
            "_model_name": "ProgressStyleModel",
            "_view_count": null,
            "_view_module": "@jupyter-widgets/base",
            "_view_module_version": "1.2.0",
            "_view_name": "StyleView",
            "bar_color": null,
            "description_width": ""
          }
        },
        "986b3fa2d68a480aab2dbbe4c8f34a57": {
          "model_module": "@jupyter-widgets/base",
          "model_name": "LayoutModel",
          "model_module_version": "1.2.0",
          "state": {
            "_model_module": "@jupyter-widgets/base",
            "_model_module_version": "1.2.0",
            "_model_name": "LayoutModel",
            "_view_count": null,
            "_view_module": "@jupyter-widgets/base",
            "_view_module_version": "1.2.0",
            "_view_name": "LayoutView",
            "align_content": null,
            "align_items": null,
            "align_self": null,
            "border": null,
            "bottom": null,
            "display": null,
            "flex": null,
            "flex_flow": null,
            "grid_area": null,
            "grid_auto_columns": null,
            "grid_auto_flow": null,
            "grid_auto_rows": null,
            "grid_column": null,
            "grid_gap": null,
            "grid_row": null,
            "grid_template_areas": null,
            "grid_template_columns": null,
            "grid_template_rows": null,
            "height": null,
            "justify_content": null,
            "justify_items": null,
            "left": null,
            "margin": null,
            "max_height": null,
            "max_width": null,
            "min_height": null,
            "min_width": null,
            "object_fit": null,
            "object_position": null,
            "order": null,
            "overflow": null,
            "overflow_x": null,
            "overflow_y": null,
            "padding": null,
            "right": null,
            "top": null,
            "visibility": null,
            "width": null
          }
        },
        "f5ca18090e104d30891d28e8d576ea6d": {
          "model_module": "@jupyter-widgets/controls",
          "model_name": "DescriptionStyleModel",
          "model_module_version": "1.5.0",
          "state": {
            "_model_module": "@jupyter-widgets/controls",
            "_model_module_version": "1.5.0",
            "_model_name": "DescriptionStyleModel",
            "_view_count": null,
            "_view_module": "@jupyter-widgets/base",
            "_view_module_version": "1.2.0",
            "_view_name": "StyleView",
            "description_width": ""
          }
        },
        "4f728ab9358043e2857e64c978ff384b": {
          "model_module": "@jupyter-widgets/controls",
          "model_name": "HBoxModel",
          "model_module_version": "1.5.0",
          "state": {
            "_dom_classes": [],
            "_model_module": "@jupyter-widgets/controls",
            "_model_module_version": "1.5.0",
            "_model_name": "HBoxModel",
            "_view_count": null,
            "_view_module": "@jupyter-widgets/controls",
            "_view_module_version": "1.5.0",
            "_view_name": "HBoxView",
            "box_style": "",
            "children": [
              "IPY_MODEL_ab17fece118c45599d6bb4db0cafe444",
              "IPY_MODEL_ab30b16bad8b45138eb29390f81f9b6c",
              "IPY_MODEL_907137e14cb44a579608cc0a101b2178"
            ],
            "layout": "IPY_MODEL_6ceabc3798714a49882fabc8231cec45"
          }
        },
        "ab17fece118c45599d6bb4db0cafe444": {
          "model_module": "@jupyter-widgets/controls",
          "model_name": "HTMLModel",
          "model_module_version": "1.5.0",
          "state": {
            "_dom_classes": [],
            "_model_module": "@jupyter-widgets/controls",
            "_model_module_version": "1.5.0",
            "_model_name": "HTMLModel",
            "_view_count": null,
            "_view_module": "@jupyter-widgets/controls",
            "_view_module_version": "1.5.0",
            "_view_name": "HTMLView",
            "description": "",
            "description_tooltip": null,
            "layout": "IPY_MODEL_4ca568ddc07544f696bc16e5f85fa150",
            "placeholder": "​",
            "style": "IPY_MODEL_e0b24511cbf84a31a051a45dc21fa841",
            "value": "Epochs: 100%"
          }
        },
        "ab30b16bad8b45138eb29390f81f9b6c": {
          "model_module": "@jupyter-widgets/controls",
          "model_name": "FloatProgressModel",
          "model_module_version": "1.5.0",
          "state": {
            "_dom_classes": [],
            "_model_module": "@jupyter-widgets/controls",
            "_model_module_version": "1.5.0",
            "_model_name": "FloatProgressModel",
            "_view_count": null,
            "_view_module": "@jupyter-widgets/controls",
            "_view_module_version": "1.5.0",
            "_view_name": "ProgressView",
            "bar_style": "success",
            "description": "",
            "description_tooltip": null,
            "layout": "IPY_MODEL_061a07ace71f477aaba061079053031a",
            "max": 2500,
            "min": 0,
            "orientation": "horizontal",
            "style": "IPY_MODEL_d2603f6b194347ef98a7b84219e3c672",
            "value": 2500
          }
        },
        "907137e14cb44a579608cc0a101b2178": {
          "model_module": "@jupyter-widgets/controls",
          "model_name": "HTMLModel",
          "model_module_version": "1.5.0",
          "state": {
            "_dom_classes": [],
            "_model_module": "@jupyter-widgets/controls",
            "_model_module_version": "1.5.0",
            "_model_name": "HTMLModel",
            "_view_count": null,
            "_view_module": "@jupyter-widgets/controls",
            "_view_module_version": "1.5.0",
            "_view_name": "HTMLView",
            "description": "",
            "description_tooltip": null,
            "layout": "IPY_MODEL_09c7cf7e7ef144dc8a4bca0f67cfc9b6",
            "placeholder": "​",
            "style": "IPY_MODEL_5e1eb56c2a2e45eeb358ab7ca364788e",
            "value": " 2500/2500 [00:00&lt;00:00, 3680.77Epoch/s]"
          }
        },
        "6ceabc3798714a49882fabc8231cec45": {
          "model_module": "@jupyter-widgets/base",
          "model_name": "LayoutModel",
          "model_module_version": "1.2.0",
          "state": {
            "_model_module": "@jupyter-widgets/base",
            "_model_module_version": "1.2.0",
            "_model_name": "LayoutModel",
            "_view_count": null,
            "_view_module": "@jupyter-widgets/base",
            "_view_module_version": "1.2.0",
            "_view_name": "LayoutView",
            "align_content": null,
            "align_items": null,
            "align_self": null,
            "border": null,
            "bottom": null,
            "display": null,
            "flex": null,
            "flex_flow": null,
            "grid_area": null,
            "grid_auto_columns": null,
            "grid_auto_flow": null,
            "grid_auto_rows": null,
            "grid_column": null,
            "grid_gap": null,
            "grid_row": null,
            "grid_template_areas": null,
            "grid_template_columns": null,
            "grid_template_rows": null,
            "height": null,
            "justify_content": null,
            "justify_items": null,
            "left": null,
            "margin": null,
            "max_height": null,
            "max_width": null,
            "min_height": null,
            "min_width": null,
            "object_fit": null,
            "object_position": null,
            "order": null,
            "overflow": null,
            "overflow_x": null,
            "overflow_y": null,
            "padding": null,
            "right": null,
            "top": null,
            "visibility": null,
            "width": null
          }
        },
        "4ca568ddc07544f696bc16e5f85fa150": {
          "model_module": "@jupyter-widgets/base",
          "model_name": "LayoutModel",
          "model_module_version": "1.2.0",
          "state": {
            "_model_module": "@jupyter-widgets/base",
            "_model_module_version": "1.2.0",
            "_model_name": "LayoutModel",
            "_view_count": null,
            "_view_module": "@jupyter-widgets/base",
            "_view_module_version": "1.2.0",
            "_view_name": "LayoutView",
            "align_content": null,
            "align_items": null,
            "align_self": null,
            "border": null,
            "bottom": null,
            "display": null,
            "flex": null,
            "flex_flow": null,
            "grid_area": null,
            "grid_auto_columns": null,
            "grid_auto_flow": null,
            "grid_auto_rows": null,
            "grid_column": null,
            "grid_gap": null,
            "grid_row": null,
            "grid_template_areas": null,
            "grid_template_columns": null,
            "grid_template_rows": null,
            "height": null,
            "justify_content": null,
            "justify_items": null,
            "left": null,
            "margin": null,
            "max_height": null,
            "max_width": null,
            "min_height": null,
            "min_width": null,
            "object_fit": null,
            "object_position": null,
            "order": null,
            "overflow": null,
            "overflow_x": null,
            "overflow_y": null,
            "padding": null,
            "right": null,
            "top": null,
            "visibility": null,
            "width": null
          }
        },
        "e0b24511cbf84a31a051a45dc21fa841": {
          "model_module": "@jupyter-widgets/controls",
          "model_name": "DescriptionStyleModel",
          "model_module_version": "1.5.0",
          "state": {
            "_model_module": "@jupyter-widgets/controls",
            "_model_module_version": "1.5.0",
            "_model_name": "DescriptionStyleModel",
            "_view_count": null,
            "_view_module": "@jupyter-widgets/base",
            "_view_module_version": "1.2.0",
            "_view_name": "StyleView",
            "description_width": ""
          }
        },
        "061a07ace71f477aaba061079053031a": {
          "model_module": "@jupyter-widgets/base",
          "model_name": "LayoutModel",
          "model_module_version": "1.2.0",
          "state": {
            "_model_module": "@jupyter-widgets/base",
            "_model_module_version": "1.2.0",
            "_model_name": "LayoutModel",
            "_view_count": null,
            "_view_module": "@jupyter-widgets/base",
            "_view_module_version": "1.2.0",
            "_view_name": "LayoutView",
            "align_content": null,
            "align_items": null,
            "align_self": null,
            "border": null,
            "bottom": null,
            "display": null,
            "flex": null,
            "flex_flow": null,
            "grid_area": null,
            "grid_auto_columns": null,
            "grid_auto_flow": null,
            "grid_auto_rows": null,
            "grid_column": null,
            "grid_gap": null,
            "grid_row": null,
            "grid_template_areas": null,
            "grid_template_columns": null,
            "grid_template_rows": null,
            "height": null,
            "justify_content": null,
            "justify_items": null,
            "left": null,
            "margin": null,
            "max_height": null,
            "max_width": null,
            "min_height": null,
            "min_width": null,
            "object_fit": null,
            "object_position": null,
            "order": null,
            "overflow": null,
            "overflow_x": null,
            "overflow_y": null,
            "padding": null,
            "right": null,
            "top": null,
            "visibility": null,
            "width": null
          }
        },
        "d2603f6b194347ef98a7b84219e3c672": {
          "model_module": "@jupyter-widgets/controls",
          "model_name": "ProgressStyleModel",
          "model_module_version": "1.5.0",
          "state": {
            "_model_module": "@jupyter-widgets/controls",
            "_model_module_version": "1.5.0",
            "_model_name": "ProgressStyleModel",
            "_view_count": null,
            "_view_module": "@jupyter-widgets/base",
            "_view_module_version": "1.2.0",
            "_view_name": "StyleView",
            "bar_color": null,
            "description_width": ""
          }
        },
        "09c7cf7e7ef144dc8a4bca0f67cfc9b6": {
          "model_module": "@jupyter-widgets/base",
          "model_name": "LayoutModel",
          "model_module_version": "1.2.0",
          "state": {
            "_model_module": "@jupyter-widgets/base",
            "_model_module_version": "1.2.0",
            "_model_name": "LayoutModel",
            "_view_count": null,
            "_view_module": "@jupyter-widgets/base",
            "_view_module_version": "1.2.0",
            "_view_name": "LayoutView",
            "align_content": null,
            "align_items": null,
            "align_self": null,
            "border": null,
            "bottom": null,
            "display": null,
            "flex": null,
            "flex_flow": null,
            "grid_area": null,
            "grid_auto_columns": null,
            "grid_auto_flow": null,
            "grid_auto_rows": null,
            "grid_column": null,
            "grid_gap": null,
            "grid_row": null,
            "grid_template_areas": null,
            "grid_template_columns": null,
            "grid_template_rows": null,
            "height": null,
            "justify_content": null,
            "justify_items": null,
            "left": null,
            "margin": null,
            "max_height": null,
            "max_width": null,
            "min_height": null,
            "min_width": null,
            "object_fit": null,
            "object_position": null,
            "order": null,
            "overflow": null,
            "overflow_x": null,
            "overflow_y": null,
            "padding": null,
            "right": null,
            "top": null,
            "visibility": null,
            "width": null
          }
        },
        "5e1eb56c2a2e45eeb358ab7ca364788e": {
          "model_module": "@jupyter-widgets/controls",
          "model_name": "DescriptionStyleModel",
          "model_module_version": "1.5.0",
          "state": {
            "_model_module": "@jupyter-widgets/controls",
            "_model_module_version": "1.5.0",
            "_model_name": "DescriptionStyleModel",
            "_view_count": null,
            "_view_module": "@jupyter-widgets/base",
            "_view_module_version": "1.2.0",
            "_view_name": "StyleView",
            "description_width": ""
          }
        },
        "24396539285a47d89d1599a575eedc95": {
          "model_module": "@jupyter-widgets/controls",
          "model_name": "HBoxModel",
          "model_module_version": "1.5.0",
          "state": {
            "_dom_classes": [],
            "_model_module": "@jupyter-widgets/controls",
            "_model_module_version": "1.5.0",
            "_model_name": "HBoxModel",
            "_view_count": null,
            "_view_module": "@jupyter-widgets/controls",
            "_view_module_version": "1.5.0",
            "_view_name": "HBoxView",
            "box_style": "",
            "children": [
              "IPY_MODEL_a88d6bc03e004143b41cd17000ba0eb9",
              "IPY_MODEL_c0a4852dc125481a9640834d7592282e",
              "IPY_MODEL_995c1a5c0ba1456e9bf00fa19bd753d4"
            ],
            "layout": "IPY_MODEL_efa9c7c48cdc4679a521a283785f49db"
          }
        },
        "a88d6bc03e004143b41cd17000ba0eb9": {
          "model_module": "@jupyter-widgets/controls",
          "model_name": "HTMLModel",
          "model_module_version": "1.5.0",
          "state": {
            "_dom_classes": [],
            "_model_module": "@jupyter-widgets/controls",
            "_model_module_version": "1.5.0",
            "_model_name": "HTMLModel",
            "_view_count": null,
            "_view_module": "@jupyter-widgets/controls",
            "_view_module_version": "1.5.0",
            "_view_name": "HTMLView",
            "description": "",
            "description_tooltip": null,
            "layout": "IPY_MODEL_d2982af28b0a4963bec35c1d7ee2697d",
            "placeholder": "​",
            "style": "IPY_MODEL_4047d859e50444d099485df861c0ef46",
            "value": "Epochs: 100%"
          }
        },
        "c0a4852dc125481a9640834d7592282e": {
          "model_module": "@jupyter-widgets/controls",
          "model_name": "FloatProgressModel",
          "model_module_version": "1.5.0",
          "state": {
            "_dom_classes": [],
            "_model_module": "@jupyter-widgets/controls",
            "_model_module_version": "1.5.0",
            "_model_name": "FloatProgressModel",
            "_view_count": null,
            "_view_module": "@jupyter-widgets/controls",
            "_view_module_version": "1.5.0",
            "_view_name": "ProgressView",
            "bar_style": "success",
            "description": "",
            "description_tooltip": null,
            "layout": "IPY_MODEL_c1fb73acd0624d219f3df8853db6fc60",
            "max": 250,
            "min": 0,
            "orientation": "horizontal",
            "style": "IPY_MODEL_6fc2e96248244c44b5b511635bd16a69",
            "value": 250
          }
        },
        "995c1a5c0ba1456e9bf00fa19bd753d4": {
          "model_module": "@jupyter-widgets/controls",
          "model_name": "HTMLModel",
          "model_module_version": "1.5.0",
          "state": {
            "_dom_classes": [],
            "_model_module": "@jupyter-widgets/controls",
            "_model_module_version": "1.5.0",
            "_model_name": "HTMLModel",
            "_view_count": null,
            "_view_module": "@jupyter-widgets/controls",
            "_view_module_version": "1.5.0",
            "_view_name": "HTMLView",
            "description": "",
            "description_tooltip": null,
            "layout": "IPY_MODEL_25c042446fe74a0da1ca38de50f8606f",
            "placeholder": "​",
            "style": "IPY_MODEL_13c91142e73a4cc3999aee5535326b63",
            "value": " 250/250 [00:51&lt;00:00,  6.04Epoch/s]"
          }
        },
        "efa9c7c48cdc4679a521a283785f49db": {
          "model_module": "@jupyter-widgets/base",
          "model_name": "LayoutModel",
          "model_module_version": "1.2.0",
          "state": {
            "_model_module": "@jupyter-widgets/base",
            "_model_module_version": "1.2.0",
            "_model_name": "LayoutModel",
            "_view_count": null,
            "_view_module": "@jupyter-widgets/base",
            "_view_module_version": "1.2.0",
            "_view_name": "LayoutView",
            "align_content": null,
            "align_items": null,
            "align_self": null,
            "border": null,
            "bottom": null,
            "display": null,
            "flex": null,
            "flex_flow": null,
            "grid_area": null,
            "grid_auto_columns": null,
            "grid_auto_flow": null,
            "grid_auto_rows": null,
            "grid_column": null,
            "grid_gap": null,
            "grid_row": null,
            "grid_template_areas": null,
            "grid_template_columns": null,
            "grid_template_rows": null,
            "height": null,
            "justify_content": null,
            "justify_items": null,
            "left": null,
            "margin": null,
            "max_height": null,
            "max_width": null,
            "min_height": null,
            "min_width": null,
            "object_fit": null,
            "object_position": null,
            "order": null,
            "overflow": null,
            "overflow_x": null,
            "overflow_y": null,
            "padding": null,
            "right": null,
            "top": null,
            "visibility": null,
            "width": null
          }
        },
        "d2982af28b0a4963bec35c1d7ee2697d": {
          "model_module": "@jupyter-widgets/base",
          "model_name": "LayoutModel",
          "model_module_version": "1.2.0",
          "state": {
            "_model_module": "@jupyter-widgets/base",
            "_model_module_version": "1.2.0",
            "_model_name": "LayoutModel",
            "_view_count": null,
            "_view_module": "@jupyter-widgets/base",
            "_view_module_version": "1.2.0",
            "_view_name": "LayoutView",
            "align_content": null,
            "align_items": null,
            "align_self": null,
            "border": null,
            "bottom": null,
            "display": null,
            "flex": null,
            "flex_flow": null,
            "grid_area": null,
            "grid_auto_columns": null,
            "grid_auto_flow": null,
            "grid_auto_rows": null,
            "grid_column": null,
            "grid_gap": null,
            "grid_row": null,
            "grid_template_areas": null,
            "grid_template_columns": null,
            "grid_template_rows": null,
            "height": null,
            "justify_content": null,
            "justify_items": null,
            "left": null,
            "margin": null,
            "max_height": null,
            "max_width": null,
            "min_height": null,
            "min_width": null,
            "object_fit": null,
            "object_position": null,
            "order": null,
            "overflow": null,
            "overflow_x": null,
            "overflow_y": null,
            "padding": null,
            "right": null,
            "top": null,
            "visibility": null,
            "width": null
          }
        },
        "4047d859e50444d099485df861c0ef46": {
          "model_module": "@jupyter-widgets/controls",
          "model_name": "DescriptionStyleModel",
          "model_module_version": "1.5.0",
          "state": {
            "_model_module": "@jupyter-widgets/controls",
            "_model_module_version": "1.5.0",
            "_model_name": "DescriptionStyleModel",
            "_view_count": null,
            "_view_module": "@jupyter-widgets/base",
            "_view_module_version": "1.2.0",
            "_view_name": "StyleView",
            "description_width": ""
          }
        },
        "c1fb73acd0624d219f3df8853db6fc60": {
          "model_module": "@jupyter-widgets/base",
          "model_name": "LayoutModel",
          "model_module_version": "1.2.0",
          "state": {
            "_model_module": "@jupyter-widgets/base",
            "_model_module_version": "1.2.0",
            "_model_name": "LayoutModel",
            "_view_count": null,
            "_view_module": "@jupyter-widgets/base",
            "_view_module_version": "1.2.0",
            "_view_name": "LayoutView",
            "align_content": null,
            "align_items": null,
            "align_self": null,
            "border": null,
            "bottom": null,
            "display": null,
            "flex": null,
            "flex_flow": null,
            "grid_area": null,
            "grid_auto_columns": null,
            "grid_auto_flow": null,
            "grid_auto_rows": null,
            "grid_column": null,
            "grid_gap": null,
            "grid_row": null,
            "grid_template_areas": null,
            "grid_template_columns": null,
            "grid_template_rows": null,
            "height": null,
            "justify_content": null,
            "justify_items": null,
            "left": null,
            "margin": null,
            "max_height": null,
            "max_width": null,
            "min_height": null,
            "min_width": null,
            "object_fit": null,
            "object_position": null,
            "order": null,
            "overflow": null,
            "overflow_x": null,
            "overflow_y": null,
            "padding": null,
            "right": null,
            "top": null,
            "visibility": null,
            "width": null
          }
        },
        "6fc2e96248244c44b5b511635bd16a69": {
          "model_module": "@jupyter-widgets/controls",
          "model_name": "ProgressStyleModel",
          "model_module_version": "1.5.0",
          "state": {
            "_model_module": "@jupyter-widgets/controls",
            "_model_module_version": "1.5.0",
            "_model_name": "ProgressStyleModel",
            "_view_count": null,
            "_view_module": "@jupyter-widgets/base",
            "_view_module_version": "1.2.0",
            "_view_name": "StyleView",
            "bar_color": null,
            "description_width": ""
          }
        },
        "25c042446fe74a0da1ca38de50f8606f": {
          "model_module": "@jupyter-widgets/base",
          "model_name": "LayoutModel",
          "model_module_version": "1.2.0",
          "state": {
            "_model_module": "@jupyter-widgets/base",
            "_model_module_version": "1.2.0",
            "_model_name": "LayoutModel",
            "_view_count": null,
            "_view_module": "@jupyter-widgets/base",
            "_view_module_version": "1.2.0",
            "_view_name": "LayoutView",
            "align_content": null,
            "align_items": null,
            "align_self": null,
            "border": null,
            "bottom": null,
            "display": null,
            "flex": null,
            "flex_flow": null,
            "grid_area": null,
            "grid_auto_columns": null,
            "grid_auto_flow": null,
            "grid_auto_rows": null,
            "grid_column": null,
            "grid_gap": null,
            "grid_row": null,
            "grid_template_areas": null,
            "grid_template_columns": null,
            "grid_template_rows": null,
            "height": null,
            "justify_content": null,
            "justify_items": null,
            "left": null,
            "margin": null,
            "max_height": null,
            "max_width": null,
            "min_height": null,
            "min_width": null,
            "object_fit": null,
            "object_position": null,
            "order": null,
            "overflow": null,
            "overflow_x": null,
            "overflow_y": null,
            "padding": null,
            "right": null,
            "top": null,
            "visibility": null,
            "width": null
          }
        },
        "13c91142e73a4cc3999aee5535326b63": {
          "model_module": "@jupyter-widgets/controls",
          "model_name": "DescriptionStyleModel",
          "model_module_version": "1.5.0",
          "state": {
            "_model_module": "@jupyter-widgets/controls",
            "_model_module_version": "1.5.0",
            "_model_name": "DescriptionStyleModel",
            "_view_count": null,
            "_view_module": "@jupyter-widgets/base",
            "_view_module_version": "1.2.0",
            "_view_name": "StyleView",
            "description_width": ""
          }
        }
      }
    }
  },
  "cells": [
    {
      "cell_type": "markdown",
      "metadata": {
        "id": "view-in-github",
        "colab_type": "text"
      },
      "source": [
        "<a href=\"https://colab.research.google.com/github/Abhijith-Nagarajan/PadhAI_Implementations/blob/main/Optimizers_Implementation.ipynb\" target=\"_parent\"><img src=\"https://colab.research.google.com/assets/colab-badge.svg\" alt=\"Open In Colab\"/></a>"
      ]
    },
    {
      "cell_type": "markdown",
      "source": [
        "<h2> The purpose of this notebook is understand optimization algorithms by building them from scratch</h2>\n",
        "\n",
        "<b> Optimizers to implement </b>\n",
        "1.   Momentum based gradient descent\n",
        "2.   Nestarov Accelerated gradient descent\n",
        "3.   Adagrad\n",
        "4.   RMSProp\n",
        "5.   Adam\n",
        "\n",
        "<b> Similarly, the weights will be updated in two ways:</b>\n",
        "1.   Mini-batch GD\n",
        "2.   Stochastic GD\n",
        "\n",
        "\n"
      ],
      "metadata": {
        "id": "NugkVLyhVEh7"
      }
    },
    {
      "cell_type": "markdown",
      "source": [
        "#### Load libraries"
      ],
      "metadata": {
        "id": "-FkS0iqAsoJ8"
      }
    },
    {
      "cell_type": "code",
      "source": [
        "import pandas as pd\n",
        "import numpy as np\n",
        "import matplotlib.pyplot as plt\n",
        "from sklearn import datasets,preprocessing,model_selection,metrics\n",
        "import warnings\n",
        "from tqdm import tqdm_notebook"
      ],
      "metadata": {
        "id": "uNqKdZT2rfcN"
      },
      "execution_count": 2,
      "outputs": []
    },
    {
      "cell_type": "code",
      "source": [
        "warnings.filterwarnings('ignore')"
      ],
      "metadata": {
        "id": "Q-xszElHu3cd"
      },
      "execution_count": 3,
      "outputs": []
    },
    {
      "cell_type": "code",
      "source": [
        "np.random.seed(0)"
      ],
      "metadata": {
        "id": "Iq5pYjmHRzSf"
      },
      "execution_count": 4,
      "outputs": []
    },
    {
      "cell_type": "markdown",
      "source": [
        "#### Updating Sigmoid Neuron class"
      ],
      "metadata": {
        "id": "_m1yDtaQrtyT"
      }
    },
    {
      "cell_type": "code",
      "source": [
        "# For linear data\n",
        "X_sg = np.array([[1,2,3,4,5],[-1,-2,-3,-4,-5],[0,0.2,0.4,0.6,1],[1,3,5,7,9],[2,3,4,5,6],[2,1,3,4,2],[-3,0,1,4,2],[1,0,4,1,5],[0,0,1,5,3]])\n",
        "Y_sg = np.array([0.2,0.4,0.65,0.81,0.99,0.71,0.8,0.84,0.40])"
      ],
      "metadata": {
        "id": "5VpBDWTGKygM"
      },
      "execution_count": null,
      "outputs": []
    },
    {
      "cell_type": "code",
      "execution_count": null,
      "metadata": {
        "id": "GG40-_JHU_8q"
      },
      "outputs": [],
      "source": [
        "class Sigmoid_Neuron_Updated:\n",
        "    def __init__(self,X,loss_function,optimizer,update_method='mini_batch_GD'):\n",
        "        self.weights = np.random.randn(X.shape[1])\n",
        "        self.v_w, self.v_b = 0,0\n",
        "        self.bias = np.random.randn()\n",
        "        self.loss_function = loss_function\n",
        "        self.optimizer = optimizer\n",
        "\n",
        "        match update_method:\n",
        "            case \"batch_GD\":\n",
        "                self.size_of_batch = X.shape(0)\n",
        "            case \"mini_batch_GD\":\n",
        "                self.size_of_batch = 2\n",
        "            case \"stochastic_GD\":\n",
        "                self.size_of_batch = 1\n",
        "\n",
        "        self.update_method = update_method\n",
        "        print('Initialization has been completed.')\n",
        "\n",
        "    def fit(self,X,Y,lr,epochs):\n",
        "        match self.optimizer:\n",
        "            case \"GD\":\n",
        "                print('Invoking gradient descent flow.')\n",
        "                self.gradient_descent(X,Y,lr,epochs)\n",
        "\n",
        "            case 'Momentum_GD':\n",
        "                print('Invoking momentum gradient descent flow.')\n",
        "                self.momentum_gradient_descent(X,Y,lr,epochs)\n",
        "\n",
        "            case 'NAG':\n",
        "                print('Invoking Nestarov Accelerated gradient descent flow.')\n",
        "                self.nestarov_accelerated_gradient_descent(X,Y,lr,epochs)\n",
        "\n",
        "    def sigmoid_operation(self,x,w=None,b=None):\n",
        "        if w is None:\n",
        "            w = self.weights\n",
        "        if b is None:\n",
        "            b = self.bias\n",
        "        return 1.0/(1.0+np.exp(-1*(np.dot(x,w.T)+b)))\n",
        "\n",
        "    def grad_w(self,x,y,y_pred):\n",
        "        return (y_pred-y)*(y_pred*x*(1-y_pred)) if self.loss_function == 'MSE' else x*(y-y_pred)\n",
        "\n",
        "    def grad_b(self,y,y_pred):\n",
        "        return (y_pred-y)*(y_pred*(1-y_pred)) if self.loss_function == 'MSE' else (y-y_pred)\n",
        "\n",
        "    def plot_loss_vs_epoch(self,loss:dict):\n",
        "        print(f'Plotting Loss vs Epoch for {self.optimizer}')\n",
        "        plt.figure(figsize=(15,6))\n",
        "        plt.scatter(loss.keys(),loss.values())\n",
        "        plt.plot(loss.keys(),loss.values())\n",
        "        plt.xlabel('Epoch')\n",
        "        plt.ylabel('Loss')\n",
        "        plt.title(f'Loss vs Epoch for {self.optimizer}')\n",
        "\n",
        "    def gradient_descent(self,X,Y,lr,epochs):\n",
        "        print('Starting Gradient Descent execution')\n",
        "        loss_dict = dict()\n",
        "        for epoch in tqdm_notebook(range(epochs),desc='Epochs',unit='Epoch'):\n",
        "            dw, db = 0,0\n",
        "            loss = 0\n",
        "            count = 0\n",
        "            for x,y in zip(X,Y):\n",
        "                y_pred = self.sigmoid_operation(x)\n",
        "                dw += self.grad_w(x,y,y_pred)\n",
        "                db += self.grad_b(y,y_pred)\n",
        "                loss +=  0.5*(y-y_pred)**2 if self.loss_function == 'MSE' else y*np.log(y_pred)\n",
        "                count+=1\n",
        "                if count%self.size_of_batch==0:\n",
        "                    self.weights -= lr*dw\n",
        "                    self.bias -= lr*db\n",
        "                    dw,db = 0,0\n",
        "\n",
        "            loss_dict[epoch+1] = loss\n",
        "        self.plot_loss_vs_epoch(loss_dict)\n",
        "\n",
        "    def momentum_gradient_descent(self,X,Y,lr,epochs):\n",
        "        loss_dict = dict()\n",
        "        gamma = 0.9\n",
        "        for epoch in tqdm_notebook(range(epochs),desc='Epochs',unit='Epoch'):\n",
        "            dw, db = 0,0\n",
        "            loss = 0\n",
        "            count = 0\n",
        "            for x,y in zip(X,Y):\n",
        "                y_pred = self.sigmoid_operation(x)\n",
        "                dw += self.grad_w(x,y,y_pred)\n",
        "                db += self.grad_b(y,y_pred)\n",
        "                loss += 0.5*(y-y_pred)**2 if self.loss_function == 'MSE' else y*np.log(y_pred)\n",
        "                count+=1\n",
        "                if count%self.size_of_batch==0:\n",
        "                    self.v_w = gamma*self.v_w + lr*dw\n",
        "                    self.v_b = gamma*self.v_b + lr*db\n",
        "                    self.weights -= self.v_w\n",
        "                    self.bias -= self.v_b\n",
        "                    dw, db = 0,0\n",
        "            loss_dict[epoch+1] = loss\n",
        "        self.plot_loss_vs_epoch(loss_dict)\n",
        "\n",
        "    def nestarov_accelerated_gradient_descent(self,X,Y,lr,epochs):\n",
        "        loss_dict = dict()\n",
        "        gamma = 0.9\n",
        "        for epoch in tqdm_notebook(range(epochs),desc='Epochs',unit='Epoch'):\n",
        "            dw, db = 0,0\n",
        "            loss = 0\n",
        "            count = 0\n",
        "            for x,y in zip(X,Y):\n",
        "                w_temp = self.weights - gamma*self.v_w\n",
        "                b_temp = self.bias - gamma*self.v_b\n",
        "                y_pred = self.sigmoid_operation(x,w_temp,b_temp)\n",
        "                dw += self.grad_w(x,y,y_pred)\n",
        "                db += self.grad_b(y,y_pred)\n",
        "                loss += 0.5*(y-y_pred)**2 if self.loss_function == 'MSE' else y*np.log(y_pred)\n",
        "                count+=1\n",
        "                if count%self.size_of_batch==0:\n",
        "                    self.v_w = gamma*self.v_w + lr*dw\n",
        "                    self.v_b = gamma*self.v_b + lr*db\n",
        "                    self.weights -= self.v_w\n",
        "                    self.bias -= self.v_b\n",
        "                    dw, db = 0,0\n",
        "            loss_dict[epoch+1] = loss\n",
        "        self.plot_loss_vs_epoch(loss_dict)"
      ]
    },
    {
      "cell_type": "code",
      "source": [
        "loss = 'MSE'\n",
        "optimizer = 'GD'"
      ],
      "metadata": {
        "id": "sjpQMGy2lrRa"
      },
      "execution_count": null,
      "outputs": []
    },
    {
      "cell_type": "code",
      "source": [
        "sn_model = Sigmoid_Neuron_Updated(X_sg,loss,optimizer)"
      ],
      "metadata": {
        "colab": {
          "base_uri": "https://localhost:8080/"
        },
        "id": "tgYHObDclZPt",
        "outputId": "69561d5d-7c91-4757-883b-018c8c80c4e9"
      },
      "execution_count": null,
      "outputs": [
        {
          "output_type": "stream",
          "name": "stdout",
          "text": [
            "Initialization has been completed.\n"
          ]
        }
      ]
    },
    {
      "cell_type": "code",
      "source": [
        "sn_model.fit(X_sg,Y_sg,0.30,2500)"
      ],
      "metadata": {
        "colab": {
          "base_uri": "https://localhost:8080/",
          "height": 648,
          "referenced_widgets": [
            "c5ec6dd516e04a28a9c332dcc67b2ac2",
            "3082e91332614ab78638f9dcf50359ff",
            "b31e1b462eb94b63b5b780d777b410c2",
            "30a65a88cb7a496db648730bf96a2422",
            "390c4f5cd273493a9f7ed4f349949739",
            "81600e16a399446896375daa98b5fd1e",
            "e3371a4df8bd468e9824c988678a5a25",
            "56cef07e5fc94d6abe1c06672b4413f7",
            "e884afaa347146268b84f0160cd94794",
            "64d1bd04a96d4526b541c5f19766c4d1",
            "59910a72109f45e69f06dc055cfabb29"
          ]
        },
        "id": "gE2MsOb7l51e",
        "outputId": "e38fd58a-5f25-4d7a-9241-f00558953bda"
      },
      "execution_count": null,
      "outputs": [
        {
          "output_type": "stream",
          "name": "stdout",
          "text": [
            "Invoking gradient descent flow.\n",
            "Starting Gradient Descent execution\n"
          ]
        },
        {
          "output_type": "display_data",
          "data": {
            "text/plain": [
              "Epochs:   0%|          | 0/2500 [00:00<?, ?Epoch/s]"
            ],
            "application/vnd.jupyter.widget-view+json": {
              "version_major": 2,
              "version_minor": 0,
              "model_id": "c5ec6dd516e04a28a9c332dcc67b2ac2"
            }
          },
          "metadata": {}
        },
        {
          "output_type": "stream",
          "name": "stdout",
          "text": [
            "Plotting Loss vs Epoch for GD\n"
          ]
        },
        {
          "output_type": "display_data",
          "data": {
            "text/plain": [
              "<Figure size 1500x600 with 1 Axes>"
            ],
            "image/png": "[encoded data removed]"
          },
          "metadata": {}
        }
      ]
    },
    {
      "cell_type": "code",
      "source": [
        "momentum_model = Sigmoid_Neuron_Updated(X_sg,loss,'Momentum_GD')"
      ],
      "metadata": {
        "colab": {
          "base_uri": "https://localhost:8080/"
        },
        "id": "mZRIvUS0SjY1",
        "outputId": "b2afc92c-5bfe-4006-c144-4b01b1bfab11"
      },
      "execution_count": null,
      "outputs": [
        {
          "output_type": "stream",
          "name": "stdout",
          "text": [
            "Initialization has been completed.\n"
          ]
        }
      ]
    },
    {
      "cell_type": "code",
      "source": [
        "momentum_model.fit(X_sg,Y_sg,0.1,2500)"
      ],
      "metadata": {
        "colab": {
          "base_uri": "https://localhost:8080/",
          "height": 631,
          "referenced_widgets": [
            "72918aada0b0403cad5369e618385955",
            "f384a97faf684bc78150bbbdba270acf",
            "e057a1a664cd4dacafc692bf4eb548d7",
            "ee0f322012f7433288f5ab61f1bccd3c",
            "790466d455fb4aa59b1b145ab00c405f",
            "34453a500371451e918defcc43711246",
            "d411848d4769427eb673390831ae4ebc",
            "89fb75beb9eb458b9f4209baae135332",
            "bc2b9283d9184c7b9e87404c39c99024",
            "986b3fa2d68a480aab2dbbe4c8f34a57",
            "f5ca18090e104d30891d28e8d576ea6d"
          ]
        },
        "id": "U64ORpNESj42",
        "outputId": "3644933d-40d4-4fdb-fa90-b877434c4a92"
      },
      "execution_count": null,
      "outputs": [
        {
          "output_type": "stream",
          "name": "stdout",
          "text": [
            "Invoking momentum gradient descent flow.\n"
          ]
        },
        {
          "output_type": "display_data",
          "data": {
            "text/plain": [
              "Epochs:   0%|          | 0/2500 [00:00<?, ?Epoch/s]"
            ],
            "application/vnd.jupyter.widget-view+json": {
              "version_major": 2,
              "version_minor": 0,
              "model_id": "72918aada0b0403cad5369e618385955"
            }
          },
          "metadata": {}
        },
        {
          "output_type": "stream",
          "name": "stdout",
          "text": [
            "Plotting Loss vs Epoch for Momentum_GD\n"
          ]
        },
        {
          "output_type": "display_data",
          "data": {
            "text/plain": [
              "<Figure size 1500x600 with 1 Axes>"
            ],
            "image/png": "[encoded data removed]"
          },
          "metadata": {}
        }
      ]
    },
    {
      "cell_type": "code",
      "source": [
        "nag_model = Sigmoid_Neuron_Updated(X_sg,loss,'NAG')"
      ],
      "metadata": {
        "colab": {
          "base_uri": "https://localhost:8080/"
        },
        "id": "sSejac0_8Mbm",
        "outputId": "c7de920c-3cd5-454f-b1fb-30f31f330fd4"
      },
      "execution_count": null,
      "outputs": [
        {
          "output_type": "stream",
          "name": "stdout",
          "text": [
            "Initialization has been completed.\n"
          ]
        }
      ]
    },
    {
      "cell_type": "code",
      "source": [
        "nag_model.fit(X_sg,Y_sg,0.1,2500)"
      ],
      "metadata": {
        "colab": {
          "base_uri": "https://localhost:8080/",
          "height": 631,
          "referenced_widgets": [
            "4f728ab9358043e2857e64c978ff384b",
            "ab17fece118c45599d6bb4db0cafe444",
            "ab30b16bad8b45138eb29390f81f9b6c",
            "907137e14cb44a579608cc0a101b2178",
            "6ceabc3798714a49882fabc8231cec45",
            "4ca568ddc07544f696bc16e5f85fa150",
            "e0b24511cbf84a31a051a45dc21fa841",
            "061a07ace71f477aaba061079053031a",
            "d2603f6b194347ef98a7b84219e3c672",
            "09c7cf7e7ef144dc8a4bca0f67cfc9b6",
            "5e1eb56c2a2e45eeb358ab7ca364788e"
          ]
        },
        "id": "EpiyNgqD8MF4",
        "outputId": "6a388d7f-8293-441c-abb5-24f422175436"
      },
      "execution_count": null,
      "outputs": [
        {
          "output_type": "stream",
          "name": "stdout",
          "text": [
            "Invoking Nestarov Accelerated gradient descent flow.\n"
          ]
        },
        {
          "output_type": "display_data",
          "data": {
            "text/plain": [
              "Epochs:   0%|          | 0/2500 [00:00<?, ?Epoch/s]"
            ],
            "application/vnd.jupyter.widget-view+json": {
              "version_major": 2,
              "version_minor": 0,
              "model_id": "4f728ab9358043e2857e64c978ff384b"
            }
          },
          "metadata": {}
        },
        {
          "output_type": "stream",
          "name": "stdout",
          "text": [
            "Plotting Loss vs Epoch for NAG\n"
          ]
        },
        {
          "output_type": "display_data",
          "data": {
            "text/plain": [
              "<Figure size 1500x600 with 1 Axes>"
            ],
            "image/png": "[encoded data removed]"
          },
          "metadata": {}
        }
      ]
    },
    {
      "cell_type": "markdown",
      "source": [
        "#### Generating non-linear data"
      ],
      "metadata": {
        "id": "sEJOdkhorzzE"
      }
    },
    {
      "cell_type": "markdown",
      "source": [
        "Converting the first and second features into sparse data"
      ],
      "metadata": {
        "id": "9E9SkWje0vG3"
      }
    },
    {
      "cell_type": "code",
      "source": [
        "target_classes = 5"
      ],
      "metadata": {
        "id": "Jksjl2pRxxR1"
      },
      "execution_count": 5,
      "outputs": []
    },
    {
      "cell_type": "code",
      "source": [
        "# For non-linear data\n",
        "X,Y = datasets.make_blobs(n_samples=80000,n_features=10,centers=target_classes)"
      ],
      "metadata": {
        "id": "krTMRKLRvKng"
      },
      "execution_count": 6,
      "outputs": []
    },
    {
      "cell_type": "code",
      "source": [
        "X[:90000,0] = 0\n",
        "X[90001:,0] = 1\n",
        "\n",
        "X[:90000,1] = 0\n",
        "X[90001:,1] = 1"
      ],
      "metadata": {
        "id": "giPwPNhSw_PP"
      },
      "execution_count": 7,
      "outputs": []
    },
    {
      "cell_type": "code",
      "source": [
        "np.random.shuffle(X[0])\n",
        "np.random.shuffle(X[1])"
      ],
      "metadata": {
        "id": "hdTqOWHNxHsH"
      },
      "execution_count": 8,
      "outputs": []
    },
    {
      "cell_type": "code",
      "source": [
        "X_training,X_test,Y_training,Y_test = model_selection.train_test_split(X,Y,test_size= 0.3,random_state=42,shuffle=True)"
      ],
      "metadata": {
        "id": "HCo8UgVyx7LX"
      },
      "execution_count": 9,
      "outputs": []
    },
    {
      "cell_type": "code",
      "source": [
        "X_train, X_valid, Y_train, Y_valid = model_selection.train_test_split(X_training,Y_training,test_size= 0.2,random_state=42,shuffle=True)"
      ],
      "metadata": {
        "id": "_Kx6RwMyvfJn"
      },
      "execution_count": 10,
      "outputs": []
    },
    {
      "cell_type": "code",
      "source": [
        "oh_encoder = preprocessing.OneHotEncoder()"
      ],
      "metadata": {
        "id": "AjclmrGOr3Ua"
      },
      "execution_count": 11,
      "outputs": []
    },
    {
      "cell_type": "code",
      "source": [
        "Y_train_encoded = oh_encoder.fit_transform(np.expand_dims(Y_train,axis=1)).toarray()\n",
        "Y_valid_encoded = oh_encoder.fit_transform(np.expand_dims(Y_valid,axis=1)).toarray()"
      ],
      "metadata": {
        "id": "Lf4kHdcttaHx"
      },
      "execution_count": 12,
      "outputs": []
    },
    {
      "cell_type": "markdown",
      "source": [
        "#### Obtaining the model inputs"
      ],
      "metadata": {
        "id": "w6Sg5g1ev9YB"
      }
    },
    {
      "cell_type": "code",
      "source": [
        "layers = int(input('Enter the number of hidden layers: '))\n",
        "neurons_per_layer = [input(f'Enter neurons for hidden layer {i+1}: ') for i in range(layers)]\n",
        "neurons_per_layer = list(map(int,neurons_per_layer))"
      ],
      "metadata": {
        "id": "_KK7U4c_sMwo",
        "colab": {
          "base_uri": "https://localhost:8080/"
        },
        "outputId": "a8e01dd2-bdce-4d39-a786-f1bcf82d610a"
      },
      "execution_count": 13,
      "outputs": [
        {
          "name": "stdout",
          "output_type": "stream",
          "text": [
            "Enter the number of hidden layers: 4\n",
            "Enter neurons for hidden layer 1: 4\n",
            "Enter neurons for hidden layer 2: 3\n",
            "Enter neurons for hidden layer 3: 4\n",
            "Enter neurons for hidden layer 4: 3\n"
          ]
        }
      ]
    },
    {
      "cell_type": "markdown",
      "source": [
        "#### Updating the Feedforward class"
      ],
      "metadata": {
        "id": "Ee4d51MHr8U3"
      }
    },
    {
      "cell_type": "code",
      "source": [
        "class FeedforwardNetwork:\n",
        "    def __init__(self, X:np.ndarray, target_classes:int, loss_function:str, layers:int, neurons_per_layer:list, optimizer:str, activation_function:str, update_method='mini-batch'):\n",
        "        self.weights = []\n",
        "        self.bias = []\n",
        "        self.v_w = []\n",
        "        self.v_b = []\n",
        "        self.m_w = []\n",
        "        self.m_b = []\n",
        "        self.A = []\n",
        "        self.H = []\n",
        "        self.loss_info = dict()\n",
        "        self.loss_function = loss_function\n",
        "        self.layers = layers\n",
        "        self.neurons_per_layer = neurons_per_layer\n",
        "        self.optimizer = optimizer\n",
        "        self.update_method = update_method\n",
        "        self.activation = activation_function\n",
        "\n",
        "        match update_method:\n",
        "            case 'SGD':\n",
        "                self.batch_size = 1\n",
        "            case 'mini-batch':\n",
        "                self.batch_size = 128\n",
        "\n",
        "        rows, features = X.shape\n",
        "        self.no_batches = int(np.floor(rows/self.batch_size))\n",
        "        self.last_batch_size = rows - self.no_batches*self.batch_size\n",
        "\n",
        "        # Initializing the weights and bias for the hidden layers using Xavier initialization\n",
        "        for i in range(layers):\n",
        "            weights_array = np.random.rand(features,neurons_per_layer[i])/np.sqrt(neurons_per_layer[i]) if i==0 else np.random.rand(neurons_per_layer[i-1],neurons_per_layer[i])/np.sqrt(neurons_per_layer[i])\n",
        "            bias_array = np.random.rand(self.batch_size,neurons_per_layer[i])/np.sqrt(neurons_per_layer[i])\n",
        "\n",
        "            self.weights.append(weights_array)\n",
        "            self.bias.append(bias_array)\n",
        "\n",
        "            self.v_w.append(np.zeros((features,neurons_per_layer[i])) if i==0 else np.zeros((neurons_per_layer[i-1],neurons_per_layer[i])))\n",
        "            self.v_b.append(np.zeros((self.batch_size,neurons_per_layer[i])))\n",
        "\n",
        "            self.m_w.append(np.zeros((features,neurons_per_layer[i])) if i==0 else np.zeros((neurons_per_layer[i-1],neurons_per_layer[i])))\n",
        "            self.m_b.append(np.zeros((self.batch_size,neurons_per_layer[i])))\n",
        "\n",
        "        # For output layer\n",
        "        self.weights.append(np.random.rand(neurons_per_layer[-1],target_classes)/np.sqrt(target_classes))\n",
        "        self.v_w.append(np.zeros((neurons_per_layer[-1],target_classes)))\n",
        "        self.m_w.append(np.zeros((neurons_per_layer[-1],target_classes)))\n",
        "\n",
        "        self.bias.append(np.random.rand(self.batch_size,target_classes)/np.sqrt(neurons_per_layer[-1]))\n",
        "        self.v_b.append(np.zeros((self.batch_size,target_classes)))\n",
        "        self.m_b.append(np.zeros((self.batch_size,target_classes)))\n",
        "\n",
        "        print('Feedforward network has been initialized.')\n",
        "\n",
        "    def plot_loss_vs_epoch(self):\n",
        "        plt.figure(figsize=(15,7))\n",
        "        xaxis_rows = len(self.loss_info.keys())\n",
        "        plt.scatter(x=self.loss_info.keys(),y=self.loss_info.values())\n",
        "        plt.xticks(np.arange(0,xaxis_rows,xaxis_rows/10),rotation=325)\n",
        "        plt.xlabel('Epoch')\n",
        "        plt.ylabel('Loss')\n",
        "        plt.title('Loss vs Epoch plot')\n",
        "\n",
        "\n",
        "    def derivative_of_activation(self,layer):\n",
        "        match self.activation:\n",
        "            case 'sigmoid':\n",
        "                return self.H[layer]*(1-self.H[layer])\n",
        "\n",
        "            case 'tanh':\n",
        "                return 1 - np.square(self.H[layer])\n",
        "\n",
        "            case 'relu':\n",
        "                return 1.0*(self.H[layer]>0)\n",
        "\n",
        "    def momentum_GD(self,X,Y,Y_pred,lr,gamma):\n",
        "        grad_a = (Y_pred - Y)\n",
        "        for layer in range(self.layers):\n",
        "            grad_w = np.matmul(self.H[layer-1].T,grad_a)\n",
        "            grad_b = grad_a\n",
        "\n",
        "            grad_h = np.matmul(grad_a,self.weights[layer].T)\n",
        "            derivative_h = self.derivative_of_activation(layer-1)\n",
        "            grad_a = np.multiply(grad_h,derivative_h)\n",
        "\n",
        "            self.v_w[layer] = gamma*self.v_w[layer] + lr*(grad_w/self.batch_size)\n",
        "            self.v_b[layer] = gamma*self.v_b[layer] + lr*(grad_b/self.batch_size)\n",
        "\n",
        "            self.weights[layer]-= self.v_w[layer]\n",
        "            self.bias[layer]-= self.v_b[layer]\n",
        "\n",
        "        layer = 0\n",
        "        grad_w = np.matmul(X.T,grad_a)\n",
        "        grad_b = grad_a\n",
        "\n",
        "        self.v_w[layer] = gamma*self.v_w[layer] + lr*(grad_w/self.batch_size)\n",
        "        self.v_b[layer] = gamma*self.v_b[layer] + lr*(grad_b/self.batch_size)\n",
        "\n",
        "        self.weights[layer]-= self.v_w[layer]\n",
        "        self.bias[layer]-= self.v_b[layer]\n",
        "\n",
        "    def nestarov_GD(self,X,Y,Y_pred,lr,gamma):\n",
        "        grad_a = Y_pred - Y\n",
        "        for layer in range(self.layers):\n",
        "            w_temp = self.weights[layer] - gamma*self.v_w[layer]\n",
        "            b_temp = self.bias[layer] - gamma*self.v_b[layer]\n",
        "\n",
        "            grad_w = np.matmul(self.H[layer-1].T,grad_a)\n",
        "            grad_b = grad_a\n",
        "\n",
        "            grad_h = np.matmul(grad_a,w_temp.T)\n",
        "            derivative_h = self.derivative_of_activation(layer-1)\n",
        "            grad_a = np.multiply(grad_h,derivative_h)\n",
        "\n",
        "            self.v_w[layer] = gamma*self.v_w[layer] + lr*(grad_w/self.batch_size)\n",
        "            self.v_b[layer] = gamma*self.v_b[layer] + lr*(grad_b/self.batch_size)\n",
        "\n",
        "            self.weights[layer] -= lr*self.v_w[layer]\n",
        "            self.bias[layer] -= lr*self.v_b[layer]\n",
        "\n",
        "        layer = 0\n",
        "        grad_w = np.matmul(X.T,grad_a)\n",
        "        grad_b = grad_a\n",
        "\n",
        "        self.v_w[layer] = gamma*self.v_w[layer] + lr*(grad_w/self.batch_size)\n",
        "        self.v_b[layer] = gamma*self.v_b[layer] + lr*(grad_b/self.batch_size)\n",
        "        self.weights[layer] -= lr*self.v_w[layer]\n",
        "        self.bias[layer] -= lr*self.v_b[layer]\n",
        "\n",
        "    def adagrad_implementation(self,X,Y,Y_pred,lr,epsilon):\n",
        "        grad_a = (Y_pred - Y)\n",
        "        for layer in range(self.layers):\n",
        "            grad_w = np.matmul(self.H[layer-1].T,grad_a)\n",
        "            grad_b = grad_a\n",
        "\n",
        "            grad_h = np.matmul(grad_a,self.weights[layer].T)\n",
        "            derivative_h = self.derivative_of_activation(layer-1)\n",
        "            grad_a = np.multiply(grad_h,derivative_h)\n",
        "\n",
        "            self.v_w[layer] = self.v_w[layer] + (grad_w/self.batch_size)**2\n",
        "            self.v_b[layer] = self.v_b[layer] + (grad_b/self.batch_size)**2\n",
        "\n",
        "            self.weights[layer] -=  (lr/(np.sqrt(self.v_w[layer])+epsilon))*(grad_w/self.batch_size)\n",
        "            self.bias[layer]-= (lr/(np.sqrt(self.v_b[layer])+epsilon))*(grad_b/self.batch_size)\n",
        "\n",
        "        layer = 0\n",
        "        grad_w = np.matmul(X.T,grad_a)\n",
        "        grad_b = grad_a\n",
        "\n",
        "        self.v_w[layer] = self.v_w[layer] + (grad_w/self.batch_size)**2\n",
        "        self.v_b[layer] = self.v_b[layer] + (grad_b/self.batch_size)**2\n",
        "\n",
        "        self.weights[layer] -=  (lr/(np.sqrt(self.v_w[layer])+epsilon))*(grad_w/self.batch_size)\n",
        "        self.bias[layer]-= (lr/(np.sqrt(self.v_b[layer])+epsilon))*(grad_b/self.batch_size)\n",
        "\n",
        "    def rmsprop_implementation(self,X,Y,Y_pred,lr,epsilon,beta):\n",
        "        grad_a = (Y_pred - Y)\n",
        "        for layer in range(self.layers):\n",
        "            grad_w = np.matmul(self.H[layer-1].T,grad_a)\n",
        "            grad_b = grad_a\n",
        "\n",
        "            grad_h = np.matmul(grad_a,self.weights[layer].T)\n",
        "            derivative_h = self.derivative_of_activation(layer-1)\n",
        "            grad_a = np.multiply(grad_h,derivative_h)\n",
        "\n",
        "            self.v_w[layer] = beta*self.v_w[layer] + (1-beta)*(grad_w/self.batch_size)**2\n",
        "            self.v_b[layer] = beta*self.v_b[layer] + (1-beta)*(grad_b/self.batch_size)**2\n",
        "\n",
        "            self.weights[layer] -=  (lr/(np.sqrt(self.v_w[layer])+epsilon))*(grad_w/self.batch_size)\n",
        "            self.bias[layer]-= (lr/(np.sqrt(self.v_b[layer])+epsilon))*(grad_b/self.batch_size)\n",
        "\n",
        "        layer = 0\n",
        "        grad_w = np.matmul(X.T,grad_a)\n",
        "        grad_b = grad_a\n",
        "        self.v_w[layer] = beta*self.v_w[layer] + (1-beta)*(grad_w/self.batch_size)**2\n",
        "        self.v_b[layer] = beta*self.v_b[layer] + (1-beta)*(grad_b/self.batch_size)**2\n",
        "\n",
        "        self.weights[layer] -=  (lr/(np.sqrt(self.v_w[layer])+epsilon))*(grad_w/self.batch_size)\n",
        "        self.bias[layer]-= (lr/(np.sqrt(self.v_b[layer])+epsilon))*(grad_b/self.batch_size)\n",
        "\n",
        "    def adam_implementation(self,X,Y,Y_pred,lr,epsilon,beta1,beta2):\n",
        "        grad_a = Y_pred-Y\n",
        "        for layer in range(self.layers,0,-1):\n",
        "            grad_w = np.matmul(self.H[layer-1].T,grad_a)\n",
        "            grad_b = grad_a\n",
        "\n",
        "            grad_h = np.matmul(grad_a,self.weights[layer].T)\n",
        "            derivative_h = self.derivative_of_activation(layer-1)\n",
        "            grad_a = np.multiply(grad_h,derivative_h)\n",
        "\n",
        "            self.m_w[layer] = beta1*self.v_w[layer] + (1-beta1)*grad_w\n",
        "            self.m_b[layer] = beta1*self.v_b[layer] + (1-beta1)*grad_b\n",
        "\n",
        "            self.v_w[layer] = beta2*self.v_w[layer] + (1-beta2)*(grad_w)**2\n",
        "            self.v_b[layer] = beta2*self.v_b[layer] + (1-beta2)*(grad_b)**2\n",
        "\n",
        "            self.weights[layer] -= (lr/(np.sqrt(self.v_w[layer])+epsilon))*self.m_w[layer]\n",
        "            self.bias[layer] -= (lr/(np.sqrt(self.v_b[layer])+epsilon))*self.m_b[layer]\n",
        "\n",
        "        layer = 0\n",
        "        grad_w = np.matmul(X.T,grad_a)\n",
        "        grad_b = grad_a\n",
        "\n",
        "        self.m_w[layer] = beta1*self.v_w[layer] + (1-beta1)*grad_w\n",
        "        self.m_b[layer] = beta1*self.v_b[layer] + (1-beta1)*grad_b\n",
        "\n",
        "        self.v_w[layer] = beta2*self.v_w[layer] + (1-beta2)*(grad_w)**2\n",
        "        self.v_b[layer] = beta2*self.v_b[layer] + (1-beta2)*(grad_b)**2\n",
        "\n",
        "        self.weights[layer] -= (lr/(np.sqrt(self.v_w[layer])+epsilon))*self.m_w[layer]\n",
        "        self.bias[layer] -= (lr/(np.sqrt(self.v_b[layer])+epsilon))*self.m_b[layer]\n",
        "\n",
        "    def activation_operation(self,A,leaky_slope,output_layer=False):\n",
        "        if output_layer:\n",
        "            exp_a = np.exp(A)\n",
        "            sum_of_exp = np.sum(exp_a,axis=1)\n",
        "            y_pred_probabilities = [exp_a[i]/sum_of_exp[i] for i in range(len(sum_of_exp))]\n",
        "            return y_pred_probabilities\n",
        "\n",
        "        match self.activation:\n",
        "            case 'sigmoid':\n",
        "                return 1.0/(1.0+np.exp(-1*A))\n",
        "\n",
        "            case 'tanh':\n",
        "                return np.tanh(A)\n",
        "\n",
        "            case 'relu':\n",
        "                return np.where(A>0,A,0)\n",
        "\n",
        "            case 'leaky_relu':\n",
        "                return np.where(A>0,A,leaky_slope*A)\n",
        "\n",
        "    def forward_pass(self,X,batch_no,leaky_slope=None):\n",
        "        for layer in range(self.layers):\n",
        "            #bias_term = self.bias[layer][:self.last_batch_size] if batch_no==self.no_batches else self.bias[layer]\n",
        "            #print(f'Input Shape: {X.shape}\\nWeights Shape: {self.weights[layer].shape}\\nBias Shape: {bias_term.shape}\\n') if batch_no==self.no_batches else ''\n",
        "            a = np.matmul(X,self.weights[layer])+self.bias[layer] if layer==0 else np.matmul(self.H[layer-1],self.weights[layer])+self.bias[layer]\n",
        "            self.A.append(a)\n",
        "            self.H.append(self.activation_operation(a,leaky_slope))\n",
        "\n",
        "        #bias_term = self.bias[-1][:self.last_batch_size] if batch_no==self.no_batches else self.bias[-1]\n",
        "        a = np.matmul(self.H[-1],self.weights[-1])+self.bias[-1]\n",
        "        self.A.append(a)\n",
        "        self.H.append(self.activation_operation(a,leaky_slope,True))\n",
        "        return self.H[-1]\n",
        "\n",
        "    def fit(self,X,Y,lr,epochs,beta=0.9,gamma=0.7,epsilon=np.exp(-8),beta2=0.999,leaky_slope=0.05):\n",
        "        # Performs the forward and back prop\n",
        "        Y_pred = []\n",
        "        for epoch in tqdm_notebook(range(epochs),unit='Epoch',desc='Epochs'):\n",
        "            for batch in range(self.no_batches):\n",
        "                if batch!=self.no_batches:\n",
        "                    X_batch = X[batch*self.batch_size:(batch+1)*self.batch_size]\n",
        "                    Y_batch = Y[batch*self.batch_size:(batch+1)*self.batch_size]\n",
        "                '''\n",
        "                else:\n",
        "                    X_batch = X[batch*self.batch_size:]\n",
        "                    Y_batch = Y[batch*self.batch_size:]\n",
        "                '''\n",
        "                Y_pred_batch = self.forward_pass(X_batch,batch,leaky_slope) if self.activation == 'leaky_relu' else self.forward_pass(X_batch,batch)\n",
        "                Y_pred.append(Y_pred_batch)\n",
        "                if batch%100==0:\n",
        "                    self.loss_info[str(epoch+1)+'_'+str(batch)] = metrics.log_loss(Y_batch,Y_pred_batch)\n",
        "\n",
        "                match self.optimizer:\n",
        "                    case 'Momentum GD':\n",
        "                        self.momentum_GD(X_batch,Y_batch,Y_pred_batch,lr,gamma)\n",
        "\n",
        "                    case 'NAG':\n",
        "                        self.nestarov_GD(X_batch,Y_batch,Y_pred_batch,lr,gamma)\n",
        "\n",
        "                    case 'Adagrad':\n",
        "                        self.adagrad_implementation(X,Y,Y_pred_batch,lr,epsilon)\n",
        "\n",
        "                    case 'RMSProp':\n",
        "                        self.rmsprop_implementation(X,Y,Y_pred_batch,lr,epsilon,beta)\n",
        "\n",
        "                    case 'Adam':\n",
        "                        self.adam_implementation(X,Y,Y_pred_batch,lr,epsilon,beta,beta2)\n",
        "\n",
        "            print(f'All batches processed for epoch {epoch+1}')\n",
        "\n",
        "        print('Training completed. Plotting the loss')\n",
        "        self.plot_loss_vs_epoch()"
      ],
      "metadata": {
        "id": "tsBNuTn2FSqH"
      },
      "execution_count": 14,
      "outputs": []
    },
    {
      "cell_type": "code",
      "source": [
        "ffmodel = FeedforwardNetwork(X_train,target_classes,'cross-entropy',layers,neurons_per_layer,'Momentum','relu')"
      ],
      "metadata": {
        "id": "DcrWbYUjKynl",
        "colab": {
          "base_uri": "https://localhost:8080/"
        },
        "outputId": "8ccbb259-0aab-41ca-88f0-3ab03ec29177"
      },
      "execution_count": 15,
      "outputs": [
        {
          "output_type": "stream",
          "name": "stdout",
          "text": [
            "Feedforward network has been initialized.\n"
          ]
        }
      ]
    },
    {
      "cell_type": "code",
      "source": [
        "ffmodel.fit(X_train,Y_train_encoded,0.05,250)"
      ],
      "metadata": {
        "colab": {
          "base_uri": "https://localhost:8080/",
          "height": 1000,
          "referenced_widgets": [
            "24396539285a47d89d1599a575eedc95",
            "a88d6bc03e004143b41cd17000ba0eb9",
            "c0a4852dc125481a9640834d7592282e",
            "995c1a5c0ba1456e9bf00fa19bd753d4",
            "efa9c7c48cdc4679a521a283785f49db",
            "d2982af28b0a4963bec35c1d7ee2697d",
            "4047d859e50444d099485df861c0ef46",
            "c1fb73acd0624d219f3df8853db6fc60",
            "6fc2e96248244c44b5b511635bd16a69",
            "25c042446fe74a0da1ca38de50f8606f",
            "13c91142e73a4cc3999aee5535326b63"
          ]
        },
        "id": "DUcn8i2GwfPC",
        "outputId": "aaea2cba-fe14-4ffb-e683-dc6f9ea61e38"
      },
      "execution_count": 16,
      "outputs": [
        {
          "output_type": "display_data",
          "data": {
            "text/plain": [
              "Epochs:   0%|          | 0/250 [00:00<?, ?Epoch/s]"
            ],
            "application/vnd.jupyter.widget-view+json": {
              "version_major": 2,
              "version_minor": 0,
              "model_id": "24396539285a47d89d1599a575eedc95"
            }
          },
          "metadata": {}
        },
        {
          "output_type": "stream",
          "name": "stdout",
          "text": [
            "All batches processed for epoch 1\n",
            "All batches processed for epoch 2\n",
            "All batches processed for epoch 3\n",
            "All batches processed for epoch 4\n",
            "All batches processed for epoch 5\n",
            "All batches processed for epoch 6\n",
            "All batches processed for epoch 7\n",
            "All batches processed for epoch 8\n",
            "All batches processed for epoch 9\n",
            "All batches processed for epoch 10\n",
            "All batches processed for epoch 11\n",
            "All batches processed for epoch 12\n",
            "All batches processed for epoch 13\n",
            "All batches processed for epoch 14\n",
            "All batches processed for epoch 15\n",
            "All batches processed for epoch 16\n",
            "All batches processed for epoch 17\n",
            "All batches processed for epoch 18\n",
            "All batches processed for epoch 19\n",
            "All batches processed for epoch 20\n",
            "All batches processed for epoch 21\n",
            "All batches processed for epoch 22\n",
            "All batches processed for epoch 23\n",
            "All batches processed for epoch 24\n",
            "All batches processed for epoch 25\n",
            "All batches processed for epoch 26\n",
            "All batches processed for epoch 27\n",
            "All batches processed for epoch 28\n",
            "All batches processed for epoch 29\n",
            "All batches processed for epoch 30\n",
            "All batches processed for epoch 31\n",
            "All batches processed for epoch 32\n",
            "All batches processed for epoch 33\n",
            "All batches processed for epoch 34\n",
            "All batches processed for epoch 35\n",
            "All batches processed for epoch 36\n",
            "All batches processed for epoch 37\n",
            "All batches processed for epoch 38\n",
            "All batches processed for epoch 39\n",
            "All batches processed for epoch 40\n",
            "All batches processed for epoch 41\n",
            "All batches processed for epoch 42\n",
            "All batches processed for epoch 43\n",
            "All batches processed for epoch 44\n",
            "All batches processed for epoch 45\n",
            "All batches processed for epoch 46\n",
            "All batches processed for epoch 47\n",
            "All batches processed for epoch 48\n",
            "All batches processed for epoch 49\n",
            "All batches processed for epoch 50\n",
            "All batches processed for epoch 51\n",
            "All batches processed for epoch 52\n",
            "All batches processed for epoch 53\n",
            "All batches processed for epoch 54\n",
            "All batches processed for epoch 55\n",
            "All batches processed for epoch 56\n",
            "All batches processed for epoch 57\n",
            "All batches processed for epoch 58\n",
            "All batches processed for epoch 59\n",
            "All batches processed for epoch 60\n",
            "All batches processed for epoch 61\n",
            "All batches processed for epoch 62\n",
            "All batches processed for epoch 63\n",
            "All batches processed for epoch 64\n",
            "All batches processed for epoch 65\n",
            "All batches processed for epoch 66\n",
            "All batches processed for epoch 67\n",
            "All batches processed for epoch 68\n",
            "All batches processed for epoch 69\n",
            "All batches processed for epoch 70\n",
            "All batches processed for epoch 71\n",
            "All batches processed for epoch 72\n",
            "All batches processed for epoch 73\n",
            "All batches processed for epoch 74\n",
            "All batches processed for epoch 75\n",
            "All batches processed for epoch 76\n",
            "All batches processed for epoch 77\n",
            "All batches processed for epoch 78\n",
            "All batches processed for epoch 79\n",
            "All batches processed for epoch 80\n",
            "All batches processed for epoch 81\n",
            "All batches processed for epoch 82\n",
            "All batches processed for epoch 83\n",
            "All batches processed for epoch 84\n",
            "All batches processed for epoch 85\n",
            "All batches processed for epoch 86\n",
            "All batches processed for epoch 87\n",
            "All batches processed for epoch 88\n",
            "All batches processed for epoch 89\n",
            "All batches processed for epoch 90\n",
            "All batches processed for epoch 91\n",
            "All batches processed for epoch 92\n",
            "All batches processed for epoch 93\n",
            "All batches processed for epoch 94\n",
            "All batches processed for epoch 95\n",
            "All batches processed for epoch 96\n",
            "All batches processed for epoch 97\n",
            "All batches processed for epoch 98\n",
            "All batches processed for epoch 99\n",
            "All batches processed for epoch 100\n",
            "All batches processed for epoch 101\n",
            "All batches processed for epoch 102\n",
            "All batches processed for epoch 103\n",
            "All batches processed for epoch 104\n",
            "All batches processed for epoch 105\n",
            "All batches processed for epoch 106\n",
            "All batches processed for epoch 107\n",
            "All batches processed for epoch 108\n",
            "All batches processed for epoch 109\n",
            "All batches processed for epoch 110\n",
            "All batches processed for epoch 111\n",
            "All batches processed for epoch 112\n",
            "All batches processed for epoch 113\n",
            "All batches processed for epoch 114\n",
            "All batches processed for epoch 115\n",
            "All batches processed for epoch 116\n",
            "All batches processed for epoch 117\n",
            "All batches processed for epoch 118\n",
            "All batches processed for epoch 119\n",
            "All batches processed for epoch 120\n",
            "All batches processed for epoch 121\n",
            "All batches processed for epoch 122\n",
            "All batches processed for epoch 123\n",
            "All batches processed for epoch 124\n",
            "All batches processed for epoch 125\n",
            "All batches processed for epoch 126\n",
            "All batches processed for epoch 127\n",
            "All batches processed for epoch 128\n",
            "All batches processed for epoch 129\n",
            "All batches processed for epoch 130\n",
            "All batches processed for epoch 131\n",
            "All batches processed for epoch 132\n",
            "All batches processed for epoch 133\n",
            "All batches processed for epoch 134\n",
            "All batches processed for epoch 135\n",
            "All batches processed for epoch 136\n",
            "All batches processed for epoch 137\n",
            "All batches processed for epoch 138\n",
            "All batches processed for epoch 139\n",
            "All batches processed for epoch 140\n",
            "All batches processed for epoch 141\n",
            "All batches processed for epoch 142\n",
            "All batches processed for epoch 143\n",
            "All batches processed for epoch 144\n",
            "All batches processed for epoch 145\n",
            "All batches processed for epoch 146\n",
            "All batches processed for epoch 147\n",
            "All batches processed for epoch 148\n",
            "All batches processed for epoch 149\n",
            "All batches processed for epoch 150\n",
            "All batches processed for epoch 151\n",
            "All batches processed for epoch 152\n",
            "All batches processed for epoch 153\n",
            "All batches processed for epoch 154\n",
            "All batches processed for epoch 155\n",
            "All batches processed for epoch 156\n",
            "All batches processed for epoch 157\n",
            "All batches processed for epoch 158\n",
            "All batches processed for epoch 159\n",
            "All batches processed for epoch 160\n",
            "All batches processed for epoch 161\n",
            "All batches processed for epoch 162\n",
            "All batches processed for epoch 163\n",
            "All batches processed for epoch 164\n",
            "All batches processed for epoch 165\n",
            "All batches processed for epoch 166\n",
            "All batches processed for epoch 167\n",
            "All batches processed for epoch 168\n",
            "All batches processed for epoch 169\n",
            "All batches processed for epoch 170\n",
            "All batches processed for epoch 171\n",
            "All batches processed for epoch 172\n",
            "All batches processed for epoch 173\n",
            "All batches processed for epoch 174\n",
            "All batches processed for epoch 175\n",
            "All batches processed for epoch 176\n",
            "All batches processed for epoch 177\n",
            "All batches processed for epoch 178\n",
            "All batches processed for epoch 179\n",
            "All batches processed for epoch 180\n",
            "All batches processed for epoch 181\n",
            "All batches processed for epoch 182\n",
            "All batches processed for epoch 183\n",
            "All batches processed for epoch 184\n",
            "All batches processed for epoch 185\n",
            "All batches processed for epoch 186\n",
            "All batches processed for epoch 187\n",
            "All batches processed for epoch 188\n",
            "All batches processed for epoch 189\n",
            "All batches processed for epoch 190\n",
            "All batches processed for epoch 191\n",
            "All batches processed for epoch 192\n",
            "All batches processed for epoch 193\n",
            "All batches processed for epoch 194\n",
            "All batches processed for epoch 195\n",
            "All batches processed for epoch 196\n",
            "All batches processed for epoch 197\n",
            "All batches processed for epoch 198\n",
            "All batches processed for epoch 199\n",
            "All batches processed for epoch 200\n",
            "All batches processed for epoch 201\n",
            "All batches processed for epoch 202\n",
            "All batches processed for epoch 203\n",
            "All batches processed for epoch 204\n",
            "All batches processed for epoch 205\n",
            "All batches processed for epoch 206\n",
            "All batches processed for epoch 207\n",
            "All batches processed for epoch 208\n",
            "All batches processed for epoch 209\n",
            "All batches processed for epoch 210\n",
            "All batches processed for epoch 211\n",
            "All batches processed for epoch 212\n",
            "All batches processed for epoch 213\n",
            "All batches processed for epoch 214\n",
            "All batches processed for epoch 215\n",
            "All batches processed for epoch 216\n",
            "All batches processed for epoch 217\n",
            "All batches processed for epoch 218\n",
            "All batches processed for epoch 219\n",
            "All batches processed for epoch 220\n",
            "All batches processed for epoch 221\n",
            "All batches processed for epoch 222\n",
            "All batches processed for epoch 223\n",
            "All batches processed for epoch 224\n",
            "All batches processed for epoch 225\n",
            "All batches processed for epoch 226\n",
            "All batches processed for epoch 227\n",
            "All batches processed for epoch 228\n",
            "All batches processed for epoch 229\n",
            "All batches processed for epoch 230\n",
            "All batches processed for epoch 231\n",
            "All batches processed for epoch 232\n",
            "All batches processed for epoch 233\n",
            "All batches processed for epoch 234\n",
            "All batches processed for epoch 235\n",
            "All batches processed for epoch 236\n",
            "All batches processed for epoch 237\n",
            "All batches processed for epoch 238\n",
            "All batches processed for epoch 239\n",
            "All batches processed for epoch 240\n",
            "All batches processed for epoch 241\n",
            "All batches processed for epoch 242\n",
            "All batches processed for epoch 243\n",
            "All batches processed for epoch 244\n",
            "All batches processed for epoch 245\n",
            "All batches processed for epoch 246\n",
            "All batches processed for epoch 247\n",
            "All batches processed for epoch 248\n",
            "All batches processed for epoch 249\n",
            "All batches processed for epoch 250\n",
            "Training completed. Plotting the loss\n"
          ]
        },
        {
          "output_type": "display_data",
          "data": {
            "text/plain": [
              "<Figure size 1500x700 with 1 Axes>"
            ],
            "image/png": "[encoded data removed]"
          },
          "metadata": {}
        }
      ]
    },
    {
      "cell_type": "markdown",
      "source": [
        "#### Neural net testing"
      ],
      "metadata": {
        "id": "DncHT1Tf4IYf"
      }
    },
    {
      "cell_type": "code",
      "source": [
        "for layer in range(layers):\n",
        "    print(f'Weights shape: {ffmodel.weights[layer].shape}\\nBias Shape: {ffmodel.bias[layer].shape}')\n",
        "print(f'Weights shape: {ffmodel.weights[-1].shape}\\nBias Shape: {ffmodel.bias[-1].shape}')"
      ],
      "metadata": {
        "colab": {
          "base_uri": "https://localhost:8080/"
        },
        "id": "Su1sxDX4YxpO",
        "outputId": "a111c837-ae88-427a-ce73-c66a803ce47d"
      },
      "execution_count": null,
      "outputs": [
        {
          "output_type": "stream",
          "name": "stdout",
          "text": [
            "Weights shape: (10, 4)\n",
            "Bias Shape: (128, 4)\n",
            "Weights shape: (4, 3)\n",
            "Bias Shape: (128, 3)\n",
            "Weights shape: (3, 3)\n",
            "Bias Shape: (128, 3)\n",
            "Weights shape: (3, 4)\n",
            "Bias Shape: (128, 4)\n",
            "Weights shape: (4, 5)\n",
            "Bias Shape: (128, 5)\n"
          ]
        }
      ]
    },
    {
      "cell_type": "code",
      "source": [
        "test_keys = [str(x)+\"_\"+str(y) for x in range(1,10) for y in range(1,129)]"
      ],
      "metadata": {
        "id": "4QRzbs6Ii3SX"
      },
      "execution_count": 4,
      "outputs": []
    },
    {
      "cell_type": "code",
      "source": [
        "test_values = np.round(np.random.rand(len(test_keys)),2)"
      ],
      "metadata": {
        "id": "tOx3pX7pjD_n"
      },
      "execution_count": 10,
      "outputs": []
    },
    {
      "cell_type": "code",
      "source": [
        "test_dict = dict(zip(test_keys,test_values))"
      ],
      "metadata": {
        "id": "F97jWQkulFtP"
      },
      "execution_count": 11,
      "outputs": []
    },
    {
      "cell_type": "code",
      "source": [
        "test_dict1 = {'1_0':1.8,'1_1':1.4,'1_2':1.25,'2_0':1.10,'2_1':0.95,'2_2':0.8}"
      ],
      "metadata": {
        "id": "AI5mhghxerI4"
      },
      "execution_count": null,
      "outputs": []
    },
    {
      "cell_type": "code",
      "source": [
        "plt.figure(figsize=(15,7))\n",
        "plt.scatter(test_dict.keys(),test_dict.values())\n",
        "plt.xticks(np.arange(0,len(test_dict.keys()),128))"
      ],
      "metadata": {
        "colab": {
          "base_uri": "https://localhost:8080/",
          "height": 911
        },
        "id": "BcxuOv2T-XZG",
        "outputId": "fcb4a806-f351-4b24-8b2b-8d21390c3bba"
      },
      "execution_count": 14,
      "outputs": [
        {
          "output_type": "execute_result",
          "data": {
            "text/plain": [
              "([<matplotlib.axis.XTick at 0x7f1071d0a9b0>,\n",
              "  <matplotlib.axis.XTick at 0x7f1071d089d0>,\n",
              "  <matplotlib.axis.XTick at 0x7f106fc0e8c0>,\n",
              "  <matplotlib.axis.XTick at 0x7f106f2b2e30>,\n",
              "  <matplotlib.axis.XTick at 0x7f106f2b32b0>,\n",
              "  <matplotlib.axis.XTick at 0x7f106f792e30>,\n",
              "  <matplotlib.axis.XTick at 0x7f106f790310>,\n",
              "  <matplotlib.axis.XTick at 0x7f1071cb3c40>,\n",
              "  <matplotlib.axis.XTick at 0x7f106f792a70>],\n",
              " [Text(0, 0, '1_1'),\n",
              "  Text(128, 0, '2_1'),\n",
              "  Text(256, 0, '3_1'),\n",
              "  Text(384, 0, '4_1'),\n",
              "  Text(512, 0, '5_1'),\n",
              "  Text(640, 0, '6_1'),\n",
              "  Text(768, 0, '7_1'),\n",
              "  Text(896, 0, '8_1'),\n",
              "  Text(1024, 0, '9_1')])"
            ]
          },
          "metadata": {},
          "execution_count": 14
        },
        {
          "output_type": "display_data",
          "data": {
            "text/plain": [
              "<Figure size 1500x700 with 1 Axes>"
            ],
            "image/png": "[encoded data removed]"
          },
          "metadata": {}
        }
      ]
    },
    {
      "cell_type": "code",
      "source": [],
      "metadata": {
        "id": "4uFgfPmwHMtK"
      },
      "execution_count": null,
      "outputs": []
    }
  ]
}