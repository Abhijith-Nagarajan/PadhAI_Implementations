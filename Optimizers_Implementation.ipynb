{
  "nbformat": 4,
  "nbformat_minor": 0,
  "metadata": {
    "colab": {
      "provenance": [],
      "gpuType": "T4",
      "authorship_tag": "ABX9TyOlGtSpVcMuBs//wsYi1g4s",
      "include_colab_link": true
    },
    "kernelspec": {
      "name": "python3",
      "display_name": "Python 3"
    },
    "language_info": {
      "name": "python"
    },
    "widgets": {
      "application/vnd.jupyter.widget-state+json": {
        "74090dda3cbb49d39b69ab7affe0009c": {
          "model_module": "@jupyter-widgets/controls",
          "model_name": "HBoxModel",
          "model_module_version": "1.5.0",
          "state": {
            "_dom_classes": [],
            "_model_module": "@jupyter-widgets/controls",
            "_model_module_version": "1.5.0",
            "_model_name": "HBoxModel",
            "_view_count": null,
            "_view_module": "@jupyter-widgets/controls",
            "_view_module_version": "1.5.0",
            "_view_name": "HBoxView",
            "box_style": "",
            "children": [
              "IPY_MODEL_3e9a8a5e40aa461188521d88d81b9c65",
              "IPY_MODEL_85bc097b4fae4ee6a9a6e933d1104d40",
              "IPY_MODEL_3b570559b8d94fb498f4a8837f14522a"
            ],
            "layout": "IPY_MODEL_a68329b34760433f9ac3401681defe5d"
          }
        },
        "3e9a8a5e40aa461188521d88d81b9c65": {
          "model_module": "@jupyter-widgets/controls",
          "model_name": "HTMLModel",
          "model_module_version": "1.5.0",
          "state": {
            "_dom_classes": [],
            "_model_module": "@jupyter-widgets/controls",
            "_model_module_version": "1.5.0",
            "_model_name": "HTMLModel",
            "_view_count": null,
            "_view_module": "@jupyter-widgets/controls",
            "_view_module_version": "1.5.0",
            "_view_name": "HTMLView",
            "description": "",
            "description_tooltip": null,
            "layout": "IPY_MODEL_31d08e355a3a4628971184eaaf43cd04",
            "placeholder": "​",
            "style": "IPY_MODEL_caf278ccd6a74ffc92a025d083b6cdc8",
            "value": "Epochs: 100%"
          }
        },
        "85bc097b4fae4ee6a9a6e933d1104d40": {
          "model_module": "@jupyter-widgets/controls",
          "model_name": "FloatProgressModel",
          "model_module_version": "1.5.0",
          "state": {
            "_dom_classes": [],
            "_model_module": "@jupyter-widgets/controls",
            "_model_module_version": "1.5.0",
            "_model_name": "FloatProgressModel",
            "_view_count": null,
            "_view_module": "@jupyter-widgets/controls",
            "_view_module_version": "1.5.0",
            "_view_name": "ProgressView",
            "bar_style": "success",
            "description": "",
            "description_tooltip": null,
            "layout": "IPY_MODEL_d89582ea22bb45bca301c7fb303d00f5",
            "max": 1000,
            "min": 0,
            "orientation": "horizontal",
            "style": "IPY_MODEL_f0f522f7877940b8905dc19a4bc32e24",
            "value": 1000
          }
        },
        "3b570559b8d94fb498f4a8837f14522a": {
          "model_module": "@jupyter-widgets/controls",
          "model_name": "HTMLModel",
          "model_module_version": "1.5.0",
          "state": {
            "_dom_classes": [],
            "_model_module": "@jupyter-widgets/controls",
            "_model_module_version": "1.5.0",
            "_model_name": "HTMLModel",
            "_view_count": null,
            "_view_module": "@jupyter-widgets/controls",
            "_view_module_version": "1.5.0",
            "_view_name": "HTMLView",
            "description": "",
            "description_tooltip": null,
            "layout": "IPY_MODEL_4ff84032ef134a1d8679a12fdbf4f999",
            "placeholder": "​",
            "style": "IPY_MODEL_6d8870848605411c9d4b191488af5faf",
            "value": " 1000/1000 [00:00&lt;00:00, 3726.85Epoch/s]"
          }
        },
        "a68329b34760433f9ac3401681defe5d": {
          "model_module": "@jupyter-widgets/base",
          "model_name": "LayoutModel",
          "model_module_version": "1.2.0",
          "state": {
            "_model_module": "@jupyter-widgets/base",
            "_model_module_version": "1.2.0",
            "_model_name": "LayoutModel",
            "_view_count": null,
            "_view_module": "@jupyter-widgets/base",
            "_view_module_version": "1.2.0",
            "_view_name": "LayoutView",
            "align_content": null,
            "align_items": null,
            "align_self": null,
            "border": null,
            "bottom": null,
            "display": null,
            "flex": null,
            "flex_flow": null,
            "grid_area": null,
            "grid_auto_columns": null,
            "grid_auto_flow": null,
            "grid_auto_rows": null,
            "grid_column": null,
            "grid_gap": null,
            "grid_row": null,
            "grid_template_areas": null,
            "grid_template_columns": null,
            "grid_template_rows": null,
            "height": null,
            "justify_content": null,
            "justify_items": null,
            "left": null,
            "margin": null,
            "max_height": null,
            "max_width": null,
            "min_height": null,
            "min_width": null,
            "object_fit": null,
            "object_position": null,
            "order": null,
            "overflow": null,
            "overflow_x": null,
            "overflow_y": null,
            "padding": null,
            "right": null,
            "top": null,
            "visibility": null,
            "width": null
          }
        },
        "31d08e355a3a4628971184eaaf43cd04": {
          "model_module": "@jupyter-widgets/base",
          "model_name": "LayoutModel",
          "model_module_version": "1.2.0",
          "state": {
            "_model_module": "@jupyter-widgets/base",
            "_model_module_version": "1.2.0",
            "_model_name": "LayoutModel",
            "_view_count": null,
            "_view_module": "@jupyter-widgets/base",
            "_view_module_version": "1.2.0",
            "_view_name": "LayoutView",
            "align_content": null,
            "align_items": null,
            "align_self": null,
            "border": null,
            "bottom": null,
            "display": null,
            "flex": null,
            "flex_flow": null,
            "grid_area": null,
            "grid_auto_columns": null,
            "grid_auto_flow": null,
            "grid_auto_rows": null,
            "grid_column": null,
            "grid_gap": null,
            "grid_row": null,
            "grid_template_areas": null,
            "grid_template_columns": null,
            "grid_template_rows": null,
            "height": null,
            "justify_content": null,
            "justify_items": null,
            "left": null,
            "margin": null,
            "max_height": null,
            "max_width": null,
            "min_height": null,
            "min_width": null,
            "object_fit": null,
            "object_position": null,
            "order": null,
            "overflow": null,
            "overflow_x": null,
            "overflow_y": null,
            "padding": null,
            "right": null,
            "top": null,
            "visibility": null,
            "width": null
          }
        },
        "caf278ccd6a74ffc92a025d083b6cdc8": {
          "model_module": "@jupyter-widgets/controls",
          "model_name": "DescriptionStyleModel",
          "model_module_version": "1.5.0",
          "state": {
            "_model_module": "@jupyter-widgets/controls",
            "_model_module_version": "1.5.0",
            "_model_name": "DescriptionStyleModel",
            "_view_count": null,
            "_view_module": "@jupyter-widgets/base",
            "_view_module_version": "1.2.0",
            "_view_name": "StyleView",
            "description_width": ""
          }
        },
        "d89582ea22bb45bca301c7fb303d00f5": {
          "model_module": "@jupyter-widgets/base",
          "model_name": "LayoutModel",
          "model_module_version": "1.2.0",
          "state": {
            "_model_module": "@jupyter-widgets/base",
            "_model_module_version": "1.2.0",
            "_model_name": "LayoutModel",
            "_view_count": null,
            "_view_module": "@jupyter-widgets/base",
            "_view_module_version": "1.2.0",
            "_view_name": "LayoutView",
            "align_content": null,
            "align_items": null,
            "align_self": null,
            "border": null,
            "bottom": null,
            "display": null,
            "flex": null,
            "flex_flow": null,
            "grid_area": null,
            "grid_auto_columns": null,
            "grid_auto_flow": null,
            "grid_auto_rows": null,
            "grid_column": null,
            "grid_gap": null,
            "grid_row": null,
            "grid_template_areas": null,
            "grid_template_columns": null,
            "grid_template_rows": null,
            "height": null,
            "justify_content": null,
            "justify_items": null,
            "left": null,
            "margin": null,
            "max_height": null,
            "max_width": null,
            "min_height": null,
            "min_width": null,
            "object_fit": null,
            "object_position": null,
            "order": null,
            "overflow": null,
            "overflow_x": null,
            "overflow_y": null,
            "padding": null,
            "right": null,
            "top": null,
            "visibility": null,
            "width": null
          }
        },
        "f0f522f7877940b8905dc19a4bc32e24": {
          "model_module": "@jupyter-widgets/controls",
          "model_name": "ProgressStyleModel",
          "model_module_version": "1.5.0",
          "state": {
            "_model_module": "@jupyter-widgets/controls",
            "_model_module_version": "1.5.0",
            "_model_name": "ProgressStyleModel",
            "_view_count": null,
            "_view_module": "@jupyter-widgets/base",
            "_view_module_version": "1.2.0",
            "_view_name": "StyleView",
            "bar_color": null,
            "description_width": ""
          }
        },
        "4ff84032ef134a1d8679a12fdbf4f999": {
          "model_module": "@jupyter-widgets/base",
          "model_name": "LayoutModel",
          "model_module_version": "1.2.0",
          "state": {
            "_model_module": "@jupyter-widgets/base",
            "_model_module_version": "1.2.0",
            "_model_name": "LayoutModel",
            "_view_count": null,
            "_view_module": "@jupyter-widgets/base",
            "_view_module_version": "1.2.0",
            "_view_name": "LayoutView",
            "align_content": null,
            "align_items": null,
            "align_self": null,
            "border": null,
            "bottom": null,
            "display": null,
            "flex": null,
            "flex_flow": null,
            "grid_area": null,
            "grid_auto_columns": null,
            "grid_auto_flow": null,
            "grid_auto_rows": null,
            "grid_column": null,
            "grid_gap": null,
            "grid_row": null,
            "grid_template_areas": null,
            "grid_template_columns": null,
            "grid_template_rows": null,
            "height": null,
            "justify_content": null,
            "justify_items": null,
            "left": null,
            "margin": null,
            "max_height": null,
            "max_width": null,
            "min_height": null,
            "min_width": null,
            "object_fit": null,
            "object_position": null,
            "order": null,
            "overflow": null,
            "overflow_x": null,
            "overflow_y": null,
            "padding": null,
            "right": null,
            "top": null,
            "visibility": null,
            "width": null
          }
        },
        "6d8870848605411c9d4b191488af5faf": {
          "model_module": "@jupyter-widgets/controls",
          "model_name": "DescriptionStyleModel",
          "model_module_version": "1.5.0",
          "state": {
            "_model_module": "@jupyter-widgets/controls",
            "_model_module_version": "1.5.0",
            "_model_name": "DescriptionStyleModel",
            "_view_count": null,
            "_view_module": "@jupyter-widgets/base",
            "_view_module_version": "1.2.0",
            "_view_name": "StyleView",
            "description_width": ""
          }
        },
        "63e4de2d0c094f5d86c07d928e442fb5": {
          "model_module": "@jupyter-widgets/controls",
          "model_name": "HBoxModel",
          "model_module_version": "1.5.0",
          "state": {
            "_dom_classes": [],
            "_model_module": "@jupyter-widgets/controls",
            "_model_module_version": "1.5.0",
            "_model_name": "HBoxModel",
            "_view_count": null,
            "_view_module": "@jupyter-widgets/controls",
            "_view_module_version": "1.5.0",
            "_view_name": "HBoxView",
            "box_style": "",
            "children": [
              "IPY_MODEL_3aff4f77756447ffb72a2a171f899723",
              "IPY_MODEL_99cff14c265b43298a3a997ae6727272",
              "IPY_MODEL_8f11461f047d4c8b9725e9e0b3cee2e5"
            ],
            "layout": "IPY_MODEL_ebeb0e3c4d5b468f9d0290393071ae0e"
          }
        },
        "3aff4f77756447ffb72a2a171f899723": {
          "model_module": "@jupyter-widgets/controls",
          "model_name": "HTMLModel",
          "model_module_version": "1.5.0",
          "state": {
            "_dom_classes": [],
            "_model_module": "@jupyter-widgets/controls",
            "_model_module_version": "1.5.0",
            "_model_name": "HTMLModel",
            "_view_count": null,
            "_view_module": "@jupyter-widgets/controls",
            "_view_module_version": "1.5.0",
            "_view_name": "HTMLView",
            "description": "",
            "description_tooltip": null,
            "layout": "IPY_MODEL_3cc26531092d4723bc7ebd85ddc9b67f",
            "placeholder": "​",
            "style": "IPY_MODEL_3771753d28764ad8b6d28eae2008e8e7",
            "value": "Epochs: 100%"
          }
        },
        "99cff14c265b43298a3a997ae6727272": {
          "model_module": "@jupyter-widgets/controls",
          "model_name": "FloatProgressModel",
          "model_module_version": "1.5.0",
          "state": {
            "_dom_classes": [],
            "_model_module": "@jupyter-widgets/controls",
            "_model_module_version": "1.5.0",
            "_model_name": "FloatProgressModel",
            "_view_count": null,
            "_view_module": "@jupyter-widgets/controls",
            "_view_module_version": "1.5.0",
            "_view_name": "ProgressView",
            "bar_style": "success",
            "description": "",
            "description_tooltip": null,
            "layout": "IPY_MODEL_0e2ea518b57f40549310c048c8622412",
            "max": 1000,
            "min": 0,
            "orientation": "horizontal",
            "style": "IPY_MODEL_afad4dffa21c4ade8abf5e4a5f0e274a",
            "value": 1000
          }
        },
        "8f11461f047d4c8b9725e9e0b3cee2e5": {
          "model_module": "@jupyter-widgets/controls",
          "model_name": "HTMLModel",
          "model_module_version": "1.5.0",
          "state": {
            "_dom_classes": [],
            "_model_module": "@jupyter-widgets/controls",
            "_model_module_version": "1.5.0",
            "_model_name": "HTMLModel",
            "_view_count": null,
            "_view_module": "@jupyter-widgets/controls",
            "_view_module_version": "1.5.0",
            "_view_name": "HTMLView",
            "description": "",
            "description_tooltip": null,
            "layout": "IPY_MODEL_baf743bc8d0e4c2b9463aae2ab3a9d9e",
            "placeholder": "​",
            "style": "IPY_MODEL_08104d131ddd435fa6fb124e7ea3d221",
            "value": " 1000/1000 [00:00&lt;00:00, 2160.42Epoch/s]"
          }
        },
        "ebeb0e3c4d5b468f9d0290393071ae0e": {
          "model_module": "@jupyter-widgets/base",
          "model_name": "LayoutModel",
          "model_module_version": "1.2.0",
          "state": {
            "_model_module": "@jupyter-widgets/base",
            "_model_module_version": "1.2.0",
            "_model_name": "LayoutModel",
            "_view_count": null,
            "_view_module": "@jupyter-widgets/base",
            "_view_module_version": "1.2.0",
            "_view_name": "LayoutView",
            "align_content": null,
            "align_items": null,
            "align_self": null,
            "border": null,
            "bottom": null,
            "display": null,
            "flex": null,
            "flex_flow": null,
            "grid_area": null,
            "grid_auto_columns": null,
            "grid_auto_flow": null,
            "grid_auto_rows": null,
            "grid_column": null,
            "grid_gap": null,
            "grid_row": null,
            "grid_template_areas": null,
            "grid_template_columns": null,
            "grid_template_rows": null,
            "height": null,
            "justify_content": null,
            "justify_items": null,
            "left": null,
            "margin": null,
            "max_height": null,
            "max_width": null,
            "min_height": null,
            "min_width": null,
            "object_fit": null,
            "object_position": null,
            "order": null,
            "overflow": null,
            "overflow_x": null,
            "overflow_y": null,
            "padding": null,
            "right": null,
            "top": null,
            "visibility": null,
            "width": null
          }
        },
        "3cc26531092d4723bc7ebd85ddc9b67f": {
          "model_module": "@jupyter-widgets/base",
          "model_name": "LayoutModel",
          "model_module_version": "1.2.0",
          "state": {
            "_model_module": "@jupyter-widgets/base",
            "_model_module_version": "1.2.0",
            "_model_name": "LayoutModel",
            "_view_count": null,
            "_view_module": "@jupyter-widgets/base",
            "_view_module_version": "1.2.0",
            "_view_name": "LayoutView",
            "align_content": null,
            "align_items": null,
            "align_self": null,
            "border": null,
            "bottom": null,
            "display": null,
            "flex": null,
            "flex_flow": null,
            "grid_area": null,
            "grid_auto_columns": null,
            "grid_auto_flow": null,
            "grid_auto_rows": null,
            "grid_column": null,
            "grid_gap": null,
            "grid_row": null,
            "grid_template_areas": null,
            "grid_template_columns": null,
            "grid_template_rows": null,
            "height": null,
            "justify_content": null,
            "justify_items": null,
            "left": null,
            "margin": null,
            "max_height": null,
            "max_width": null,
            "min_height": null,
            "min_width": null,
            "object_fit": null,
            "object_position": null,
            "order": null,
            "overflow": null,
            "overflow_x": null,
            "overflow_y": null,
            "padding": null,
            "right": null,
            "top": null,
            "visibility": null,
            "width": null
          }
        },
        "3771753d28764ad8b6d28eae2008e8e7": {
          "model_module": "@jupyter-widgets/controls",
          "model_name": "DescriptionStyleModel",
          "model_module_version": "1.5.0",
          "state": {
            "_model_module": "@jupyter-widgets/controls",
            "_model_module_version": "1.5.0",
            "_model_name": "DescriptionStyleModel",
            "_view_count": null,
            "_view_module": "@jupyter-widgets/base",
            "_view_module_version": "1.2.0",
            "_view_name": "StyleView",
            "description_width": ""
          }
        },
        "0e2ea518b57f40549310c048c8622412": {
          "model_module": "@jupyter-widgets/base",
          "model_name": "LayoutModel",
          "model_module_version": "1.2.0",
          "state": {
            "_model_module": "@jupyter-widgets/base",
            "_model_module_version": "1.2.0",
            "_model_name": "LayoutModel",
            "_view_count": null,
            "_view_module": "@jupyter-widgets/base",
            "_view_module_version": "1.2.0",
            "_view_name": "LayoutView",
            "align_content": null,
            "align_items": null,
            "align_self": null,
            "border": null,
            "bottom": null,
            "display": null,
            "flex": null,
            "flex_flow": null,
            "grid_area": null,
            "grid_auto_columns": null,
            "grid_auto_flow": null,
            "grid_auto_rows": null,
            "grid_column": null,
            "grid_gap": null,
            "grid_row": null,
            "grid_template_areas": null,
            "grid_template_columns": null,
            "grid_template_rows": null,
            "height": null,
            "justify_content": null,
            "justify_items": null,
            "left": null,
            "margin": null,
            "max_height": null,
            "max_width": null,
            "min_height": null,
            "min_width": null,
            "object_fit": null,
            "object_position": null,
            "order": null,
            "overflow": null,
            "overflow_x": null,
            "overflow_y": null,
            "padding": null,
            "right": null,
            "top": null,
            "visibility": null,
            "width": null
          }
        },
        "afad4dffa21c4ade8abf5e4a5f0e274a": {
          "model_module": "@jupyter-widgets/controls",
          "model_name": "ProgressStyleModel",
          "model_module_version": "1.5.0",
          "state": {
            "_model_module": "@jupyter-widgets/controls",
            "_model_module_version": "1.5.0",
            "_model_name": "ProgressStyleModel",
            "_view_count": null,
            "_view_module": "@jupyter-widgets/base",
            "_view_module_version": "1.2.0",
            "_view_name": "StyleView",
            "bar_color": null,
            "description_width": ""
          }
        },
        "baf743bc8d0e4c2b9463aae2ab3a9d9e": {
          "model_module": "@jupyter-widgets/base",
          "model_name": "LayoutModel",
          "model_module_version": "1.2.0",
          "state": {
            "_model_module": "@jupyter-widgets/base",
            "_model_module_version": "1.2.0",
            "_model_name": "LayoutModel",
            "_view_count": null,
            "_view_module": "@jupyter-widgets/base",
            "_view_module_version": "1.2.0",
            "_view_name": "LayoutView",
            "align_content": null,
            "align_items": null,
            "align_self": null,
            "border": null,
            "bottom": null,
            "display": null,
            "flex": null,
            "flex_flow": null,
            "grid_area": null,
            "grid_auto_columns": null,
            "grid_auto_flow": null,
            "grid_auto_rows": null,
            "grid_column": null,
            "grid_gap": null,
            "grid_row": null,
            "grid_template_areas": null,
            "grid_template_columns": null,
            "grid_template_rows": null,
            "height": null,
            "justify_content": null,
            "justify_items": null,
            "left": null,
            "margin": null,
            "max_height": null,
            "max_width": null,
            "min_height": null,
            "min_width": null,
            "object_fit": null,
            "object_position": null,
            "order": null,
            "overflow": null,
            "overflow_x": null,
            "overflow_y": null,
            "padding": null,
            "right": null,
            "top": null,
            "visibility": null,
            "width": null
          }
        },
        "08104d131ddd435fa6fb124e7ea3d221": {
          "model_module": "@jupyter-widgets/controls",
          "model_name": "DescriptionStyleModel",
          "model_module_version": "1.5.0",
          "state": {
            "_model_module": "@jupyter-widgets/controls",
            "_model_module_version": "1.5.0",
            "_model_name": "DescriptionStyleModel",
            "_view_count": null,
            "_view_module": "@jupyter-widgets/base",
            "_view_module_version": "1.2.0",
            "_view_name": "StyleView",
            "description_width": ""
          }
        }
      }
    }
  },
  "cells": [
    {
      "cell_type": "markdown",
      "metadata": {
        "id": "view-in-github",
        "colab_type": "text"
      },
      "source": [
        "<a href=\"https://colab.research.google.com/github/Abhijith-Nagarajan/PadhAI_Implementations/blob/main/Optimizers_Implementation.ipynb\" target=\"_parent\"><img src=\"https://colab.research.google.com/assets/colab-badge.svg\" alt=\"Open In Colab\"/></a>"
      ]
    },
    {
      "cell_type": "markdown",
      "source": [
        "<h2> The purpose of this notebook is understand optimization algorithms by building them from scratch</h2>\n",
        "\n",
        "<b> Optimizers to implement </b>\n",
        "1.   Momentum based gradient descent\n",
        "2.   Nestarov Accelerated gradient descent\n",
        "3.   Adagrad\n",
        "4.   RMSProp\n",
        "5.   Adam\n",
        "\n",
        "<b> Similarly, the weights will be updated in two ways:</b>\n",
        "1.   Mini-batch GD\n",
        "2.   Stochastic GD\n",
        "\n",
        "\n"
      ],
      "metadata": {
        "id": "NugkVLyhVEh7"
      }
    },
    {
      "cell_type": "code",
      "source": [
        "import pandas as pd\n",
        "import numpy as np\n",
        "import matplotlib.pyplot as plt\n",
        "from sklearn import datasets,preprocessing,model_selection, metrics\n",
        "import warnings\n",
        "from tqdm import tqdm_notebook"
      ],
      "metadata": {
        "id": "uNqKdZT2rfcN"
      },
      "execution_count": 1,
      "outputs": []
    },
    {
      "cell_type": "code",
      "source": [
        "warnings.filterwarnings('ignore')"
      ],
      "metadata": {
        "id": "Q-xszElHu3cd"
      },
      "execution_count": 2,
      "outputs": []
    },
    {
      "cell_type": "code",
      "source": [
        "np.random.seed(0)"
      ],
      "metadata": {
        "id": "Iq5pYjmHRzSf"
      },
      "execution_count": 43,
      "outputs": []
    },
    {
      "cell_type": "code",
      "source": [
        "# For linear data\n",
        "X_sg = np.array([[1,2,3,4,5],[-1,-2,-3,-4,-5],[0,0.2,0.4,0.6,1],[1,3,5,7,9],[2,3,4,5,6],[2,1,3,4,2],[-3,0,1,4,2],[1,0,4,1,5],[0,0,1,5,3]])\n",
        "Y_sg = np.array([0.2,0.4,0.65,0.81,0.99,0.71,0.8,0.84,0.40])"
      ],
      "metadata": {
        "id": "5VpBDWTGKygM"
      },
      "execution_count": 49,
      "outputs": []
    },
    {
      "cell_type": "code",
      "execution_count": 45,
      "metadata": {
        "id": "GG40-_JHU_8q"
      },
      "outputs": [],
      "source": [
        "class Sigmoid_Neuron_Updated:\n",
        "    def __init__(self,X,loss_function,optimizer='Adam',update_method='mini_batch_GD'):\n",
        "        self.weights = np.random.randn(X.shape[1])\n",
        "        self.v_w, self.v_b = np.zeros(X.shape[1]), np.zeros(X.shape[1])\n",
        "        self.bias = np.random.randn()\n",
        "        self.loss_function = loss_function\n",
        "        self.optimizer = optimizer\n",
        "\n",
        "        match update_method:\n",
        "            case \"batch_GD\":\n",
        "                self.size_of_batch = X.shape(0)\n",
        "            case \"mini_batch_GD\":\n",
        "                self.size_of_batch = 2\n",
        "            case \"stochastic_GD\":\n",
        "                self.size_of_batch = 1\n",
        "\n",
        "        self.update_method = update_method\n",
        "        print('Initialization has been completed.')\n",
        "\n",
        "    def fit(self,X,Y,lr,epochs):\n",
        "        match self.optimizer:\n",
        "            case \"GD\":\n",
        "                print('Invoking gradient descent flow.')\n",
        "                self.gradient_descent(X,Y,lr,epochs)\n",
        "\n",
        "            case 'Momentum_GD':\n",
        "                print('Invoking momentum gradient descent flow.')\n",
        "                self.momentum_gradient_descent(X,Y,lr,epochs)\n",
        "\n",
        "            case 'NAG':\n",
        "                print('Invoking Nestarov Accelerated gradient descent flow.')\n",
        "                self.momentum_gradient_descent(X,Y,lr,epochs)\n",
        "\n",
        "    def sigmoid_operation(self,x):\n",
        "        return 1.0/(1.0+np.exp(-1*(np.dot(x,self.weights.T)+self.bias)))\n",
        "\n",
        "    def grad_w(self,x,y,y_pred):\n",
        "        return (y_pred-y)*(y_pred*x*(1-y_pred)) if self.loss_function == 'MSE' else x*(y-y_pred)\n",
        "\n",
        "    def grad_b(self,y,y_pred):\n",
        "        return (y_pred-y)*(y_pred*(1-y_pred)) if self.loss_function == 'MSE' else (y-y_pred)\n",
        "\n",
        "    def plot_loss_vs_epoch(self,loss:dict):\n",
        "        print(f'Plotting Loss vs Epoch for {self.optimizer}')\n",
        "        plt.figure(figsize=(15,6))\n",
        "        plt.scatter(loss.keys(),loss.values())\n",
        "        plt.plot(loss.keys(),loss.values())\n",
        "        plt.xlabel('Epoch')\n",
        "        plt.ylabel('Loss')\n",
        "        plt.title(f'Loss vs Epoch for {self.optimizer}')\n",
        "\n",
        "    def gradient_descent(self,X,Y,lr,epochs):\n",
        "        print('Starting Gradient Descent execution')\n",
        "        loss_dict = dict()\n",
        "        for epoch in tqdm_notebook(range(epochs),desc='Epochs',unit='Epoch'):\n",
        "            dw, db = 0,0\n",
        "            loss = 0\n",
        "            count = 0\n",
        "            for x,y in zip(X,Y):\n",
        "                y_pred = self.sigmoid_operation(x)\n",
        "                dw += self.grad_w(x,y,y_pred)\n",
        "                db += self.grad_b(y,y_pred)\n",
        "                loss +=  (y-y_pred)**2 if self.loss_function == 'MSE' else y*np.log(y_pred)\n",
        "                count+=1\n",
        "                if count%self.size_of_batch==0:\n",
        "                    self.weights -= lr*dw\n",
        "                    self.bias -= lr*db\n",
        "                    dw,db = 0,0\n",
        "\n",
        "            loss_dict[epoch+1] = loss\n",
        "        self.plot_loss_vs_epoch(loss_dict)\n",
        "\n",
        "    def momentum_gradient_descent(self,X,Y,lr,epochs):\n",
        "        loss_dict = dict()\n",
        "        for epoch in tqdm_notebook(range(epochs),desc='Epochs',unit='Epoch'):\n",
        "            dw, db = 0,0\n",
        "            loss = 0\n",
        "            count = 0\n",
        "            for x,y in zip(X,Y):\n",
        "                y_pred = self.sigmoid_operation(x)\n",
        "                dw += self.grad_w(x,y,y_pred)\n",
        "                db += self.grad_b(y,y_pred)\n",
        "                loss += (y-y_pred)**2 if self.loss_function == 'MSE' else y*np.log(y_pred)\n",
        "                count+=1\n",
        "                if count%self.size_of_batch==0:\n",
        "                    self.weights -= lr*dw\n",
        "                    self.bias -= lr*db\n",
        "                    dw, db = 0,0\n",
        "            loss_dict[epoch+1] = loss\n",
        "        self.plot_loss_vs_epoch(loss_dict)\n",
        "\n",
        "    def momentum_gradient_descent(self,X,Y,lr,epochs):\n",
        "        loss_dict = dict()\n",
        "        for epoch in tqdm_notebook(range(epochs),desc='Epochs',unit='Epoch'):\n",
        "            dw, db = 0,0\n",
        "            loss = 0\n",
        "            count = 0\n",
        "            for x,y in zip(X,Y):\n",
        "                y_pred = self.sigmoid_operation(x)\n",
        "                dw += self.grad_w(x,y,y_pred)\n",
        "                db += self.grad_b(y,y_pred)\n",
        "                loss += (y-y_pred)**2 if self.loss_function == 'MSE' else y*np.log(y_pred)\n",
        "                count+=1\n",
        "                if count%self.size_of_batch==0:\n",
        "                    self.weights -= lr*dw\n",
        "                    self.bias -= lr*db\n",
        "                    dw, db = 0,0\n",
        "            loss_dict[epoch+1] = loss\n",
        "        self.plot_loss_vs_epoch(loss_dict)"
      ]
    },
    {
      "cell_type": "code",
      "source": [
        "loss = 'MSE'\n",
        "optimizer = 'GD'"
      ],
      "metadata": {
        "id": "sjpQMGy2lrRa"
      },
      "execution_count": 46,
      "outputs": []
    },
    {
      "cell_type": "code",
      "source": [
        "model = Sigmoid_Neuron_Updated(X_sg,loss,optimizer)"
      ],
      "metadata": {
        "colab": {
          "base_uri": "https://localhost:8080/"
        },
        "id": "tgYHObDclZPt",
        "outputId": "f4296111-4086-49d5-f511-f6d859bdb30f"
      },
      "execution_count": 60,
      "outputs": [
        {
          "output_type": "stream",
          "name": "stdout",
          "text": [
            "Initialization has been completed.\n"
          ]
        }
      ]
    },
    {
      "cell_type": "code",
      "source": [
        "model.fit(X_sg,Y_sg,0.25,1000)"
      ],
      "metadata": {
        "colab": {
          "base_uri": "https://localhost:8080/",
          "height": 648,
          "referenced_widgets": [
            "74090dda3cbb49d39b69ab7affe0009c",
            "3e9a8a5e40aa461188521d88d81b9c65",
            "85bc097b4fae4ee6a9a6e933d1104d40",
            "3b570559b8d94fb498f4a8837f14522a",
            "a68329b34760433f9ac3401681defe5d",
            "31d08e355a3a4628971184eaaf43cd04",
            "caf278ccd6a74ffc92a025d083b6cdc8",
            "d89582ea22bb45bca301c7fb303d00f5",
            "f0f522f7877940b8905dc19a4bc32e24",
            "4ff84032ef134a1d8679a12fdbf4f999",
            "6d8870848605411c9d4b191488af5faf"
          ]
        },
        "id": "gE2MsOb7l51e",
        "outputId": "624c9d27-9b0f-4abc-fa99-703b3d9840e5"
      },
      "execution_count": 61,
      "outputs": [
        {
          "output_type": "stream",
          "name": "stdout",
          "text": [
            "Invoking gradient descent flow.\n",
            "Starting Gradient Descent execution\n"
          ]
        },
        {
          "output_type": "display_data",
          "data": {
            "text/plain": [
              "Epochs:   0%|          | 0/1000 [00:00<?, ?Epoch/s]"
            ],
            "application/vnd.jupyter.widget-view+json": {
              "version_major": 2,
              "version_minor": 0,
              "model_id": "74090dda3cbb49d39b69ab7affe0009c"
            }
          },
          "metadata": {}
        },
        {
          "output_type": "stream",
          "name": "stdout",
          "text": [
            "Plotting Loss vs Epoch for GD\n"
          ]
        },
        {
          "output_type": "display_data",
          "data": {
            "text/plain": [
              "<Figure size 1500x600 with 1 Axes>"
            ],
            "image/png": "[encoded data removed]"
          },
          "metadata": {}
        }
      ]
    },
    {
      "cell_type": "code",
      "source": [
        "momentum_model = Sigmoid_Neuron_Updated(X_sg,loss,'Momentum_GD')"
      ],
      "metadata": {
        "colab": {
          "base_uri": "https://localhost:8080/"
        },
        "id": "mZRIvUS0SjY1",
        "outputId": "9c1e50e0-ad9f-495f-bd51-ad71c50e1210"
      },
      "execution_count": 62,
      "outputs": [
        {
          "output_type": "stream",
          "name": "stdout",
          "text": [
            "Initialization has been completed.\n"
          ]
        }
      ]
    },
    {
      "cell_type": "code",
      "source": [
        "momentum_model.fit(X_sg,Y_sg,0.25,1000)"
      ],
      "metadata": {
        "colab": {
          "base_uri": "https://localhost:8080/",
          "height": 631,
          "referenced_widgets": [
            "63e4de2d0c094f5d86c07d928e442fb5",
            "3aff4f77756447ffb72a2a171f899723",
            "99cff14c265b43298a3a997ae6727272",
            "8f11461f047d4c8b9725e9e0b3cee2e5",
            "ebeb0e3c4d5b468f9d0290393071ae0e",
            "3cc26531092d4723bc7ebd85ddc9b67f",
            "3771753d28764ad8b6d28eae2008e8e7",
            "0e2ea518b57f40549310c048c8622412",
            "afad4dffa21c4ade8abf5e4a5f0e274a",
            "baf743bc8d0e4c2b9463aae2ab3a9d9e",
            "08104d131ddd435fa6fb124e7ea3d221"
          ]
        },
        "id": "U64ORpNESj42",
        "outputId": "da75718e-3898-4124-898c-6685f6b359a2"
      },
      "execution_count": 63,
      "outputs": [
        {
          "output_type": "stream",
          "name": "stdout",
          "text": [
            "Invoking momentum gradient descent flow.\n"
          ]
        },
        {
          "output_type": "display_data",
          "data": {
            "text/plain": [
              "Epochs:   0%|          | 0/1000 [00:00<?, ?Epoch/s]"
            ],
            "application/vnd.jupyter.widget-view+json": {
              "version_major": 2,
              "version_minor": 0,
              "model_id": "63e4de2d0c094f5d86c07d928e442fb5"
            }
          },
          "metadata": {}
        },
        {
          "output_type": "stream",
          "name": "stdout",
          "text": [
            "Plotting Loss vs Epoch for Momentum_GD\n"
          ]
        },
        {
          "output_type": "display_data",
          "data": {
            "text/plain": [
              "<Figure size 1500x600 with 1 Axes>"
            ],
            "image/png": "[encoded data removed]"
          },
          "metadata": {}
        }
      ]
    },
    {
      "cell_type": "code",
      "source": [
        "# For non-linear data\n",
        "X,Y = datasets.make_blobs(n_samples=100000,n_features=10,centers=2)"
      ],
      "metadata": {
        "id": "krTMRKLRvKng"
      },
      "execution_count": 36,
      "outputs": []
    },
    {
      "cell_type": "markdown",
      "source": [
        "Converting the first and second features into sparse data"
      ],
      "metadata": {
        "id": "9E9SkWje0vG3"
      }
    },
    {
      "cell_type": "code",
      "source": [
        "X[:90000,0] = 0\n",
        "X[90001:,0] = 1\n",
        "\n",
        "X[:90000,1] = 0\n",
        "X[90001:,1] = 1"
      ],
      "metadata": {
        "id": "giPwPNhSw_PP"
      },
      "execution_count": 37,
      "outputs": []
    },
    {
      "cell_type": "code",
      "source": [
        "np.random.shuffle(X[0])\n",
        "np.random.shuffle(X[1])"
      ],
      "metadata": {
        "id": "hdTqOWHNxHsH"
      },
      "execution_count": 38,
      "outputs": []
    },
    {
      "cell_type": "code",
      "source": [],
      "metadata": {
        "id": "tsBNuTn2FSqH"
      },
      "execution_count": null,
      "outputs": []
    }
  ]
}