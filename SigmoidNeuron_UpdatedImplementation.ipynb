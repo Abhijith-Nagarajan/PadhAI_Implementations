{
  "nbformat": 4,
  "nbformat_minor": 0,
  "metadata": {
    "colab": {
      "provenance": [],
      "authorship_tag": "ABX9TyMVt+u5nrXlG4vf11Jr8vIf",
      "include_colab_link": true
    },
    "kernelspec": {
      "name": "python3",
      "display_name": "Python 3"
    },
    "language_info": {
      "name": "python"
    }
  },
  "cells": [
    {
      "cell_type": "markdown",
      "metadata": {
        "id": "view-in-github",
        "colab_type": "text"
      },
      "source": [
        "<a href=\"https://colab.research.google.com/github/Abhijith-Nagarajan/PadhAI_Implementations/blob/main/SigmoidNeuron_UpdatedImplementation.ipynb\" target=\"_parent\"><img src=\"https://colab.research.google.com/assets/colab-badge.svg\" alt=\"Open In Colab\"/></a>"
      ]
    },
    {
      "cell_type": "markdown",
      "source": [
        "<h2> The purpose of this notebook is understand optimization algorithms by building them from scratch</h2>\n",
        "\n",
        "<b> Optimizers ro implement </b>\n",
        "1.   Momentum based gradient descent\n",
        "2.   Nestarov Accelerated gradient descent\n",
        "3.   Adagrad\n",
        "4.   RMSProp\n",
        "5.   Adam\n",
        "\n",
        "<b> Similarly, the weights will be updated in two ways:</b>\n",
        "1.   Mini-batch GD\n",
        "2.   Stochastic GD\n",
        "\n",
        "\n"
      ],
      "metadata": {
        "id": "NugkVLyhVEh7"
      }
    },
    {
      "cell_type": "code",
      "execution_count": null,
      "metadata": {
        "id": "GG40-_JHU_8q"
      },
      "outputs": [],
      "source": []
    }
  ]
}